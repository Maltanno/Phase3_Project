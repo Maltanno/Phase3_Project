{
 "cells": [
  {
   "cell_type": "markdown",
   "metadata": {},
   "source": [
    "# Modelling"
   ]
  },
  {
   "cell_type": "markdown",
   "metadata": {
    "heading_collapsed": true
   },
   "source": [
    "## Initiate"
   ]
  },
  {
   "cell_type": "code",
   "execution_count": 55,
   "metadata": {
    "ExecuteTime": {
     "end_time": "2021-02-17T15:29:32.766361Z",
     "start_time": "2021-02-17T15:29:32.757385Z"
    },
    "hidden": true
   },
   "outputs": [],
   "source": [
    "import pandas as pd\n",
    "import numpy as np\n",
    "from sklearn.preprocessing import LabelEncoder as LE\n",
    "from sklearn.model_selection import train_test_split as TTS\n",
    "from sklearn.preprocessing import OneHotEncoder as OHE\n",
    "from sklearn.preprocessing import OrdinalEncoder as OE\n",
    "from sklearn.preprocessing import StandardScaler as SS\n",
    "from sklearn.model_selection import GridSearchCV as GSCV\n",
    "from sklearn.linear_model import LogisticRegression as LR\n",
    "from sklearn.neighbors import KNeighborsClassifier as KNC\n",
    "from mixed_naive_bayes import MixedNB as MNB\n",
    "from sklearn.tree import DecisionTreeClassifier as DTC\n",
    "from sklearn.ensemble import RandomForestClassifier as RFC\n",
    "from sklearn.ensemble import AdaBoostClassifier as ABC\n",
    "from sklearn.ensemble import GradientBoostingClassifier as GBC\n",
    "from sklearn.svm import SVC\n",
    "from sklearn.pipeline import Pipeline as PL\n",
    "\n",
    "from xgboost import XGBClassifier as XGB\n",
    "from category_encoders.target_encoder import TargetEncoder as TE\n",
    "from category_encoders.wrapper import PolynomialWrapper as PW\n",
    "\n",
    "from catboost import CatBoostClassifier as CBC\n",
    "\n",
    "from sklearn.metrics import accuracy_score, precision_score, recall_score, \\\n",
    "f1_score, roc_auc_score, confusion_matrix, classification_report\n",
    "from sklearn.metrics import plot_confusion_matrix as PCM\n",
    "\n",
    "from datetime import datetime as DT\n",
    "import pickle\n",
    "\n",
    "import matplotlib.pyplot as plt"
   ]
  },
  {
   "cell_type": "code",
   "execution_count": 38,
   "metadata": {
    "ExecuteTime": {
     "end_time": "2021-02-16T21:53:53.692469Z",
     "start_time": "2021-02-16T21:53:53.095067Z"
    },
    "hidden": true
   },
   "outputs": [],
   "source": [
    "le = LE()\n",
    "data = pd.read_csv('data/cleaned.csv')\n",
    "X = data.drop('status_group', axis=1)\n",
    "X.drop(col_drop, axis=1, inplace=True)\n",
    "y = le.fit_transform(data.status_group)"
   ]
  },
  {
   "cell_type": "code",
   "execution_count": 50,
   "metadata": {
    "ExecuteTime": {
     "end_time": "2021-02-17T15:23:29.781333Z",
     "start_time": "2021-02-17T15:23:29.769365Z"
    },
    "hidden": true
   },
   "outputs": [],
   "source": [
    "def run_model(model, X=X, cv=3):\n",
    "    results = {}\n",
    "    gscv = GSCV(model['model'], model['grid'], cv=cv, n_jobs=-1, scoring='accuracy')\n",
    "    X_train, X_test, y_train, y_test = TTS(X, y, random_state=22)\n",
    "    t1 = DT.now()\n",
    "    gscv.fit(X_train, y_train)\n",
    "    print('fitted')\n",
    "    t2 = DT.now()\n",
    "    results['train_time'] = t2 - t1\n",
    "    \n",
    "    t1 = DT.now()\n",
    "    y_hat_train = gscv.predict(X_train)\n",
    "    t2 = DT.now()\n",
    "    print('pred1')\n",
    "    \n",
    "    train = {}\n",
    "    train['predict_time'] = t2 - t1\n",
    "    print('predt')\n",
    "    train['acc_train'] = accuracy_score(y_train, y_hat_train)\n",
    "    print('acc')\n",
    "    train['prec_train'] = precision_score(y_train, y_hat_train, average='micro')\n",
    "    print('prec')\n",
    "    train['recall_train'] = recall_score(y_train, y_hat_train, average='micro')\n",
    "    print('rec')\n",
    "    train['f1_train'] = f1_score(y_train, y_hat_train, average='micro')\n",
    "    print('f1')\n",
    "    \n",
    "    print(model['name'], 'train classification report\\n', \n",
    "          classification_report(y_train, y_hat_train))\n",
    "    PCM(gscv, X_train, y_train, normalize='true', cmap='Blues')\n",
    "    \n",
    "    results['train'] = train\n",
    "    \n",
    "    t1 = DT.now()\n",
    "    y_hat_test = gscv.predict(X_test)\n",
    "    t2 = DT.now()\n",
    "    print('pred2')\n",
    "    \n",
    "    test = {}\n",
    "    test['predict_time'] = t2 - t1\n",
    "    test['acc_test'] = accuracy_score(y_test, y_hat_test)\n",
    "    test['prec_test'] = precision_score(y_test, y_hat_test, average='micro')\n",
    "    test['recall_test'] = recall_score(y_test, y_hat_test, average='micro')\n",
    "    test['f1_test'] = f1_score(y_test, y_hat_test, average='micro')\n",
    "    \n",
    "    print(model['name'], 'test classification report\\n', \n",
    "          classification_report(y_test, y_hat_test))\n",
    "    PCM(gscv, X_test, y_test, normalize='true', cmap='Blues')\n",
    "    print('Best Params:\\n', gscv.best_params_)\n",
    "    \n",
    "    results['test'] = test\n",
    "    \n",
    "    return gscv, results"
   ]
  },
  {
   "cell_type": "code",
   "execution_count": 9,
   "metadata": {
    "ExecuteTime": {
     "end_time": "2021-02-16T12:24:28.215546Z",
     "start_time": "2021-02-16T12:24:28.210559Z"
    },
    "hidden": true
   },
   "outputs": [],
   "source": [
    "def pickle_save(item, name):\n",
    "    with open(name + '.pickle', 'wb') as f:\n",
    "        pickle.dump(item, f, pickle.HIGHEST_PROTOCOL)\n",
    "        \n",
    "def pickle_load(name):\n",
    "    with open(name + '.pickle', 'rb') as f:\n",
    "        return pickle.load(f)\n"
   ]
  },
  {
   "cell_type": "markdown",
   "metadata": {
    "hidden": true
   },
   "source": [
    "#### From EDA:"
   ]
  },
  {
   "cell_type": "code",
   "execution_count": 51,
   "metadata": {
    "ExecuteTime": {
     "end_time": "2021-02-17T15:24:02.167400Z",
     "start_time": "2021-02-17T15:24:02.163411Z"
    },
    "cell_style": "center",
    "hidden": true
   },
   "outputs": [],
   "source": [
    "# columns to potentially drop\n",
    "col_drop = ['extraction_type_class', 'extraction_type_group', 'management_group',\n",
    "            'scheme_management','scheme_name', 'payment', 'quality_group', \n",
    "            'quantity_group', 'source_class', 'source_type',\n",
    "            'waterpoint_type_group', 'wpt_name', 'amount_tsh']"
   ]
  },
  {
   "cell_type": "code",
   "execution_count": 52,
   "metadata": {
    "ExecuteTime": {
     "end_time": "2021-02-17T15:24:06.973547Z",
     "start_time": "2021-02-17T15:24:06.967563Z"
    },
    "hidden": true
   },
   "outputs": [],
   "source": [
    "#Keep the first z categories of each categorical feature, replace the rest with 'other'\n",
    "def group(df, z=10):\n",
    "    keep = {}\n",
    "    for col in df.select_dtypes(object):\n",
    "        a = df[col].value_counts()\n",
    "        c = len(a)\n",
    "        if c > z:\n",
    "            keep[col] = a.index[:z]\n",
    "            df.loc[:,col] = df.apply(lambda x: x[col] if x[col] in keep[col] \n",
    "                                     else 'other', axis=1)\n",
    "    return df"
   ]
  },
  {
   "cell_type": "markdown",
   "metadata": {
    "hidden": true
   },
   "source": [
    "Feature category options:   \n",
    "- Raw\n",
    "- Cleaned\n",
    "- (group function) keep the most common: 500, 200, 100, 50, 20 categories\n",
    "- Above features dropped\n",
    "- Target Encoder\n",
    "\n",
    "Balance options:\n",
    "- Do nothing\n",
    "- SMOTE\n",
    "- weight balancing within algorithms\n",
    "\n",
    "Other options:\n",
    "- standard scaler?"
   ]
  },
  {
   "cell_type": "markdown",
   "metadata": {
    "heading_collapsed": true
   },
   "source": [
    "## Models"
   ]
  },
  {
   "cell_type": "code",
   "execution_count": 69,
   "metadata": {
    "ExecuteTime": {
     "end_time": "2021-02-13T21:06:20.665327Z",
     "start_time": "2021-02-13T21:06:03.022424Z"
    },
    "collapsed": true,
    "hidden": true
   },
   "outputs": [
    {
     "name": "stdout",
     "output_type": "stream",
     "text": [
      "fitted\n",
      "pred1\n",
      "predt\n",
      "acc\n",
      "prec\n",
      "rec\n",
      "f1\n"
     ]
    },
    {
     "name": "stderr",
     "output_type": "stream",
     "text": [
      "C:\\Users\\Maltanno\\anaconda3\\envs\\learn-env\\lib\\site-packages\\sklearn\\metrics\\_classification.py:1245: UndefinedMetricWarning: Precision and F-score are ill-defined and being set to 0.0 in labels with no predicted samples. Use `zero_division` parameter to control this behavior.\n",
      "  _warn_prf(average, modifier, msg_start, len(result))\n",
      "C:\\Users\\Maltanno\\anaconda3\\envs\\learn-env\\lib\\site-packages\\sklearn\\metrics\\_classification.py:1245: UndefinedMetricWarning: Precision and F-score are ill-defined and being set to 0.0 in labels with no predicted samples. Use `zero_division` parameter to control this behavior.\n",
      "  _warn_prf(average, modifier, msg_start, len(result))\n",
      "C:\\Users\\Maltanno\\anaconda3\\envs\\learn-env\\lib\\site-packages\\sklearn\\metrics\\_classification.py:1245: UndefinedMetricWarning: Precision and F-score are ill-defined and being set to 0.0 in labels with no predicted samples. Use `zero_division` parameter to control this behavior.\n",
      "  _warn_prf(average, modifier, msg_start, len(result))\n"
     ]
    },
    {
     "name": "stdout",
     "output_type": "stream",
     "text": [
      "testdt train classification report\n",
      "               precision    recall  f1-score   support\n",
      "\n",
      "           0       0.65      0.97      0.78     24272\n",
      "           1       0.00      0.00      0.00      3226\n",
      "           2       0.87      0.43      0.58     17052\n",
      "\n",
      "    accuracy                           0.69     44550\n",
      "   macro avg       0.51      0.47      0.45     44550\n",
      "weighted avg       0.69      0.69      0.65     44550\n",
      "\n",
      "pred2\n",
      "testdt test classification report\n",
      "               precision    recall  f1-score   support\n",
      "\n",
      "           0       0.65      0.97      0.77      7987\n",
      "           1       0.00      0.00      0.00      1091\n",
      "           2       0.88      0.44      0.59      5772\n",
      "\n",
      "    accuracy                           0.69     14850\n",
      "   macro avg       0.51      0.47      0.45     14850\n",
      "weighted avg       0.69      0.69      0.64     14850\n",
      "\n"
     ]
    },
    {
     "name": "stderr",
     "output_type": "stream",
     "text": [
      "C:\\Users\\Maltanno\\anaconda3\\envs\\learn-env\\lib\\site-packages\\sklearn\\metrics\\_classification.py:1245: UndefinedMetricWarning: Precision and F-score are ill-defined and being set to 0.0 in labels with no predicted samples. Use `zero_division` parameter to control this behavior.\n",
      "  _warn_prf(average, modifier, msg_start, len(result))\n",
      "C:\\Users\\Maltanno\\anaconda3\\envs\\learn-env\\lib\\site-packages\\sklearn\\metrics\\_classification.py:1245: UndefinedMetricWarning: Precision and F-score are ill-defined and being set to 0.0 in labels with no predicted samples. Use `zero_division` parameter to control this behavior.\n",
      "  _warn_prf(average, modifier, msg_start, len(result))\n",
      "C:\\Users\\Maltanno\\anaconda3\\envs\\learn-env\\lib\\site-packages\\sklearn\\metrics\\_classification.py:1245: UndefinedMetricWarning: Precision and F-score are ill-defined and being set to 0.0 in labels with no predicted samples. Use `zero_division` parameter to control this behavior.\n",
      "  _warn_prf(average, modifier, msg_start, len(result))\n"
     ]
    },
    {
     "name": "stdout",
     "output_type": "stream",
     "text": [
      "Best Params:\n",
      " {}\n"
     ]
    },
    {
     "data": {
      "image/png": "[encoded data removed]",
      "text/plain": [
       "<Figure size 432x288 with 2 Axes>"
      ]
     },
     "metadata": {
      "needs_background": "light"
     },
     "output_type": "display_data"
    },
    {
     "data": {
      "image/png": "[encoded data removed]",
      "text/plain": [
       "<Figure size 432x288 with 2 Axes>"
      ]
     },
     "metadata": {
      "needs_background": "light"
     },
     "output_type": "display_data"
    }
   ],
   "source": [
    "#Test model\n",
    "pldt = PL([('te', PW(TE())),\n",
    "         ('dtc', DTC(max_depth=2))\n",
    "         ])\n",
    "test = {'name' : 'testdt',\n",
    "      'model' : pldt,\n",
    "      'grid' : {}\n",
    "       }\n",
    "\n",
    "Xa = group(X, z=5)\n",
    "result = run_model(test, X)\n",
    "result[1]"
   ]
  },
  {
   "cell_type": "markdown",
   "metadata": {
    "hidden": true
   },
   "source": [
    "The parameters in the grid have been narrowed down to their current values from a wider range"
   ]
  },
  {
   "cell_type": "markdown",
   "metadata": {
    "ExecuteTime": {
     "end_time": "2021-02-11T16:48:44.532526Z",
     "start_time": "2021-02-11T16:48:44.527539Z"
    },
    "hidden": true
   },
   "source": [
    "### Logistic Regression"
   ]
  },
  {
   "cell_type": "code",
   "execution_count": 8,
   "metadata": {
    "ExecuteTime": {
     "end_time": "2021-02-16T08:33:02.895200Z",
     "start_time": "2021-02-16T08:33:02.888220Z"
    },
    "hidden": true
   },
   "outputs": [],
   "source": [
    "#Logistic Regression\n",
    "pllr = PL([('ohe', OHE(handle_unknown='ignore')),\n",
    "          ('lr', LR(random_state=22, n_jobs=-1))\n",
    "          ])\n",
    "\n",
    "pllrss = PL([('ohe', OHE(handle_unknown='ignore')),\n",
    "            ('ss', SS(with_mean=False)),\n",
    "            ('lr', LR(random_state=22, n_jobs=-1))])\n",
    "\n",
    "lr_grid = {'lr__penalty' : ['l1'],\n",
    "           'lr__C' : [1, 1e4, 1e10],\n",
    "           'lr__class_weight' : [None],\n",
    "           'lr__solver' : ['saga'],\n",
    "           'lr__multi_class' : ['multinomial'],\n",
    "}\n",
    "\n",
    "lr = {'name' : 'lr',\n",
    "      'model' : pllr,\n",
    "      'grid' : lr_grid     \n",
    "     }\n",
    "lrss = {'name' : 'lrss',\n",
    "      'model' : pllrss,\n",
    "      'grid' : lr_grid     \n",
    "     }"
   ]
  },
  {
   "cell_type": "code",
   "execution_count": null,
   "metadata": {
    "ExecuteTime": {
     "end_time": "2021-02-16T08:27:21.715605Z",
     "start_time": "2021-02-16T08:25:52.681707Z"
    },
    "hidden": true
   },
   "outputs": [],
   "source": [
    "lr_result = run_model(lr, X=group(X, 5))\n",
    "pickle_save(lr_result, 'lr')"
   ]
  },
  {
   "cell_type": "code",
   "execution_count": null,
   "metadata": {
    "ExecuteTime": {
     "start_time": "2021-02-16T08:33:05.720Z"
    },
    "hidden": true
   },
   "outputs": [],
   "source": [
    "lrss_result = run_model(lrss, X=group(X, 5))\n",
    "pickle_save(lrss_result, 'lrss')"
   ]
  },
  {
   "cell_type": "markdown",
   "metadata": {
    "hidden": true
   },
   "source": [
    "### K Nearest Neighbors"
   ]
  },
  {
   "cell_type": "code",
   "execution_count": 20,
   "metadata": {
    "ExecuteTime": {
     "end_time": "2021-02-16T21:13:24.940608Z",
     "start_time": "2021-02-16T21:13:24.932630Z"
    },
    "hidden": true
   },
   "outputs": [],
   "source": [
    "#KNN\n",
    "plknc = PL([('ohe', OHE()),\n",
    "            ('knc', KNC(n_jobs=-1))\n",
    "           ])\n",
    "\n",
    "plkncss = PL([('ohe', OHE()),\n",
    "            ('ss', SS(with_mean=False)),\n",
    "            ('knc', KNC())\n",
    "           ])\n",
    "knc_grid = {'knc__n_neighbors' : [8],\n",
    "            'knc__weights' : ['distance'],\n",
    "            'knc__p' : [1],\n",
    "           }\n",
    "#Note for a non-OHE (non-sparse) pipeline, may want to add 'leaf_size' parameter\n",
    "\n",
    "knc = {'name' : 'knc',\n",
    "      'model' : plknc,\n",
    "      'grid' : knc_grid     \n",
    "     }\n",
    "kncss = {'name' : 'kncss',\n",
    "      'model' : plkncss,\n",
    "      'grid' : knc_grid     \n",
    "     }"
   ]
  },
  {
   "cell_type": "code",
   "execution_count": 81,
   "metadata": {
    "ExecuteTime": {
     "end_time": "2021-02-13T21:29:37.959259Z",
     "start_time": "2021-02-13T21:15:53.245384Z"
    },
    "hidden": true,
    "scrolled": true
   },
   "outputs": [
    {
     "name": "stdout",
     "output_type": "stream",
     "text": [
      "fitted\n",
      "pred1\n",
      "predt\n",
      "acc\n",
      "prec\n",
      "rec\n",
      "f1\n",
      "knc train classification report\n",
      "               precision    recall  f1-score   support\n",
      "\n",
      "           0       1.00      1.00      1.00     24272\n",
      "           1       1.00      0.99      0.99      3226\n",
      "           2       1.00      1.00      1.00     17052\n",
      "\n",
      "    accuracy                           1.00     44550\n",
      "   macro avg       1.00      1.00      1.00     44550\n",
      "weighted avg       1.00      1.00      1.00     44550\n",
      "\n",
      "pred2\n",
      "knc test classification report\n",
      "               precision    recall  f1-score   support\n",
      "\n",
      "           0       0.71      0.79      0.75      7987\n",
      "           1       0.47      0.27      0.34      1091\n",
      "           2       0.68      0.63      0.65      5772\n",
      "\n",
      "    accuracy                           0.69     14850\n",
      "   macro avg       0.62      0.56      0.58     14850\n",
      "weighted avg       0.68      0.69      0.68     14850\n",
      "\n",
      "Best Params:\n",
      " {'knc__n_neighbors': 8, 'knc__p': 1, 'knc__weights': 'distance'}\n"
     ]
    },
    {
     "data": {
      "text/plain": [
       "(GridSearchCV(cv=3,\n",
       "              estimator=Pipeline(steps=[('te',\n",
       "                                         PolynomialWrapper(feature_encoder=TargetEncoder())),\n",
       "                                        ('knc',\n",
       "                                         KNeighborsClassifier(n_jobs=-1))]),\n",
       "              n_jobs=-1,\n",
       "              param_grid={'knc__n_neighbors': [6, 7, 8], 'knc__p': [1],\n",
       "                          'knc__weights': ['distance']},\n",
       "              scoring='accuracy'),\n",
       " {'train_time': datetime.timedelta(0, 201, 785699),\n",
       "  'train': {'predict_time': datetime.timedelta(0, 237, 353255),\n",
       "   'acc_train': 0.9986307519640854,\n",
       "   'prec_train': 0.9986307519640854,\n",
       "   'recall_train': 0.9986307519640854,\n",
       "   'f1_train': 0.9986307519640854},\n",
       "  'test': {'predict_time': datetime.timedelta(0, 80, 733098),\n",
       "   'acc_test': 0.6886868686868687,\n",
       "   'prec_test': 0.6886868686868687,\n",
       "   'recall_test': 0.6886868686868687,\n",
       "   'f1_test': 0.6886868686868687}})"
      ]
     },
     "execution_count": 81,
     "metadata": {},
     "output_type": "execute_result"
    },
    {
     "data": {
      "image/png": "[encoded data removed]",
      "text/plain": [
       "<Figure size 432x288 with 2 Axes>"
      ]
     },
     "metadata": {
      "needs_background": "light"
     },
     "output_type": "display_data"
    },
    {
     "data": {
      "image/png": "[encoded data removed]",
      "text/plain": [
       "<Figure size 432x288 with 2 Axes>"
      ]
     },
     "metadata": {
      "needs_background": "light"
     },
     "output_type": "display_data"
    }
   ],
   "source": [
    "knc_result = run_model(knc, X=group(X))\n",
    "pickle_save(knc_result, 'knc')\n",
    "knc_result"
   ]
  },
  {
   "cell_type": "code",
   "execution_count": null,
   "metadata": {
    "ExecuteTime": {
     "end_time": "2021-02-14T17:12:17.660523Z",
     "start_time": "2021-02-13T21:55:01.653Z"
    },
    "hidden": true,
    "scrolled": true
   },
   "outputs": [],
   "source": [
    "kncss_result = run_model(kncss, X=group(X))\n",
    "pickle_save(kncss_result, 'kncss')\n",
    "kncss_result"
   ]
  },
  {
   "cell_type": "markdown",
   "metadata": {
    "hidden": true
   },
   "source": [
    "### Naive Bayes"
   ]
  },
  {
   "cell_type": "code",
   "execution_count": 25,
   "metadata": {
    "ExecuteTime": {
     "end_time": "2021-02-16T21:40:35.539944Z",
     "start_time": "2021-02-16T21:40:34.300262Z"
    },
    "hidden": true
   },
   "outputs": [],
   "source": [
    "#Naive Bayes, mixed\n",
    "Xd = X.copy()\n",
    "cat = Xd.select_dtypes('object').columns\n",
    "cont = Xd.drop(cat, axis=1).columns\n",
    "plmnb = PL([('oe', OE(handle_unknown='use_encoded_value', unknown_value=0)),\n",
    "            ('mnb', MNB(categorical_features=[0, 2, 6, 7, 8, 11, 12, 14, 15, \n",
    "                                              16, 17, 18, 19, 20, 21, 22, 26]))\n",
    "           ])\n",
    "oe = OE()\n",
    "Xnb = pd.DataFrame(oe.fit_transform(Xd[cat]))\n",
    "Xnb = pd.concat([Xnb, Xd[cont]], axis=1)"
   ]
  },
  {
   "cell_type": "code",
   "execution_count": null,
   "metadata": {
    "ExecuteTime": {
     "end_time": "2021-02-16T21:40:39.138322Z",
     "start_time": "2021-02-16T21:40:39.018643Z"
    },
    "hidden": true
   },
   "outputs": [],
   "source": [
    "#for alpha in [250, 275, 300, 325, 350]:\n",
    "#for vs in [1e2, 1e3, 1e4]:\n",
    "\n",
    "#best results found for:\n",
    "alpha = 275\n",
    "vs = 100\n",
    "\n",
    "result = {}\n",
    "mnb = MNB(categorical_features=range(17), alpha=alpha, var_smoothing=vs)\n",
    "X_train, X_test, y_train, y_test = TTS(Xnb, y, random_state=22)\n",
    "t1 = DT.now()\n",
    "mnb.fit(X_train, y_train)\n",
    "print('fitted')\n",
    "t2 = DT.now()\n",
    "result['train_time'] = t2 - t1\n",
    "\n",
    "t1 = DT.now()\n",
    "y_hat_train = mnb.predict(X_train)\n",
    "t2 = DT.now()\n",
    "print('pred1')\n",
    "\n",
    "train = {}\n",
    "train['predict_time'] = t2 - t1\n",
    "#print('predt')\n",
    "train['acc_train'] = accuracy_score(y_train, y_hat_train)\n",
    "#print('acc')\n",
    "train['prec_train'] = precision_score(y_train, y_hat_train, average='micro')\n",
    "#print('prec')\n",
    "train['recall_train'] = recall_score(y_train, y_hat_train, average='micro')\n",
    "#print('rec')\n",
    "train['f1_train'] = f1_score(y_train, y_hat_train, average='micro')\n",
    "#print('f1')\n",
    "\n",
    "print(alpha, vs, train['acc_train'])\n",
    "print(alpha, vs, 'train classification report\\n', \n",
    "      classification_report(y_train, y_hat_train))\n",
    "\n",
    "result['train'] = train\n",
    "\n",
    "t1 = DT.now()\n",
    "y_hat_test = mnb.predict(X_test)\n",
    "t2 = DT.now()\n",
    "print('pred2')\n",
    "\n",
    "test = {}\n",
    "test['predict_time'] = t2 - t1\n",
    "test['acc_test'] = accuracy_score(y_test, y_hat_test)\n",
    "test['prec_test'] = precision_score(y_test, y_hat_test, average='micro')\n",
    "test['recall_test'] = recall_score(y_test, y_hat_test, average='micro')\n",
    "test['f1_test'] = f1_score(y_test, y_hat_test, average='micro')\n",
    "\n",
    "print(alpha, vs, test['acc_test'])\n",
    "print(alpha, vs, 'test classification report\\n', \n",
    "      classification_report(y_test, y_hat_test))\n",
    "\n",
    "result['test'] = test\n",
    "\n",
    "mnb_result = (mnb, result)"
   ]
  },
  {
   "cell_type": "code",
   "execution_count": 52,
   "metadata": {
    "ExecuteTime": {
     "end_time": "2021-02-13T16:12:05.678425Z",
     "start_time": "2021-02-13T16:12:05.667488Z"
    },
    "hidden": true
   },
   "outputs": [],
   "source": [
    "pickle_save(mnb_result, 'mnb')"
   ]
  },
  {
   "cell_type": "markdown",
   "metadata": {
    "hidden": true
   },
   "source": [
    "### Decision Tree"
   ]
  },
  {
   "cell_type": "code",
   "execution_count": null,
   "metadata": {
    "ExecuteTime": {
     "end_time": "2021-02-14T17:12:17.688448Z",
     "start_time": "2021-02-13T21:56:58.973Z"
    },
    "hidden": true
   },
   "outputs": [],
   "source": [
    "#Decision Tree\n",
    "pldtc = PL([('te', PW(TE())),\n",
    "         ('dtc', DTC(random_state=22))\n",
    "         ])\n",
    "dtc_grid = {'dtc__criterion' : ['gini'],\n",
    "            'dtc__max_depth' : [10, 15, 20, 25],\n",
    "            'dtc__min_samples_leaf' : [1],\n",
    "            'dtc__class_weight' : [None]\n",
    "            }\n",
    "dtc = {'name' : 'dtc',\n",
    "      'model' : pldtc,\n",
    "      'grid' : dtc_grid\n",
    "      }\n",
    "#previous best params:\n",
    "# {'dtc__class_weight': None, 'dtc__criterion': 'gini', 'dtc__max_depth': 15, \n",
    "#  'dtc__min_samples_leaf': 1}\n"
   ]
  },
  {
   "cell_type": "code",
   "execution_count": null,
   "metadata": {
    "ExecuteTime": {
     "end_time": "2021-02-14T17:12:17.714380Z",
     "start_time": "2021-02-13T21:57:01.586Z"
    },
    "hidden": true,
    "scrolled": true
   },
   "outputs": [],
   "source": [
    "dtc_result = run_model(dtc, X)\n",
    "dtc_result"
   ]
  },
  {
   "cell_type": "code",
   "execution_count": null,
   "metadata": {
    "ExecuteTime": {
     "end_time": "2021-02-14T17:12:17.760257Z",
     "start_time": "2021-02-13T21:57:10.216Z"
    },
    "hidden": true
   },
   "outputs": [],
   "source": [
    "pickle_save(dtc_result, 'dtc')"
   ]
  },
  {
   "cell_type": "markdown",
   "metadata": {
    "hidden": true
   },
   "source": [
    "### Random Forest"
   ]
  },
  {
   "cell_type": "code",
   "execution_count": null,
   "metadata": {
    "ExecuteTime": {
     "end_time": "2021-02-14T17:12:17.786187Z",
     "start_time": "2021-02-13T21:59:21.033Z"
    },
    "hidden": true
   },
   "outputs": [],
   "source": [
    "#Random Forest\n",
    "plrf = PL([('te', PW(TE())),\n",
    "         ('rf', RFC(random_state=22, n_jobs=-1, oob_score=True))\n",
    "         ])\n",
    "rf_grid = {'rf__n_estimators' : [80],\n",
    "           'rf__criterion' : ['entropy'],\n",
    "           'rf__max_depth' : [40],\n",
    "           'rf__min_samples_leaf' : [1],\n",
    "           'rf__max_features' : ['sqrt'],\n",
    "           'rf__class_weight' : ['balanced'],\n",
    "           'rf__max_samples' : [0.7]\n",
    "            }\n",
    "rf = {'name' : 'rf',\n",
    "      'model' : plrf,\n",
    "      'grid' : rf_grid\n",
    "      }\n",
    "#previous best params:\n",
    "#{'rf__class_weight': None, 'rf__criterion': 'gini', 'rf__max_depth': 15, \n",
    "# 'rf__max_features': 'sqrt', 'rf__max_samples': 0.6, \n",
    "# 'rf__min_samples_leaf': 1, 'rf__n_estimators': 100}\n",
    "\n"
   ]
  },
  {
   "cell_type": "code",
   "execution_count": null,
   "metadata": {
    "ExecuteTime": {
     "end_time": "2021-02-14T17:12:17.815109Z",
     "start_time": "2021-02-13T21:59:39.970Z"
    },
    "hidden": true
   },
   "outputs": [],
   "source": [
    "rf_result = run_model(rf, X)\n",
    "rf_result"
   ]
  },
  {
   "cell_type": "code",
   "execution_count": null,
   "metadata": {
    "ExecuteTime": {
     "end_time": "2021-02-14T17:12:17.841042Z",
     "start_time": "2021-02-13T21:59:55.037Z"
    },
    "hidden": true
   },
   "outputs": [],
   "source": [
    "pickle_save(rf_result, 'rf')"
   ]
  },
  {
   "cell_type": "markdown",
   "metadata": {
    "hidden": true
   },
   "source": [
    "### Adaboost"
   ]
  },
  {
   "cell_type": "code",
   "execution_count": 87,
   "metadata": {
    "ExecuteTime": {
     "end_time": "2021-02-13T21:57:43.339899Z",
     "start_time": "2021-02-13T21:57:43.320948Z"
    },
    "hidden": true
   },
   "outputs": [],
   "source": [
    "plab = PL([('te', PW(TE())),\n",
    "         ('ab', ABC(random_state=22))\n",
    "         ])\n",
    "ab_grid = {'ab__n_estimators' : [500],\n",
    "           'ab__learning_rate' : [0.8]\n",
    "           #'ab__base_estimator' : [None, dtc]\n",
    "            }\n",
    "ab = {'name' : 'ab',\n",
    "      'model' : plab,\n",
    "      'grid' : ab_grid\n",
    "      }"
   ]
  },
  {
   "cell_type": "code",
   "execution_count": 88,
   "metadata": {
    "ExecuteTime": {
     "end_time": "2021-02-13T22:06:32.677458Z",
     "start_time": "2021-02-13T21:57:48.944908Z"
    },
    "hidden": true,
    "scrolled": true
   },
   "outputs": [
    {
     "name": "stdout",
     "output_type": "stream",
     "text": [
      "fitted\n",
      "pred1\n",
      "predt\n",
      "acc\n",
      "prec\n",
      "rec\n",
      "f1\n",
      "ab train classification report\n",
      "               precision    recall  f1-score   support\n",
      "\n",
      "           0       0.73      0.89      0.80     24272\n",
      "           1       0.51      0.11      0.18      3226\n",
      "           2       0.79      0.64      0.71     17052\n",
      "\n",
      "    accuracy                           0.74     44550\n",
      "   macro avg       0.68      0.55      0.56     44550\n",
      "weighted avg       0.73      0.74      0.72     44550\n",
      "\n",
      "pred2\n",
      "ab test classification report\n",
      "               precision    recall  f1-score   support\n",
      "\n",
      "           0       0.72      0.89      0.80      7987\n",
      "           1       0.54      0.12      0.19      1091\n",
      "           2       0.79      0.64      0.71      5772\n",
      "\n",
      "    accuracy                           0.74     14850\n",
      "   macro avg       0.68      0.55      0.56     14850\n",
      "weighted avg       0.73      0.74      0.72     14850\n",
      "\n",
      "Best Params:\n",
      " {'ab__learning_rate': 0.8, 'ab__n_estimators': 500}\n"
     ]
    },
    {
     "data": {
      "image/png": "[encoded data removed]",
      "text/plain": [
       "<Figure size 432x288 with 2 Axes>"
      ]
     },
     "metadata": {
      "needs_background": "light"
     },
     "output_type": "display_data"
    },
    {
     "data": {
      "image/png": "[encoded data removed]",
      "text/plain": [
       "<Figure size 432x288 with 2 Axes>"
      ]
     },
     "metadata": {
      "needs_background": "light"
     },
     "output_type": "display_data"
    }
   ],
   "source": [
    "ab_result = run_model(ab, X)\n",
    "ab_result"
   ]
  },
  {
   "cell_type": "code",
   "execution_count": 60,
   "metadata": {
    "ExecuteTime": {
     "end_time": "2021-02-13T16:26:30.731304Z",
     "start_time": "2021-02-13T16:26:30.671436Z"
    },
    "hidden": true
   },
   "outputs": [],
   "source": [
    "pickle_save(ab_result, 'ab')"
   ]
  },
  {
   "cell_type": "markdown",
   "metadata": {
    "hidden": true
   },
   "source": [
    "### Gradient Boosting"
   ]
  },
  {
   "cell_type": "code",
   "execution_count": null,
   "metadata": {
    "ExecuteTime": {
     "end_time": "2021-02-13T22:06:38.168772Z",
     "start_time": "2021-02-13T22:06:38.147828Z"
    },
    "hidden": true
   },
   "outputs": [],
   "source": [
    "plgb = PL([('ohe', OHE(handle_unknown='ignore')),\n",
    "         ('gb', GBC(random_state=22))\n",
    "         ])\n",
    "plgbte = PL([('te', PW(TE())),\n",
    "         ('gb', GBC(random_state=22))\n",
    "         ])\n",
    "gb_grid = {'gb__loss' : ['deviance'],\n",
    "           'gb__n_estimators' : [300],\n",
    "           'gb__learning_rate' : [0.1],\n",
    "           'gb__subsample' : [0.5],\n",
    "           'gb__max_depth' : [80],\n",
    "           'gb__min_samples_leaf' : [1]\n",
    "#            'gb__init' : ['dtc', None]\n",
    "            }\n",
    "gb = {'name' : 'gb',\n",
    "      'model' : plgb,\n",
    "      'grid' : gb_grid\n",
    "      }"
   ]
  },
  {
   "cell_type": "code",
   "execution_count": 90,
   "metadata": {
    "ExecuteTime": {
     "end_time": "2021-02-14T10:52:20.461747Z",
     "start_time": "2021-02-13T22:06:43.794728Z"
    },
    "hidden": true,
    "scrolled": true
   },
   "outputs": [
    {
     "name": "stdout",
     "output_type": "stream",
     "text": [
      "fitted\n",
      "pred1\n",
      "predt\n",
      "acc\n",
      "prec\n",
      "rec\n",
      "f1\n",
      "gb train classification report\n",
      "               precision    recall  f1-score   support\n",
      "\n",
      "           0       1.00      1.00      1.00     24272\n",
      "           1       0.99      0.99      0.99      3226\n",
      "           2       1.00      1.00      1.00     17052\n",
      "\n",
      "    accuracy                           1.00     44550\n",
      "   macro avg       1.00      1.00      1.00     44550\n",
      "weighted avg       1.00      1.00      1.00     44550\n",
      "\n",
      "pred2\n",
      "gb test classification report\n",
      "               precision    recall  f1-score   support\n",
      "\n",
      "           0       0.79      0.91      0.84      7987\n",
      "           1       0.64      0.29      0.40      1091\n",
      "           2       0.85      0.76      0.80      5772\n",
      "\n",
      "    accuracy                           0.80     14850\n",
      "   macro avg       0.76      0.65      0.68     14850\n",
      "weighted avg       0.80      0.80      0.79     14850\n",
      "\n",
      "Best Params:\n",
      " {'gb__learning_rate': 0.1, 'gb__loss': 'deviance', 'gb__max_depth': 40, 'gb__min_samples_leaf': 1, 'gb__n_estimators': 500, 'gb__subsample': 0.7}\n"
     ]
    },
    {
     "data": {
      "text/plain": [
       "(GridSearchCV(cv=3,\n",
       "              estimator=Pipeline(steps=[('ohe',\n",
       "                                         OneHotEncoder(handle_unknown='ignore')),\n",
       "                                        ('gb',\n",
       "                                         GradientBoostingClassifier(random_state=22))]),\n",
       "              n_jobs=-1,\n",
       "              param_grid={'gb__learning_rate': [0.1], 'gb__loss': ['deviance'],\n",
       "                          'gb__max_depth': [20, 40, 80],\n",
       "                          'gb__min_samples_leaf': [1],\n",
       "                          'gb__n_estimators': [200, 300, 500],\n",
       "                          'gb__subsample': [0.5, 0.7]},\n",
       "              scoring='accuracy'),\n",
       " {'train_time': datetime.timedelta(0, 45729, 401247),\n",
       "  'train': {'predict_time': datetime.timedelta(0, 67, 236190),\n",
       "   'acc_train': 0.9986307519640854,\n",
       "   'prec_train': 0.9986307519640854,\n",
       "   'recall_train': 0.9986307519640854,\n",
       "   'f1_train': 0.9986307519640854},\n",
       "  'test': {'predict_time': datetime.timedelta(0, 29, 582840),\n",
       "   'acc_test': 0.8034343434343434,\n",
       "   'prec_test': 0.8034343434343434,\n",
       "   'recall_test': 0.8034343434343434,\n",
       "   'f1_test': 0.8034343434343435}})"
      ]
     },
     "execution_count": 90,
     "metadata": {},
     "output_type": "execute_result"
    },
    {
     "data": {
      "image/png": "[encoded data removed]",
      "text/plain": [
       "<Figure size 432x288 with 2 Axes>"
      ]
     },
     "metadata": {
      "needs_background": "light"
     },
     "output_type": "display_data"
    },
    {
     "data": {
      "image/png": "[encoded data removed]",
      "text/plain": [
       "<Figure size 432x288 with 2 Axes>"
      ]
     },
     "metadata": {
      "needs_background": "light"
     },
     "output_type": "display_data"
    }
   ],
   "source": [
    "gb_results = run_model(gb, X=group(X, z=5))\n",
    "gb_results"
   ]
  },
  {
   "cell_type": "code",
   "execution_count": 95,
   "metadata": {
    "ExecuteTime": {
     "end_time": "2021-02-14T17:37:44.038707Z",
     "start_time": "2021-02-14T17:37:41.097010Z"
    },
    "hidden": true
   },
   "outputs": [],
   "source": [
    "pickle_save(gb_results, 'gb')"
   ]
  },
  {
   "cell_type": "code",
   "execution_count": 91,
   "metadata": {
    "ExecuteTime": {
     "end_time": "2021-02-14T17:11:58.580928Z",
     "start_time": "2021-02-14T10:52:29.346984Z"
    },
    "hidden": true,
    "scrolled": true
   },
   "outputs": [
    {
     "name": "stdout",
     "output_type": "stream",
     "text": [
      "fitted\n",
      "pred1\n",
      "predt\n",
      "acc\n",
      "prec\n",
      "rec\n",
      "f1\n",
      "gbte train classification report\n",
      "               precision    recall  f1-score   support\n",
      "\n",
      "           0       1.00      1.00      1.00     24272\n",
      "           1       1.00      0.99      0.99      3226\n",
      "           2       1.00      1.00      1.00     17052\n",
      "\n",
      "    accuracy                           1.00     44550\n",
      "   macro avg       1.00      1.00      1.00     44550\n",
      "weighted avg       1.00      1.00      1.00     44550\n",
      "\n",
      "pred2\n",
      "gbte test classification report\n",
      "               precision    recall  f1-score   support\n",
      "\n",
      "           0       0.81      0.89      0.85      7987\n",
      "           1       0.61      0.34      0.44      1091\n",
      "           2       0.84      0.79      0.81      5772\n",
      "\n",
      "    accuracy                           0.81     14850\n",
      "   macro avg       0.75      0.67      0.70     14850\n",
      "weighted avg       0.81      0.81      0.80     14850\n",
      "\n",
      "Best Params:\n",
      " {'gb__learning_rate': 0.1, 'gb__loss': 'deviance', 'gb__max_depth': 80, 'gb__min_samples_leaf': 1, 'gb__n_estimators': 300, 'gb__subsample': 0.5}\n"
     ]
    },
    {
     "data": {
      "text/plain": [
       "(GridSearchCV(cv=3,\n",
       "              estimator=Pipeline(steps=[('ohe',\n",
       "                                         OneHotEncoder(handle_unknown='ignore')),\n",
       "                                        ('gb',\n",
       "                                         GradientBoostingClassifier(random_state=22))]),\n",
       "              n_jobs=-1,\n",
       "              param_grid={'gb__learning_rate': [0.1], 'gb__loss': ['deviance'],\n",
       "                          'gb__max_depth': [20, 40, 80],\n",
       "                          'gb__min_samples_leaf': [1],\n",
       "                          'gb__n_estimators': [200, 300, 500],\n",
       "                          'gb__subsample': [0.5, 0.7]},\n",
       "              scoring='accuracy'),\n",
       " {'train_time': datetime.timedelta(0, 45729, 401247),\n",
       "  'train': {'predict_time': datetime.timedelta(0, 67, 236190),\n",
       "   'acc_train': 0.9986307519640854,\n",
       "   'prec_train': 0.9986307519640854,\n",
       "   'recall_train': 0.9986307519640854,\n",
       "   'f1_train': 0.9986307519640854},\n",
       "  'test': {'predict_time': datetime.timedelta(0, 29, 582840),\n",
       "   'acc_test': 0.8034343434343434,\n",
       "   'prec_test': 0.8034343434343434,\n",
       "   'recall_test': 0.8034343434343434,\n",
       "   'f1_test': 0.8034343434343435}})"
      ]
     },
     "execution_count": 91,
     "metadata": {},
     "output_type": "execute_result"
    },
    {
     "data": {
      "image/png": "[encoded data removed]",
      "text/plain": [
       "<Figure size 432x288 with 2 Axes>"
      ]
     },
     "metadata": {
      "needs_background": "light"
     },
     "output_type": "display_data"
    },
    {
     "data": {
      "image/png": "[encoded data removed]",
      "text/plain": [
       "<Figure size 432x288 with 2 Axes>"
      ]
     },
     "metadata": {
      "needs_background": "light"
     },
     "output_type": "display_data"
    }
   ],
   "source": [
    "gbte = {'name' : 'gbte',\n",
    "      'model' : plgbte,\n",
    "      'grid' : gb_grid\n",
    "      }\n",
    "\n",
    "gbte_results = run_model(gbte, X)\n",
    "gbte_results"
   ]
  },
  {
   "cell_type": "code",
   "execution_count": 96,
   "metadata": {
    "ExecuteTime": {
     "end_time": "2021-02-14T17:38:28.459242Z",
     "start_time": "2021-02-14T17:37:51.247391Z"
    },
    "hidden": true
   },
   "outputs": [],
   "source": [
    "pickle_save(gbte_results, 'gbte')"
   ]
  },
  {
   "cell_type": "markdown",
   "metadata": {
    "hidden": true
   },
   "source": [
    "### SVC"
   ]
  },
  {
   "cell_type": "code",
   "execution_count": 93,
   "metadata": {
    "ExecuteTime": {
     "end_time": "2021-02-14T17:37:22.924120Z",
     "start_time": "2021-02-14T17:37:22.905171Z"
    },
    "hidden": true
   },
   "outputs": [],
   "source": [
    "plsvc = PL([('ohe', OHE(handle_unknown='ignore')),\n",
    "         ('svc', SVC(random_state=22))\n",
    "         ])\n",
    "plsvcte = PL([('te', PW(TE())),\n",
    "         ('svc', SVC(random_state=22))\n",
    "         ])\n",
    "svc_grid = {'svc__C' : [50, 100, 500],\n",
    "           'svc__kernel' : ['poly'],\n",
    "#            'svc__gamma' : ['scale', 'auto'],\n",
    "           'svc__class_weight' : [None],\n",
    "#            'svc__init' : ['dtc', None],\n",
    "            'svc__coef0' : [0, 1, 10]\n",
    "            }\n",
    "svc = {'name' : 'svc',\n",
    "      'model' : plsvc,\n",
    "      'grid' : svc_grid\n",
    "      }\n",
    "svcte = {'name' : 'svcte',\n",
    "      'model' : plsvcte,\n",
    "      'grid' : svc_grid\n",
    "      }"
   ]
  },
  {
   "cell_type": "code",
   "execution_count": 97,
   "metadata": {
    "ExecuteTime": {
     "end_time": "2021-02-14T21:41:37.818168Z",
     "start_time": "2021-02-14T17:39:56.679686Z"
    },
    "hidden": true,
    "scrolled": true
   },
   "outputs": [
    {
     "name": "stdout",
     "output_type": "stream",
     "text": [
      "fitted\n",
      "pred1\n",
      "predt\n",
      "acc\n",
      "prec\n",
      "rec\n",
      "f1\n",
      "svc train classification report\n",
      "               precision    recall  f1-score   support\n",
      "\n",
      "           0       1.00      1.00      1.00     24272\n",
      "           1       1.00      0.99      0.99      3226\n",
      "           2       1.00      1.00      1.00     17052\n",
      "\n",
      "    accuracy                           1.00     44550\n",
      "   macro avg       1.00      1.00      1.00     44550\n",
      "weighted avg       1.00      1.00      1.00     44550\n",
      "\n",
      "pred2\n",
      "svc test classification report\n",
      "               precision    recall  f1-score   support\n",
      "\n",
      "           0       0.79      0.89      0.84      7987\n",
      "           1       0.61      0.34      0.43      1091\n",
      "           2       0.83      0.76      0.80      5772\n",
      "\n",
      "    accuracy                           0.80     14850\n",
      "   macro avg       0.74      0.66      0.69     14850\n",
      "weighted avg       0.79      0.80      0.79     14850\n",
      "\n",
      "Best Params:\n",
      " {'svc__C': 50, 'svc__class_weight': None, 'svc__coef0': 0, 'svc__kernel': 'poly'}\n"
     ]
    },
    {
     "data": {
      "text/plain": [
       "(GridSearchCV(cv=3,\n",
       "              estimator=Pipeline(steps=[('ohe',\n",
       "                                         OneHotEncoder(handle_unknown='ignore')),\n",
       "                                        ('svc', SVC(random_state=22))]),\n",
       "              n_jobs=-1,\n",
       "              param_grid={'svc__C': [50, 100, 500], 'svc__class_weight': [None],\n",
       "                          'svc__coef0': [0, 1, 10], 'svc__kernel': ['poly']},\n",
       "              scoring='accuracy'),\n",
       " {'train_time': datetime.timedelta(0, 11903, 518076),\n",
       "  'train': {'predict_time': datetime.timedelta(0, 989, 302493),\n",
       "   'acc_train': 0.9985185185185185,\n",
       "   'prec_train': 0.9985185185185185,\n",
       "   'recall_train': 0.9985185185185185,\n",
       "   'f1_train': 0.9985185185185185},\n",
       "  'test': {'predict_time': datetime.timedelta(0, 311, 672092),\n",
       "   'acc_test': 0.7998653198653198,\n",
       "   'prec_test': 0.7998653198653198,\n",
       "   'recall_test': 0.7998653198653198,\n",
       "   'f1_test': 0.7998653198653198}})"
      ]
     },
     "execution_count": 97,
     "metadata": {},
     "output_type": "execute_result"
    },
    {
     "data": {
      "image/png": "[encoded data removed]",
      "text/plain": [
       "<Figure size 432x288 with 2 Axes>"
      ]
     },
     "metadata": {
      "needs_background": "light"
     },
     "output_type": "display_data"
    },
    {
     "data": {
      "image/png": "[encoded data removed]",
      "text/plain": [
       "<Figure size 432x288 with 2 Axes>"
      ]
     },
     "metadata": {
      "needs_background": "light"
     },
     "output_type": "display_data"
    }
   ],
   "source": [
    "svc_result = run_model(svc, X=group(X, z=5))\n",
    "svc_result"
   ]
  },
  {
   "cell_type": "code",
   "execution_count": 98,
   "metadata": {
    "ExecuteTime": {
     "end_time": "2021-02-14T21:41:44.383654Z",
     "start_time": "2021-02-14T21:41:44.276897Z"
    },
    "hidden": true
   },
   "outputs": [],
   "source": [
    "pickle_save(svc_result, 'svc')"
   ]
  },
  {
   "cell_type": "code",
   "execution_count": null,
   "metadata": {
    "ExecuteTime": {
     "start_time": "2021-02-14T17:40:15.294Z"
    },
    "hidden": true
   },
   "outputs": [],
   "source": [
    "svcte_result = run_model(svcte, X)"
   ]
  },
  {
   "cell_type": "code",
   "execution_count": null,
   "metadata": {
    "ExecuteTime": {
     "end_time": "2021-02-14T21:41:44.383654Z",
     "start_time": "2021-02-14T21:41:44.276897Z"
    },
    "hidden": true
   },
   "outputs": [],
   "source": [
    "pickle_save(svcte_result, 'svcte')"
   ]
  },
  {
   "cell_type": "markdown",
   "metadata": {
    "hidden": true
   },
   "source": [
    "### XGBoost"
   ]
  },
  {
   "cell_type": "code",
   "execution_count": 8,
   "metadata": {
    "ExecuteTime": {
     "end_time": "2021-02-16T02:54:27.843194Z",
     "start_time": "2021-02-16T02:54:27.837211Z"
    },
    "hidden": true
   },
   "outputs": [],
   "source": [
    "plxgb = PL([('ohe', OHE(handle_unknown='ignore')),\n",
    "         ('xgb', XGB(seed=22))\n",
    "         ])\n",
    "plxgbte = PL([('te', PW(TE())),\n",
    "         ('xgb', XGB(seed=22))\n",
    "         ])\n",
    "xgb_grid = {#'xgb__eta' : [0.1, 0.3, 0.6],\n",
    "#             'xgb__max_depth' : [3, 6, 10],\n",
    "#             'xgb__subsample' : [0.7, 1],\n",
    "#             'xgb__colsample_bytree' : [1, 0.8],\n",
    "#             'xgb__colsample_bynode' : [1, 0.8],\n",
    "#             'xgb__lambda' : [1, 5, 10],\n",
    "#             'xgb__alpha' : [0, 1, 5],\n",
    "#             'xgb__gamma' : [0, 1, 5],\n",
    "#             'xgb__tree_method' : ['auto', 'gpu_hist'],\n",
    "#             'xgb__deterministic_histogram' : [False],\n",
    "#             'xgb__num_parallel_tree' : [1, 10, 40]\n",
    "\n",
    "            }\n",
    "xgb = {'name' : 'xgb',\n",
    "      'model' : plxgb,\n",
    "      'grid' : xgb_grid\n",
    "      }\n",
    "xgbte = {'name' : 'xgbte',\n",
    "      'model' : plxgbte,\n",
    "      'grid' : xgb_grid\n",
    "      }"
   ]
  },
  {
   "cell_type": "code",
   "execution_count": 9,
   "metadata": {
    "ExecuteTime": {
     "end_time": "2021-02-16T03:22:05.650432Z",
     "start_time": "2021-02-16T02:54:30.525023Z"
    },
    "hidden": true,
    "scrolled": true
   },
   "outputs": [
    {
     "name": "stdout",
     "output_type": "stream",
     "text": [
      "fitted\n",
      "pred1\n",
      "predt\n",
      "acc\n",
      "prec\n",
      "rec\n",
      "f1\n",
      "xgb train classification report\n",
      "               precision    recall  f1-score   support\n",
      "\n",
      "           0       0.71      0.94      0.81     24272\n",
      "           1       0.70      0.08      0.15      3226\n",
      "           2       0.85      0.59      0.70     17052\n",
      "\n",
      "    accuracy                           0.75     44550\n",
      "   macro avg       0.75      0.54      0.55     44550\n",
      "weighted avg       0.76      0.75      0.72     44550\n",
      "\n",
      "pred2\n",
      "xgb test classification report\n",
      "               precision    recall  f1-score   support\n",
      "\n",
      "           0       0.70      0.94      0.80      7987\n",
      "           1       0.72      0.09      0.16      1091\n",
      "           2       0.85      0.59      0.70      5772\n",
      "\n",
      "    accuracy                           0.74     14850\n",
      "   macro avg       0.76      0.54      0.55     14850\n",
      "weighted avg       0.76      0.74      0.71     14850\n",
      "\n",
      "Best Params:\n",
      " {}\n"
     ]
    },
    {
     "data": {
      "text/plain": [
       "(GridSearchCV(cv=3,\n",
       "              estimator=Pipeline(steps=[('ohe',\n",
       "                                         OneHotEncoder(handle_unknown='ignore')),\n",
       "                                        ('xgb', XGBClassifier(seed=22))]),\n",
       "              n_jobs=-1, param_grid={}, scoring='accuracy'),\n",
       " {'train_time': datetime.timedelta(0, 1612, 262038),\n",
       "  'train': {'predict_time': datetime.timedelta(0, 1, 988681),\n",
       "   'acc_train': 0.7452525252525253,\n",
       "   'prec_train': 0.7452525252525253,\n",
       "   'recall_train': 0.7452525252525253,\n",
       "   'f1_train': 0.7452525252525253},\n",
       "  'test': {'predict_time': datetime.timedelta(0, 1, 9302),\n",
       "   'acc_test': 0.7412794612794613,\n",
       "   'prec_test': 0.7412794612794613,\n",
       "   'recall_test': 0.7412794612794613,\n",
       "   'f1_test': 0.7412794612794614}})"
      ]
     },
     "execution_count": 9,
     "metadata": {},
     "output_type": "execute_result"
    },
    {
     "data": {
      "image/png": "[encoded data removed]",
      "text/plain": [
       "<Figure size 432x288 with 2 Axes>"
      ]
     },
     "metadata": {
      "needs_background": "light"
     },
     "output_type": "display_data"
    },
    {
     "data": {
      "image/png": "[encoded data removed]",
      "text/plain": [
       "<Figure size 432x288 with 2 Axes>"
      ]
     },
     "metadata": {
      "needs_background": "light"
     },
     "output_type": "display_data"
    }
   ],
   "source": [
    "xgb_result = run_model(xgb, X=group(X, z=5))\n",
    "xgb_result"
   ]
  },
  {
   "cell_type": "code",
   "execution_count": 10,
   "metadata": {
    "ExecuteTime": {
     "end_time": "2021-02-16T03:22:07.778741Z",
     "start_time": "2021-02-16T03:22:07.721893Z"
    },
    "hidden": true
   },
   "outputs": [],
   "source": [
    "pickle_save(xgb_result, 'xgb')"
   ]
  },
  {
   "cell_type": "code",
   "execution_count": 11,
   "metadata": {
    "ExecuteTime": {
     "end_time": "2021-02-16T03:46:00.005580Z",
     "start_time": "2021-02-16T03:22:09.543022Z"
    },
    "hidden": true,
    "scrolled": true
   },
   "outputs": [
    {
     "name": "stdout",
     "output_type": "stream",
     "text": [
      "fitted\n",
      "pred1\n",
      "predt\n",
      "acc\n",
      "prec\n",
      "rec\n",
      "f1\n",
      "xgbte train classification report\n",
      "               precision    recall  f1-score   support\n",
      "\n",
      "           0       0.72      0.93      0.81     24272\n",
      "           1       0.65      0.13      0.21      3226\n",
      "           2       0.83      0.61      0.71     17052\n",
      "\n",
      "    accuracy                           0.75     44550\n",
      "   macro avg       0.73      0.56      0.58     44550\n",
      "weighted avg       0.76      0.75      0.73     44550\n",
      "\n",
      "pred2\n",
      "xgbte test classification report\n",
      "               precision    recall  f1-score   support\n",
      "\n",
      "           0       0.71      0.92      0.80      7987\n",
      "           1       0.70      0.13      0.22      1091\n",
      "           2       0.83      0.61      0.71      5772\n",
      "\n",
      "    accuracy                           0.74     14850\n",
      "   macro avg       0.75      0.56      0.58     14850\n",
      "weighted avg       0.76      0.74      0.72     14850\n",
      "\n",
      "Best Params:\n",
      " {}\n"
     ]
    },
    {
     "data": {
      "text/plain": [
       "(GridSearchCV(cv=3,\n",
       "              estimator=Pipeline(steps=[('te',\n",
       "                                         PolynomialWrapper(feature_encoder=TargetEncoder())),\n",
       "                                        ('xgb', XGBClassifier(seed=22))]),\n",
       "              n_jobs=-1, param_grid={}, scoring='accuracy'),\n",
       " {'train_time': datetime.timedelta(0, 1420, 818347),\n",
       "  'train': {'predict_time': datetime.timedelta(0, 2, 911215),\n",
       "   'acc_train': 0.7492929292929293,\n",
       "   'prec_train': 0.7492929292929293,\n",
       "   'recall_train': 0.7492929292929293,\n",
       "   'f1_train': 0.7492929292929293},\n",
       "  'test': {'predict_time': datetime.timedelta(0, 1, 292543),\n",
       "   'acc_test': 0.7447138047138047,\n",
       "   'prec_test': 0.7447138047138047,\n",
       "   'recall_test': 0.7447138047138047,\n",
       "   'f1_test': 0.7447138047138047}})"
      ]
     },
     "execution_count": 11,
     "metadata": {},
     "output_type": "execute_result"
    },
    {
     "data": {
      "image/png": "[encoded data removed]",
      "text/plain": [
       "<Figure size 432x288 with 2 Axes>"
      ]
     },
     "metadata": {
      "needs_background": "light"
     },
     "output_type": "display_data"
    },
    {
     "data": {
      "image/png": "[encoded data removed]",
      "text/plain": [
       "<Figure size 432x288 with 2 Axes>"
      ]
     },
     "metadata": {
      "needs_background": "light"
     },
     "output_type": "display_data"
    }
   ],
   "source": [
    "xgbte_result = run_model(xgbte, X)\n",
    "xgbte_result"
   ]
  },
  {
   "cell_type": "code",
   "execution_count": null,
   "metadata": {
    "ExecuteTime": {
     "end_time": "2021-02-16T21:48:02.883628Z",
     "start_time": "2021-02-16T21:48:02.871660Z"
    },
    "hidden": true
   },
   "outputs": [],
   "source": [
    "pickle_save(xgbte_result, 'xgbte')"
   ]
  },
  {
   "cell_type": "markdown",
   "metadata": {
    "hidden": true
   },
   "source": [
    "### CatBoost"
   ]
  },
  {
   "cell_type": "code",
   "execution_count": 40,
   "metadata": {
    "ExecuteTime": {
     "end_time": "2021-02-16T21:54:31.414591Z",
     "start_time": "2021-02-16T21:54:31.409605Z"
    },
    "hidden": true
   },
   "outputs": [
    {
     "data": {
      "text/plain": [
       "Index(['amount_tsh', 'funder', 'gps_height', 'installer', 'longitude',\n",
       "       'latitude', 'wpt_name', 'num_private', 'basin', 'subvillage', 'region',\n",
       "       'region_code', 'district_code', 'lga', 'ward', 'population',\n",
       "       'public_meeting', 'scheme_management', 'scheme_name', 'permit',\n",
       "       'extraction_type', 'extraction_type_group', 'extraction_type_class',\n",
       "       'management', 'management_group', 'payment', 'payment_type',\n",
       "       'water_quality', 'quality_group', 'quantity', 'quantity_group',\n",
       "       'source', 'source_type', 'source_class', 'waterpoint_type',\n",
       "       'waterpoint_type_group', 'yrs_operation', 'yr_recorded', 'day_recorded',\n",
       "       'lga2'],\n",
       "      dtype='object')"
      ]
     },
     "execution_count": 40,
     "metadata": {},
     "output_type": "execute_result"
    }
   ],
   "source": [
    "X.columns"
   ]
  },
  {
   "cell_type": "code",
   "execution_count": 41,
   "metadata": {
    "ExecuteTime": {
     "end_time": "2021-02-16T23:54:37.402831Z",
     "start_time": "2021-02-16T21:55:01.375468Z"
    },
    "hidden": true,
    "scrolled": true
   },
   "outputs": [
    {
     "name": "stdout",
     "output_type": "stream",
     "text": [
      "0:\tlearn: 1.0722889\ttest: 1.0725177\tbest: 1.0725177 (0)\ttotal: 7.19s\tremaining: 4h 59m 31s\n",
      "1:\tlearn: 1.0477858\ttest: 1.0479433\tbest: 1.0479433 (1)\ttotal: 13.7s\tremaining: 4h 44m 10s\n",
      "2:\tlearn: 1.0246777\ttest: 1.0250730\tbest: 1.0250730 (2)\ttotal: 20.9s\tremaining: 4h 50m 8s\n",
      "3:\tlearn: 1.0025395\ttest: 1.0033247\tbest: 1.0033247 (3)\ttotal: 27.7s\tremaining: 4h 48m 29s\n",
      "4:\tlearn: 0.9820623\ttest: 0.9828442\tbest: 0.9828442 (4)\ttotal: 33.8s\tremaining: 4h 41m 12s\n",
      "5:\tlearn: 0.9624939\ttest: 0.9633775\tbest: 0.9633775 (5)\ttotal: 41.4s\tremaining: 4h 46m 56s\n",
      "6:\tlearn: 0.9447281\ttest: 0.9458470\tbest: 0.9458470 (6)\ttotal: 48.2s\tremaining: 4h 45m 55s\n",
      "7:\tlearn: 0.9273787\ttest: 0.9288060\tbest: 0.9288060 (7)\ttotal: 54.7s\tremaining: 4h 43m 52s\n",
      "8:\tlearn: 0.9114133\ttest: 0.9130540\tbest: 0.9130540 (8)\ttotal: 1m 2s\tremaining: 4h 49m 28s\n",
      "9:\tlearn: 0.8958078\ttest: 0.8981437\tbest: 0.8981437 (9)\ttotal: 1m 10s\tremaining: 4h 54m 30s\n",
      "10:\tlearn: 0.8812935\ttest: 0.8839996\tbest: 0.8839996 (10)\ttotal: 1m 17s\tremaining: 4h 52m 38s\n",
      "11:\tlearn: 0.8677661\ttest: 0.8706626\tbest: 0.8706626 (11)\ttotal: 1m 24s\tremaining: 4h 53m 26s\n",
      "12:\tlearn: 0.8543933\ttest: 0.8572438\tbest: 0.8572438 (12)\ttotal: 1m 32s\tremaining: 4h 55m 3s\n",
      "13:\tlearn: 0.8419698\ttest: 0.8445467\tbest: 0.8445467 (13)\ttotal: 1m 39s\tremaining: 4h 53m 37s\n",
      "14:\tlearn: 0.8300628\ttest: 0.8324755\tbest: 0.8324755 (14)\ttotal: 1m 46s\tremaining: 4h 52m 58s\n",
      "15:\tlearn: 0.8185363\ttest: 0.8213567\tbest: 0.8213567 (15)\ttotal: 1m 53s\tremaining: 4h 53m 30s\n",
      "16:\tlearn: 0.8072241\ttest: 0.8102395\tbest: 0.8102395 (16)\ttotal: 2m\tremaining: 4h 54m 22s\n",
      "17:\tlearn: 0.7968415\ttest: 0.7999595\tbest: 0.7999595 (17)\ttotal: 2m 7s\tremaining: 4h 53m 26s\n",
      "18:\tlearn: 0.7868569\ttest: 0.7902738\tbest: 0.7902738 (18)\ttotal: 2m 14s\tremaining: 4h 53m 26s\n",
      "19:\tlearn: 0.7771927\ttest: 0.7808530\tbest: 0.7808530 (19)\ttotal: 2m 21s\tremaining: 4h 52m 20s\n",
      "20:\tlearn: 0.7677914\ttest: 0.7719790\tbest: 0.7719790 (20)\ttotal: 2m 28s\tremaining: 4h 52m 20s\n",
      "21:\tlearn: 0.7587635\ttest: 0.7629184\tbest: 0.7629184 (21)\ttotal: 2m 35s\tremaining: 4h 51m 7s\n",
      "22:\tlearn: 0.7502962\ttest: 0.7547300\tbest: 0.7547300 (22)\ttotal: 2m 41s\tremaining: 4h 50m 43s\n",
      "23:\tlearn: 0.7418484\ttest: 0.7466106\tbest: 0.7466106 (23)\ttotal: 2m 48s\tremaining: 4h 49m 6s\n",
      "24:\tlearn: 0.7343606\ttest: 0.7391972\tbest: 0.7391972 (24)\ttotal: 2m 54s\tremaining: 4h 47m 48s\n",
      "25:\tlearn: 0.7267076\ttest: 0.7316279\tbest: 0.7316279 (25)\ttotal: 3m 1s\tremaining: 4h 47m 54s\n",
      "26:\tlearn: 0.7197025\ttest: 0.7250655\tbest: 0.7250655 (26)\ttotal: 3m 9s\tremaining: 4h 48m 48s\n",
      "27:\tlearn: 0.7125483\ttest: 0.7183838\tbest: 0.7183838 (27)\ttotal: 3m 16s\tremaining: 4h 49m 13s\n",
      "28:\tlearn: 0.7057662\ttest: 0.7118511\tbest: 0.7118511 (28)\ttotal: 3m 24s\tremaining: 4h 49m 43s\n",
      "29:\tlearn: 0.6993877\ttest: 0.7058641\tbest: 0.7058641 (29)\ttotal: 3m 31s\tremaining: 4h 50m 5s\n",
      "30:\tlearn: 0.6933501\ttest: 0.7001288\tbest: 0.7001288 (30)\ttotal: 3m 38s\tremaining: 4h 49m 43s\n",
      "31:\tlearn: 0.6874281\ttest: 0.6945625\tbest: 0.6945625 (31)\ttotal: 3m 45s\tremaining: 4h 49m 37s\n",
      "32:\tlearn: 0.6818619\ttest: 0.6892224\tbest: 0.6892224 (32)\ttotal: 3m 52s\tremaining: 4h 49m 15s\n",
      "33:\tlearn: 0.6759066\ttest: 0.6837274\tbest: 0.6837274 (33)\ttotal: 4m\tremaining: 4h 50m 8s\n",
      "34:\tlearn: 0.6702985\ttest: 0.6786206\tbest: 0.6786206 (34)\ttotal: 4m 6s\tremaining: 4h 49m 42s\n",
      "35:\tlearn: 0.6654533\ttest: 0.6740553\tbest: 0.6740553 (35)\ttotal: 4m 12s\tremaining: 4h 48m 26s\n",
      "36:\tlearn: 0.6605288\ttest: 0.6693134\tbest: 0.6693134 (36)\ttotal: 4m 19s\tremaining: 4h 47m 57s\n",
      "37:\tlearn: 0.6553193\ttest: 0.6648536\tbest: 0.6648536 (37)\ttotal: 4m 27s\tremaining: 4h 48m 28s\n",
      "38:\tlearn: 0.6503513\ttest: 0.6602554\tbest: 0.6602554 (38)\ttotal: 4m 33s\tremaining: 4h 48m 4s\n",
      "39:\tlearn: 0.6458358\ttest: 0.6563831\tbest: 0.6563831 (39)\ttotal: 4m 41s\tremaining: 4h 48m 29s\n",
      "40:\tlearn: 0.6415739\ttest: 0.6524370\tbest: 0.6524370 (40)\ttotal: 4m 48s\tremaining: 4h 48m 46s\n",
      "41:\tlearn: 0.6372366\ttest: 0.6485225\tbest: 0.6485225 (41)\ttotal: 4m 56s\tremaining: 4h 48m 44s\n",
      "42:\tlearn: 0.6331147\ttest: 0.6449496\tbest: 0.6449496 (42)\ttotal: 5m 3s\tremaining: 4h 49m 7s\n",
      "43:\tlearn: 0.6293769\ttest: 0.6413986\tbest: 0.6413986 (43)\ttotal: 5m 11s\tremaining: 4h 49m 33s\n",
      "44:\tlearn: 0.6252965\ttest: 0.6377322\tbest: 0.6377322 (44)\ttotal: 5m 17s\tremaining: 4h 48m 58s\n",
      "45:\tlearn: 0.6212117\ttest: 0.6339504\tbest: 0.6339504 (45)\ttotal: 5m 25s\tremaining: 4h 49m 23s\n",
      "46:\tlearn: 0.6177363\ttest: 0.6307651\tbest: 0.6307651 (46)\ttotal: 5m 32s\tremaining: 4h 49m 34s\n",
      "47:\tlearn: 0.6143569\ttest: 0.6277074\tbest: 0.6277074 (47)\ttotal: 5m 40s\tremaining: 4h 49m 28s\n",
      "48:\tlearn: 0.6108187\ttest: 0.6245497\tbest: 0.6245497 (48)\ttotal: 5m 47s\tremaining: 4h 49m 30s\n",
      "49:\tlearn: 0.6075673\ttest: 0.6214360\tbest: 0.6214360 (49)\ttotal: 5m 54s\tremaining: 4h 49m 44s\n",
      "50:\tlearn: 0.6043148\ttest: 0.6184735\tbest: 0.6184735 (50)\ttotal: 6m 1s\tremaining: 4h 49m 18s\n",
      "51:\tlearn: 0.6008402\ttest: 0.6154340\tbest: 0.6154340 (51)\ttotal: 6m 8s\tremaining: 4h 48m 58s\n",
      "52:\tlearn: 0.5978007\ttest: 0.6127074\tbest: 0.6127074 (52)\ttotal: 6m 15s\tremaining: 4h 48m 56s\n",
      "53:\tlearn: 0.5948742\ttest: 0.6098282\tbest: 0.6098282 (53)\ttotal: 6m 22s\tremaining: 4h 48m 28s\n",
      "54:\tlearn: 0.5920438\ttest: 0.6074095\tbest: 0.6074095 (54)\ttotal: 6m 29s\tremaining: 4h 48m 38s\n",
      "55:\tlearn: 0.5891044\ttest: 0.6047398\tbest: 0.6047398 (55)\ttotal: 6m 36s\tremaining: 4h 48m 32s\n",
      "56:\tlearn: 0.5864894\ttest: 0.6023807\tbest: 0.6023807 (56)\ttotal: 6m 43s\tremaining: 4h 48m 22s\n",
      "57:\tlearn: 0.5831553\ttest: 0.5997481\tbest: 0.5997481 (57)\ttotal: 6m 50s\tremaining: 4h 48m 12s\n",
      "58:\tlearn: 0.5802755\ttest: 0.5974234\tbest: 0.5974234 (58)\ttotal: 6m 57s\tremaining: 4h 48m 2s\n",
      "59:\tlearn: 0.5775383\ttest: 0.5951161\tbest: 0.5951161 (59)\ttotal: 7m 3s\tremaining: 4h 47m 22s\n",
      "60:\tlearn: 0.5752568\ttest: 0.5930205\tbest: 0.5930205 (60)\ttotal: 7m 11s\tremaining: 4h 47m 18s\n",
      "61:\tlearn: 0.5730007\ttest: 0.5910035\tbest: 0.5910035 (61)\ttotal: 7m 18s\tremaining: 4h 47m 5s\n",
      "62:\tlearn: 0.5704882\ttest: 0.5889364\tbest: 0.5889364 (62)\ttotal: 7m 25s\tremaining: 4h 47m 13s\n",
      "63:\tlearn: 0.5679023\ttest: 0.5866864\tbest: 0.5866864 (63)\ttotal: 7m 31s\tremaining: 4h 46m 40s\n",
      "64:\tlearn: 0.5657271\ttest: 0.5848921\tbest: 0.5848921 (64)\ttotal: 7m 38s\tremaining: 4h 46m 24s\n",
      "65:\tlearn: 0.5633422\ttest: 0.5830405\tbest: 0.5830405 (65)\ttotal: 7m 46s\tremaining: 4h 46m 29s\n",
      "66:\tlearn: 0.5610816\ttest: 0.5809750\tbest: 0.5809750 (66)\ttotal: 7m 53s\tremaining: 4h 46m 39s\n",
      "67:\tlearn: 0.5590913\ttest: 0.5794217\tbest: 0.5794217 (67)\ttotal: 8m\tremaining: 4h 46m 27s\n",
      "68:\tlearn: 0.5576132\ttest: 0.5777196\tbest: 0.5777196 (68)\ttotal: 8m 1s\tremaining: 4h 42m 33s\n",
      "69:\tlearn: 0.5554857\ttest: 0.5756771\tbest: 0.5756771 (69)\ttotal: 8m 7s\tremaining: 4h 42m 7s\n",
      "70:\tlearn: 0.5531091\ttest: 0.5737337\tbest: 0.5737337 (70)\ttotal: 8m 14s\tremaining: 4h 42m 10s\n",
      "71:\tlearn: 0.5510305\ttest: 0.5719263\tbest: 0.5719263 (71)\ttotal: 8m 22s\tremaining: 4h 42m 21s\n",
      "72:\tlearn: 0.5491620\ttest: 0.5703334\tbest: 0.5703334 (72)\ttotal: 8m 28s\tremaining: 4h 41m 51s\n",
      "73:\tlearn: 0.5473541\ttest: 0.5686603\tbest: 0.5686603 (73)\ttotal: 8m 36s\tremaining: 4h 42m 7s\n",
      "74:\tlearn: 0.5455000\ttest: 0.5670245\tbest: 0.5670245 (74)\ttotal: 8m 42s\tremaining: 4h 41m 24s\n",
      "75:\tlearn: 0.5434593\ttest: 0.5652794\tbest: 0.5652794 (75)\ttotal: 8m 49s\tremaining: 4h 41m 20s\n",
      "76:\tlearn: 0.5416093\ttest: 0.5638988\tbest: 0.5638988 (76)\ttotal: 8m 56s\tremaining: 4h 41m 14s\n",
      "77:\tlearn: 0.5398271\ttest: 0.5624671\tbest: 0.5624671 (77)\ttotal: 9m 2s\tremaining: 4h 40m 46s\n",
      "78:\tlearn: 0.5374792\ttest: 0.5608934\tbest: 0.5608934 (78)\ttotal: 9m 9s\tremaining: 4h 40m 43s\n",
      "79:\tlearn: 0.5355168\ttest: 0.5595775\tbest: 0.5595775 (79)\ttotal: 9m 17s\tremaining: 4h 40m 52s\n",
      "80:\tlearn: 0.5338709\ttest: 0.5582661\tbest: 0.5582661 (80)\ttotal: 9m 23s\tremaining: 4h 40m 40s\n",
      "81:\tlearn: 0.5320069\ttest: 0.5568904\tbest: 0.5568904 (81)\ttotal: 9m 31s\tremaining: 4h 41m 1s\n",
      "82:\tlearn: 0.5302222\ttest: 0.5555162\tbest: 0.5555162 (82)\ttotal: 9m 39s\tremaining: 4h 41m 3s\n",
      "83:\tlearn: 0.5287879\ttest: 0.5545178\tbest: 0.5545178 (83)\ttotal: 9m 44s\tremaining: 4h 40m 24s\n",
      "84:\tlearn: 0.5275192\ttest: 0.5534101\tbest: 0.5534101 (84)\ttotal: 9m 50s\tremaining: 4h 39m 33s\n",
      "85:\tlearn: 0.5254167\ttest: 0.5520766\tbest: 0.5520766 (85)\ttotal: 9m 57s\tremaining: 4h 39m 29s\n",
      "86:\tlearn: 0.5240599\ttest: 0.5510541\tbest: 0.5510541 (86)\ttotal: 10m 4s\tremaining: 4h 39m 14s\n",
      "87:\tlearn: 0.5228080\ttest: 0.5500530\tbest: 0.5500530 (87)\ttotal: 10m 10s\tremaining: 4h 39m 6s\n"
     ]
    },
    {
     "name": "stdout",
     "output_type": "stream",
     "text": [
      "88:\tlearn: 0.5212903\ttest: 0.5489462\tbest: 0.5489462 (88)\ttotal: 10m 18s\tremaining: 4h 39m 16s\n",
      "89:\tlearn: 0.5198409\ttest: 0.5478549\tbest: 0.5478549 (89)\ttotal: 10m 25s\tremaining: 4h 39m 2s\n",
      "90:\tlearn: 0.5181986\ttest: 0.5469291\tbest: 0.5469291 (90)\ttotal: 10m 32s\tremaining: 4h 39m 6s\n",
      "91:\tlearn: 0.5170171\ttest: 0.5461945\tbest: 0.5461945 (91)\ttotal: 10m 39s\tremaining: 4h 39m 6s\n",
      "92:\tlearn: 0.5156173\ttest: 0.5450535\tbest: 0.5450535 (92)\ttotal: 10m 45s\tremaining: 4h 38m 38s\n",
      "93:\tlearn: 0.5142976\ttest: 0.5440909\tbest: 0.5440909 (93)\ttotal: 10m 52s\tremaining: 4h 38m 25s\n",
      "94:\tlearn: 0.5128981\ttest: 0.5431733\tbest: 0.5431733 (94)\ttotal: 10m 59s\tremaining: 4h 38m 23s\n",
      "95:\tlearn: 0.5115816\ttest: 0.5421335\tbest: 0.5421335 (95)\ttotal: 11m 6s\tremaining: 4h 38m 8s\n",
      "96:\tlearn: 0.5104668\ttest: 0.5411940\tbest: 0.5411940 (96)\ttotal: 11m 12s\tremaining: 4h 37m 42s\n",
      "97:\tlearn: 0.5091740\ttest: 0.5403113\tbest: 0.5403113 (97)\ttotal: 11m 18s\tremaining: 4h 37m 1s\n",
      "98:\tlearn: 0.5081917\ttest: 0.5395006\tbest: 0.5395006 (98)\ttotal: 11m 25s\tremaining: 4h 36m 59s\n",
      "99:\tlearn: 0.5069627\ttest: 0.5384203\tbest: 0.5384203 (99)\ttotal: 11m 31s\tremaining: 4h 36m 36s\n",
      "100:\tlearn: 0.5055327\ttest: 0.5377010\tbest: 0.5377010 (100)\ttotal: 11m 39s\tremaining: 4h 36m 48s\n",
      "101:\tlearn: 0.5045319\ttest: 0.5370105\tbest: 0.5370105 (101)\ttotal: 11m 45s\tremaining: 4h 36m 35s\n",
      "102:\tlearn: 0.5033787\ttest: 0.5362771\tbest: 0.5362771 (102)\ttotal: 11m 53s\tremaining: 4h 36m 41s\n",
      "103:\tlearn: 0.5021401\ttest: 0.5354788\tbest: 0.5354788 (103)\ttotal: 12m\tremaining: 4h 36m 30s\n",
      "104:\tlearn: 0.5003534\ttest: 0.5344930\tbest: 0.5344930 (104)\ttotal: 12m 6s\tremaining: 4h 36m 10s\n",
      "105:\tlearn: 0.4993414\ttest: 0.5338740\tbest: 0.5338740 (105)\ttotal: 12m 13s\tremaining: 4h 36m 14s\n",
      "106:\tlearn: 0.4981078\ttest: 0.5329563\tbest: 0.5329563 (106)\ttotal: 12m 20s\tremaining: 4h 36m 4s\n",
      "107:\tlearn: 0.4970706\ttest: 0.5322931\tbest: 0.5322931 (107)\ttotal: 12m 27s\tremaining: 4h 36m 5s\n",
      "108:\tlearn: 0.4963849\ttest: 0.5317720\tbest: 0.5317720 (108)\ttotal: 12m 34s\tremaining: 4h 36m\n",
      "109:\tlearn: 0.4949231\ttest: 0.5308455\tbest: 0.5308455 (109)\ttotal: 12m 41s\tremaining: 4h 35m 53s\n",
      "110:\tlearn: 0.4935047\ttest: 0.5300439\tbest: 0.5300439 (110)\ttotal: 12m 49s\tremaining: 4h 35m 59s\n",
      "111:\tlearn: 0.4925611\ttest: 0.5294031\tbest: 0.5294031 (111)\ttotal: 12m 57s\tremaining: 4h 36m 6s\n",
      "112:\tlearn: 0.4915533\ttest: 0.5288064\tbest: 0.5288064 (112)\ttotal: 13m 3s\tremaining: 4h 35m 59s\n",
      "113:\tlearn: 0.4905503\ttest: 0.5281862\tbest: 0.5281862 (113)\ttotal: 13m 10s\tremaining: 4h 35m 52s\n",
      "114:\tlearn: 0.4892569\ttest: 0.5273078\tbest: 0.5273078 (114)\ttotal: 13m 17s\tremaining: 4h 35m 45s\n",
      "115:\tlearn: 0.4880536\ttest: 0.5268530\tbest: 0.5268530 (115)\ttotal: 13m 24s\tremaining: 4h 35m 36s\n",
      "116:\tlearn: 0.4865899\ttest: 0.5261822\tbest: 0.5261822 (116)\ttotal: 13m 31s\tremaining: 4h 35m 24s\n",
      "117:\tlearn: 0.4854984\ttest: 0.5256196\tbest: 0.5256196 (117)\ttotal: 13m 38s\tremaining: 4h 35m 20s\n",
      "118:\tlearn: 0.4841846\ttest: 0.5248676\tbest: 0.5248676 (118)\ttotal: 13m 45s\tremaining: 4h 35m 22s\n",
      "119:\tlearn: 0.4829226\ttest: 0.5243388\tbest: 0.5243388 (119)\ttotal: 13m 53s\tremaining: 4h 35m 23s\n",
      "120:\tlearn: 0.4816083\ttest: 0.5236519\tbest: 0.5236519 (120)\ttotal: 13m 59s\tremaining: 4h 35m 13s\n",
      "121:\tlearn: 0.4803273\ttest: 0.5230409\tbest: 0.5230409 (121)\ttotal: 14m 5s\tremaining: 4h 34m 43s\n",
      "122:\tlearn: 0.4792321\ttest: 0.5225009\tbest: 0.5225009 (122)\ttotal: 14m 11s\tremaining: 4h 34m 20s\n",
      "123:\tlearn: 0.4780967\ttest: 0.5219643\tbest: 0.5219643 (123)\ttotal: 14m 19s\tremaining: 4h 34m 21s\n",
      "124:\tlearn: 0.4770657\ttest: 0.5214913\tbest: 0.5214913 (124)\ttotal: 14m 26s\tremaining: 4h 34m 20s\n",
      "125:\tlearn: 0.4761548\ttest: 0.5208944\tbest: 0.5208944 (125)\ttotal: 14m 32s\tremaining: 4h 33m 50s\n",
      "126:\tlearn: 0.4753231\ttest: 0.5204330\tbest: 0.5204330 (126)\ttotal: 14m 37s\tremaining: 4h 33m 23s\n",
      "127:\tlearn: 0.4744398\ttest: 0.5199671\tbest: 0.5199671 (127)\ttotal: 14m 44s\tremaining: 4h 33m 5s\n",
      "128:\tlearn: 0.4737619\ttest: 0.5195388\tbest: 0.5195388 (128)\ttotal: 14m 51s\tremaining: 4h 33m 9s\n",
      "129:\tlearn: 0.4729093\ttest: 0.5190358\tbest: 0.5190358 (129)\ttotal: 14m 58s\tremaining: 4h 32m 52s\n",
      "130:\tlearn: 0.4715736\ttest: 0.5186140\tbest: 0.5186140 (130)\ttotal: 15m 5s\tremaining: 4h 32m 48s\n",
      "131:\tlearn: 0.4708798\ttest: 0.5182402\tbest: 0.5182402 (131)\ttotal: 15m 11s\tremaining: 4h 32m 30s\n",
      "132:\tlearn: 0.4696584\ttest: 0.5176889\tbest: 0.5176889 (132)\ttotal: 15m 18s\tremaining: 4h 32m 24s\n",
      "133:\tlearn: 0.4688136\ttest: 0.5172606\tbest: 0.5172606 (133)\ttotal: 15m 25s\tremaining: 4h 32m 28s\n",
      "134:\tlearn: 0.4678897\ttest: 0.5167431\tbest: 0.5167431 (134)\ttotal: 15m 32s\tremaining: 4h 32m 20s\n",
      "135:\tlearn: 0.4667424\ttest: 0.5161903\tbest: 0.5161903 (135)\ttotal: 15m 40s\tremaining: 4h 32m 23s\n",
      "136:\tlearn: 0.4657026\ttest: 0.5157749\tbest: 0.5157749 (136)\ttotal: 15m 47s\tremaining: 4h 32m 29s\n",
      "137:\tlearn: 0.4649708\ttest: 0.5152470\tbest: 0.5152470 (137)\ttotal: 15m 54s\tremaining: 4h 32m 14s\n",
      "138:\tlearn: 0.4637362\ttest: 0.5148063\tbest: 0.5148063 (138)\ttotal: 16m 1s\tremaining: 4h 32m 5s\n",
      "139:\tlearn: 0.4627376\ttest: 0.5142515\tbest: 0.5142515 (139)\ttotal: 16m 7s\tremaining: 4h 31m 54s\n",
      "140:\tlearn: 0.4618630\ttest: 0.5138874\tbest: 0.5138874 (140)\ttotal: 16m 14s\tremaining: 4h 31m 40s\n",
      "141:\tlearn: 0.4612343\ttest: 0.5135457\tbest: 0.5135457 (141)\ttotal: 16m 19s\tremaining: 4h 31m 13s\n",
      "142:\tlearn: 0.4603374\ttest: 0.5131648\tbest: 0.5131648 (142)\ttotal: 16m 28s\tremaining: 4h 31m 30s\n",
      "143:\tlearn: 0.4594730\ttest: 0.5127806\tbest: 0.5127806 (143)\ttotal: 16m 35s\tremaining: 4h 31m 32s\n",
      "144:\tlearn: 0.4587964\ttest: 0.5123964\tbest: 0.5123964 (144)\ttotal: 16m 41s\tremaining: 4h 31m 11s\n",
      "145:\tlearn: 0.4582268\ttest: 0.5119195\tbest: 0.5119195 (145)\ttotal: 16m 49s\tremaining: 4h 31m 17s\n",
      "146:\tlearn: 0.4571291\ttest: 0.5115584\tbest: 0.5115584 (146)\ttotal: 16m 56s\tremaining: 4h 31m 10s\n",
      "147:\tlearn: 0.4564249\ttest: 0.5111229\tbest: 0.5111229 (147)\ttotal: 17m 3s\tremaining: 4h 31m 10s\n",
      "148:\tlearn: 0.4559044\ttest: 0.5107863\tbest: 0.5107863 (148)\ttotal: 17m 10s\tremaining: 4h 31m 7s\n",
      "149:\tlearn: 0.4551120\ttest: 0.5104008\tbest: 0.5104008 (149)\ttotal: 17m 18s\tremaining: 4h 31m 3s\n",
      "150:\tlearn: 0.4542980\ttest: 0.5099527\tbest: 0.5099527 (150)\ttotal: 17m 24s\tremaining: 4h 30m 44s\n",
      "151:\tlearn: 0.4531993\ttest: 0.5095007\tbest: 0.5095007 (151)\ttotal: 17m 31s\tremaining: 4h 30m 42s\n",
      "152:\tlearn: 0.4524014\ttest: 0.5091669\tbest: 0.5091669 (152)\ttotal: 17m 37s\tremaining: 4h 30m 26s\n",
      "153:\tlearn: 0.4516468\ttest: 0.5088559\tbest: 0.5088559 (153)\ttotal: 17m 45s\tremaining: 4h 30m 25s\n",
      "154:\tlearn: 0.4510980\ttest: 0.5086683\tbest: 0.5086683 (154)\ttotal: 17m 52s\tremaining: 4h 30m 23s\n",
      "155:\tlearn: 0.4504461\ttest: 0.5083783\tbest: 0.5083783 (155)\ttotal: 17m 59s\tremaining: 4h 30m 22s\n",
      "156:\tlearn: 0.4495197\ttest: 0.5078339\tbest: 0.5078339 (156)\ttotal: 18m 5s\tremaining: 4h 30m\n",
      "157:\tlearn: 0.4483507\ttest: 0.5075109\tbest: 0.5075109 (157)\ttotal: 18m 13s\tremaining: 4h 30m 8s\n",
      "158:\tlearn: 0.4473613\ttest: 0.5072227\tbest: 0.5072227 (158)\ttotal: 18m 19s\tremaining: 4h 29m 54s\n",
      "159:\tlearn: 0.4464074\ttest: 0.5069795\tbest: 0.5069795 (159)\ttotal: 18m 26s\tremaining: 4h 29m 47s\n",
      "160:\tlearn: 0.4453933\ttest: 0.5067092\tbest: 0.5067092 (160)\ttotal: 18m 34s\tremaining: 4h 29m 46s\n",
      "161:\tlearn: 0.4446144\ttest: 0.5064127\tbest: 0.5064127 (161)\ttotal: 18m 41s\tremaining: 4h 29m 48s\n",
      "162:\tlearn: 0.4439983\ttest: 0.5060523\tbest: 0.5060523 (162)\ttotal: 18m 49s\tremaining: 4h 29m 49s\n",
      "163:\tlearn: 0.4433528\ttest: 0.5057358\tbest: 0.5057358 (163)\ttotal: 18m 55s\tremaining: 4h 29m 39s\n",
      "164:\tlearn: 0.4430298\ttest: 0.5055404\tbest: 0.5055404 (164)\ttotal: 19m 2s\tremaining: 4h 29m 31s\n",
      "165:\tlearn: 0.4425165\ttest: 0.5054298\tbest: 0.5054298 (165)\ttotal: 19m 9s\tremaining: 4h 29m 20s\n",
      "166:\tlearn: 0.4418587\ttest: 0.5051561\tbest: 0.5051561 (166)\ttotal: 19m 16s\tremaining: 4h 29m 14s\n",
      "167:\tlearn: 0.4412815\ttest: 0.5049537\tbest: 0.5049537 (167)\ttotal: 19m 23s\tremaining: 4h 29m 6s\n",
      "168:\tlearn: 0.4402006\ttest: 0.5046660\tbest: 0.5046660 (168)\ttotal: 19m 29s\tremaining: 4h 28m 51s\n",
      "169:\tlearn: 0.4395788\ttest: 0.5042956\tbest: 0.5042956 (169)\ttotal: 19m 35s\tremaining: 4h 28m 36s\n",
      "170:\tlearn: 0.4390248\ttest: 0.5040839\tbest: 0.5040839 (170)\ttotal: 19m 43s\tremaining: 4h 28m 36s\n",
      "171:\tlearn: 0.4383107\ttest: 0.5037507\tbest: 0.5037507 (171)\ttotal: 19m 49s\tremaining: 4h 28m 20s\n",
      "172:\tlearn: 0.4377978\ttest: 0.5035310\tbest: 0.5035310 (172)\ttotal: 19m 57s\tremaining: 4h 28m 23s\n",
      "173:\tlearn: 0.4374662\ttest: 0.5033797\tbest: 0.5033797 (173)\ttotal: 20m 4s\tremaining: 4h 28m 15s\n"
     ]
    },
    {
     "name": "stdout",
     "output_type": "stream",
     "text": [
      "174:\tlearn: 0.4371379\ttest: 0.5032533\tbest: 0.5032533 (174)\ttotal: 20m 11s\tremaining: 4h 28m 10s\n",
      "175:\tlearn: 0.4366586\ttest: 0.5030001\tbest: 0.5030001 (175)\ttotal: 20m 17s\tremaining: 4h 28m\n",
      "176:\tlearn: 0.4361154\ttest: 0.5027216\tbest: 0.5027216 (176)\ttotal: 20m 25s\tremaining: 4h 27m 59s\n",
      "177:\tlearn: 0.4358956\ttest: 0.5026020\tbest: 0.5026020 (177)\ttotal: 20m 32s\tremaining: 4h 27m 52s\n",
      "178:\tlearn: 0.4352885\ttest: 0.5024029\tbest: 0.5024029 (178)\ttotal: 20m 38s\tremaining: 4h 27m 40s\n",
      "179:\tlearn: 0.4341210\ttest: 0.5020811\tbest: 0.5020811 (179)\ttotal: 20m 45s\tremaining: 4h 27m 38s\n",
      "180:\tlearn: 0.4336444\ttest: 0.5018208\tbest: 0.5018208 (180)\ttotal: 20m 52s\tremaining: 4h 27m 26s\n",
      "181:\tlearn: 0.4329307\ttest: 0.5016043\tbest: 0.5016043 (181)\ttotal: 21m\tremaining: 4h 27m 28s\n",
      "182:\tlearn: 0.4325464\ttest: 0.5014074\tbest: 0.5014074 (182)\ttotal: 21m 6s\tremaining: 4h 27m 18s\n",
      "183:\tlearn: 0.4319077\ttest: 0.5011915\tbest: 0.5011915 (183)\ttotal: 21m 13s\tremaining: 4h 27m 14s\n",
      "184:\tlearn: 0.4316637\ttest: 0.5010705\tbest: 0.5010705 (184)\ttotal: 21m 21s\tremaining: 4h 27m 12s\n",
      "185:\tlearn: 0.4305933\ttest: 0.5009445\tbest: 0.5009445 (185)\ttotal: 21m 27s\tremaining: 4h 26m 58s\n",
      "186:\tlearn: 0.4299789\ttest: 0.5006301\tbest: 0.5006301 (186)\ttotal: 21m 34s\tremaining: 4h 26m 54s\n",
      "187:\tlearn: 0.4292982\ttest: 0.5003389\tbest: 0.5003389 (187)\ttotal: 21m 41s\tremaining: 4h 26m 49s\n",
      "188:\tlearn: 0.4288054\ttest: 0.5000916\tbest: 0.5000916 (188)\ttotal: 21m 49s\tremaining: 4h 26m 47s\n",
      "189:\tlearn: 0.4281156\ttest: 0.4998114\tbest: 0.4998114 (189)\ttotal: 21m 56s\tremaining: 4h 26m 43s\n",
      "190:\tlearn: 0.4275806\ttest: 0.4996020\tbest: 0.4996020 (190)\ttotal: 22m 2s\tremaining: 4h 26m 26s\n",
      "191:\tlearn: 0.4271625\ttest: 0.4994752\tbest: 0.4994752 (191)\ttotal: 22m 9s\tremaining: 4h 26m 22s\n",
      "192:\tlearn: 0.4265324\ttest: 0.4992793\tbest: 0.4992793 (192)\ttotal: 22m 16s\tremaining: 4h 26m 15s\n",
      "193:\tlearn: 0.4261799\ttest: 0.4991467\tbest: 0.4991467 (193)\ttotal: 22m 22s\tremaining: 4h 25m 54s\n",
      "194:\tlearn: 0.4253390\ttest: 0.4989646\tbest: 0.4989646 (194)\ttotal: 22m 29s\tremaining: 4h 25m 56s\n",
      "195:\tlearn: 0.4245370\ttest: 0.4987259\tbest: 0.4987259 (195)\ttotal: 22m 37s\tremaining: 4h 25m 54s\n",
      "196:\tlearn: 0.4239059\ttest: 0.4985519\tbest: 0.4985519 (196)\ttotal: 22m 44s\tremaining: 4h 25m 51s\n",
      "197:\tlearn: 0.4232716\ttest: 0.4982041\tbest: 0.4982041 (197)\ttotal: 22m 51s\tremaining: 4h 25m 42s\n",
      "198:\tlearn: 0.4226549\ttest: 0.4980387\tbest: 0.4980387 (198)\ttotal: 22m 58s\tremaining: 4h 25m 43s\n",
      "199:\tlearn: 0.4221135\ttest: 0.4978752\tbest: 0.4978752 (199)\ttotal: 23m 5s\tremaining: 4h 25m 35s\n",
      "200:\tlearn: 0.4212443\ttest: 0.4976863\tbest: 0.4976863 (200)\ttotal: 23m 12s\tremaining: 4h 25m 24s\n",
      "201:\tlearn: 0.4209450\ttest: 0.4975795\tbest: 0.4975795 (201)\ttotal: 23m 19s\tremaining: 4h 25m 17s\n",
      "202:\tlearn: 0.4203654\ttest: 0.4973163\tbest: 0.4973163 (202)\ttotal: 23m 25s\tremaining: 4h 24m 58s\n",
      "203:\tlearn: 0.4197387\ttest: 0.4971949\tbest: 0.4971949 (203)\ttotal: 23m 31s\tremaining: 4h 24m 51s\n",
      "204:\tlearn: 0.4193732\ttest: 0.4970181\tbest: 0.4970181 (204)\ttotal: 23m 39s\tremaining: 4h 24m 46s\n",
      "205:\tlearn: 0.4188504\ttest: 0.4968280\tbest: 0.4968280 (205)\ttotal: 23m 45s\tremaining: 4h 24m 36s\n",
      "206:\tlearn: 0.4184933\ttest: 0.4966591\tbest: 0.4966591 (206)\ttotal: 23m 51s\tremaining: 4h 24m 21s\n",
      "207:\tlearn: 0.4177390\ttest: 0.4964507\tbest: 0.4964507 (207)\ttotal: 23m 58s\tremaining: 4h 24m 15s\n",
      "208:\tlearn: 0.4174454\ttest: 0.4963843\tbest: 0.4963843 (208)\ttotal: 24m 6s\tremaining: 4h 24m 16s\n",
      "209:\tlearn: 0.4168098\ttest: 0.4962468\tbest: 0.4962468 (209)\ttotal: 24m 13s\tremaining: 4h 24m 14s\n",
      "210:\tlearn: 0.4159249\ttest: 0.4961068\tbest: 0.4961068 (210)\ttotal: 24m 20s\tremaining: 4h 24m 5s\n",
      "211:\tlearn: 0.4150040\ttest: 0.4958653\tbest: 0.4958653 (211)\ttotal: 24m 27s\tremaining: 4h 24m\n",
      "212:\tlearn: 0.4146814\ttest: 0.4957424\tbest: 0.4957424 (212)\ttotal: 24m 34s\tremaining: 4h 23m 55s\n",
      "213:\tlearn: 0.4140064\ttest: 0.4955025\tbest: 0.4955025 (213)\ttotal: 24m 41s\tremaining: 4h 23m 46s\n",
      "214:\tlearn: 0.4134904\ttest: 0.4952879\tbest: 0.4952879 (214)\ttotal: 24m 48s\tremaining: 4h 23m 37s\n",
      "215:\tlearn: 0.4127265\ttest: 0.4951112\tbest: 0.4951112 (215)\ttotal: 24m 54s\tremaining: 4h 23m 23s\n",
      "216:\tlearn: 0.4123891\ttest: 0.4950042\tbest: 0.4950042 (216)\ttotal: 25m 1s\tremaining: 4h 23m 16s\n",
      "217:\tlearn: 0.4118839\ttest: 0.4949049\tbest: 0.4949049 (217)\ttotal: 25m 8s\tremaining: 4h 23m 12s\n",
      "218:\tlearn: 0.4116227\ttest: 0.4947649\tbest: 0.4947649 (218)\ttotal: 25m 15s\tremaining: 4h 23m 6s\n",
      "219:\tlearn: 0.4111650\ttest: 0.4946128\tbest: 0.4946128 (219)\ttotal: 25m 22s\tremaining: 4h 22m 57s\n",
      "220:\tlearn: 0.4106775\ttest: 0.4944372\tbest: 0.4944372 (220)\ttotal: 25m 28s\tremaining: 4h 22m 46s\n",
      "221:\tlearn: 0.4098338\ttest: 0.4942663\tbest: 0.4942663 (221)\ttotal: 25m 36s\tremaining: 4h 22m 45s\n",
      "222:\tlearn: 0.4093054\ttest: 0.4941259\tbest: 0.4941259 (222)\ttotal: 25m 43s\tremaining: 4h 22m 41s\n",
      "223:\tlearn: 0.4089485\ttest: 0.4940272\tbest: 0.4940272 (223)\ttotal: 25m 48s\tremaining: 4h 22m 18s\n",
      "224:\tlearn: 0.4086846\ttest: 0.4939326\tbest: 0.4939326 (224)\ttotal: 25m 55s\tremaining: 4h 22m 8s\n",
      "225:\tlearn: 0.4081065\ttest: 0.4937266\tbest: 0.4937266 (225)\ttotal: 26m 3s\tremaining: 4h 22m 7s\n",
      "226:\tlearn: 0.4077174\ttest: 0.4935772\tbest: 0.4935772 (226)\ttotal: 26m 10s\tremaining: 4h 22m 5s\n",
      "227:\tlearn: 0.4070776\ttest: 0.4933562\tbest: 0.4933562 (227)\ttotal: 26m 17s\tremaining: 4h 22m 1s\n",
      "228:\tlearn: 0.4061161\ttest: 0.4932309\tbest: 0.4932309 (228)\ttotal: 26m 25s\tremaining: 4h 22m 1s\n",
      "229:\tlearn: 0.4058451\ttest: 0.4931066\tbest: 0.4931066 (229)\ttotal: 26m 32s\tremaining: 4h 21m 53s\n",
      "230:\tlearn: 0.4053568\ttest: 0.4930439\tbest: 0.4930439 (230)\ttotal: 26m 39s\tremaining: 4h 21m 47s\n",
      "231:\tlearn: 0.4049256\ttest: 0.4929836\tbest: 0.4929836 (231)\ttotal: 26m 45s\tremaining: 4h 21m 33s\n",
      "232:\tlearn: 0.4044765\ttest: 0.4928398\tbest: 0.4928398 (232)\ttotal: 26m 52s\tremaining: 4h 21m 31s\n",
      "233:\tlearn: 0.4040801\ttest: 0.4927112\tbest: 0.4927112 (233)\ttotal: 27m\tremaining: 4h 21m 29s\n",
      "234:\tlearn: 0.4033837\ttest: 0.4925588\tbest: 0.4925588 (234)\ttotal: 27m 7s\tremaining: 4h 21m 21s\n",
      "235:\tlearn: 0.4026547\ttest: 0.4924776\tbest: 0.4924776 (235)\ttotal: 27m 14s\tremaining: 4h 21m 16s\n",
      "236:\tlearn: 0.4019403\ttest: 0.4922775\tbest: 0.4922775 (236)\ttotal: 27m 21s\tremaining: 4h 21m 14s\n",
      "237:\tlearn: 0.4013558\ttest: 0.4920947\tbest: 0.4920947 (237)\ttotal: 27m 28s\tremaining: 4h 21m 11s\n",
      "238:\tlearn: 0.4009611\ttest: 0.4919013\tbest: 0.4919013 (238)\ttotal: 27m 35s\tremaining: 4h 21m 4s\n",
      "239:\tlearn: 0.4002717\ttest: 0.4917435\tbest: 0.4917435 (239)\ttotal: 27m 43s\tremaining: 4h 21m\n",
      "240:\tlearn: 0.4000079\ttest: 0.4916468\tbest: 0.4916468 (240)\ttotal: 27m 50s\tremaining: 4h 20m 57s\n",
      "241:\tlearn: 0.3994094\ttest: 0.4914604\tbest: 0.4914604 (241)\ttotal: 27m 57s\tremaining: 4h 20m 49s\n",
      "242:\tlearn: 0.3986505\ttest: 0.4912777\tbest: 0.4912777 (242)\ttotal: 28m 4s\tremaining: 4h 20m 48s\n",
      "243:\tlearn: 0.3981235\ttest: 0.4911654\tbest: 0.4911654 (243)\ttotal: 28m 11s\tremaining: 4h 20m 36s\n",
      "244:\tlearn: 0.3977705\ttest: 0.4910669\tbest: 0.4910669 (244)\ttotal: 28m 18s\tremaining: 4h 20m 28s\n",
      "245:\tlearn: 0.3971997\ttest: 0.4909146\tbest: 0.4909146 (245)\ttotal: 28m 24s\tremaining: 4h 20m 15s\n",
      "246:\tlearn: 0.3968126\ttest: 0.4908218\tbest: 0.4908218 (246)\ttotal: 28m 30s\tremaining: 4h 20m 6s\n",
      "247:\tlearn: 0.3964432\ttest: 0.4907379\tbest: 0.4907379 (247)\ttotal: 28m 37s\tremaining: 4h 19m 59s\n",
      "248:\tlearn: 0.3961987\ttest: 0.4906088\tbest: 0.4906088 (248)\ttotal: 28m 45s\tremaining: 4h 19m 56s\n",
      "249:\tlearn: 0.3955332\ttest: 0.4903589\tbest: 0.4903589 (249)\ttotal: 28m 52s\tremaining: 4h 19m 52s\n",
      "250:\tlearn: 0.3949804\ttest: 0.4902167\tbest: 0.4902167 (250)\ttotal: 28m 58s\tremaining: 4h 19m 41s\n",
      "251:\tlearn: 0.3947522\ttest: 0.4901541\tbest: 0.4901541 (251)\ttotal: 29m 5s\tremaining: 4h 19m 30s\n",
      "252:\tlearn: 0.3940056\ttest: 0.4900530\tbest: 0.4900530 (252)\ttotal: 29m 12s\tremaining: 4h 19m 23s\n",
      "253:\tlearn: 0.3939841\ttest: 0.4900342\tbest: 0.4900342 (253)\ttotal: 29m 12s\tremaining: 4h 18m 18s\n",
      "254:\tlearn: 0.3932942\ttest: 0.4899150\tbest: 0.4899150 (254)\ttotal: 29m 19s\tremaining: 4h 18m 12s\n",
      "255:\tlearn: 0.3928645\ttest: 0.4897847\tbest: 0.4897847 (255)\ttotal: 29m 26s\tremaining: 4h 18m 8s\n",
      "256:\tlearn: 0.3923862\ttest: 0.4897192\tbest: 0.4897192 (256)\ttotal: 29m 34s\tremaining: 4h 18m 3s\n",
      "257:\tlearn: 0.3921487\ttest: 0.4896720\tbest: 0.4896720 (257)\ttotal: 29m 41s\tremaining: 4h 17m 57s\n",
      "258:\tlearn: 0.3917011\ttest: 0.4895150\tbest: 0.4895150 (258)\ttotal: 29m 47s\tremaining: 4h 17m 45s\n"
     ]
    },
    {
     "name": "stdout",
     "output_type": "stream",
     "text": [
      "259:\tlearn: 0.3911488\ttest: 0.4894060\tbest: 0.4894060 (259)\ttotal: 29m 54s\tremaining: 4h 17m 37s\n",
      "260:\tlearn: 0.3909191\ttest: 0.4893331\tbest: 0.4893331 (260)\ttotal: 30m\tremaining: 4h 17m 28s\n",
      "261:\tlearn: 0.3906977\ttest: 0.4892442\tbest: 0.4892442 (261)\ttotal: 30m 7s\tremaining: 4h 17m 16s\n",
      "262:\tlearn: 0.3900576\ttest: 0.4891036\tbest: 0.4891036 (262)\ttotal: 30m 13s\tremaining: 4h 17m 8s\n",
      "263:\tlearn: 0.3894742\ttest: 0.4888931\tbest: 0.4888931 (263)\ttotal: 30m 20s\tremaining: 4h 16m 55s\n",
      "264:\tlearn: 0.3890048\ttest: 0.4887662\tbest: 0.4887662 (264)\ttotal: 30m 27s\tremaining: 4h 16m 53s\n",
      "265:\tlearn: 0.3882452\ttest: 0.4886475\tbest: 0.4886475 (265)\ttotal: 30m 35s\tremaining: 4h 16m 51s\n",
      "266:\tlearn: 0.3876388\ttest: 0.4885000\tbest: 0.4885000 (266)\ttotal: 30m 42s\tremaining: 4h 16m 45s\n",
      "267:\tlearn: 0.3874180\ttest: 0.4884161\tbest: 0.4884161 (267)\ttotal: 30m 48s\tremaining: 4h 16m 32s\n",
      "268:\tlearn: 0.3870309\ttest: 0.4883612\tbest: 0.4883612 (268)\ttotal: 30m 55s\tremaining: 4h 16m 31s\n",
      "269:\tlearn: 0.3865641\ttest: 0.4882338\tbest: 0.4882338 (269)\ttotal: 31m 2s\tremaining: 4h 16m 26s\n",
      "270:\tlearn: 0.3863518\ttest: 0.4881461\tbest: 0.4881461 (270)\ttotal: 31m 9s\tremaining: 4h 16m 17s\n",
      "271:\tlearn: 0.3858341\ttest: 0.4880849\tbest: 0.4880849 (271)\ttotal: 31m 17s\tremaining: 4h 16m 15s\n",
      "272:\tlearn: 0.3856206\ttest: 0.4879839\tbest: 0.4879839 (272)\ttotal: 31m 23s\tremaining: 4h 16m 4s\n",
      "273:\tlearn: 0.3853412\ttest: 0.4879142\tbest: 0.4879142 (273)\ttotal: 31m 31s\tremaining: 4h 16m 3s\n",
      "274:\tlearn: 0.3847523\ttest: 0.4877827\tbest: 0.4877827 (274)\ttotal: 31m 38s\tremaining: 4h 15m 56s\n",
      "275:\tlearn: 0.3839844\ttest: 0.4877207\tbest: 0.4877207 (275)\ttotal: 31m 45s\tremaining: 4h 15m 52s\n",
      "276:\tlearn: 0.3837307\ttest: 0.4876508\tbest: 0.4876508 (276)\ttotal: 31m 52s\tremaining: 4h 15m 46s\n",
      "277:\tlearn: 0.3833405\ttest: 0.4875071\tbest: 0.4875071 (277)\ttotal: 31m 59s\tremaining: 4h 15m 40s\n",
      "278:\tlearn: 0.3827902\ttest: 0.4873779\tbest: 0.4873779 (278)\ttotal: 32m 6s\tremaining: 4h 15m 36s\n",
      "279:\tlearn: 0.3821912\ttest: 0.4871816\tbest: 0.4871816 (279)\ttotal: 32m 14s\tremaining: 4h 15m 34s\n",
      "280:\tlearn: 0.3818284\ttest: 0.4871215\tbest: 0.4871215 (280)\ttotal: 32m 21s\tremaining: 4h 15m 29s\n",
      "281:\tlearn: 0.3815492\ttest: 0.4869576\tbest: 0.4869576 (281)\ttotal: 32m 28s\tremaining: 4h 15m 28s\n",
      "282:\tlearn: 0.3813633\ttest: 0.4868688\tbest: 0.4868688 (282)\ttotal: 32m 35s\tremaining: 4h 15m 18s\n",
      "283:\tlearn: 0.3808235\ttest: 0.4868389\tbest: 0.4868389 (283)\ttotal: 32m 44s\tremaining: 4h 15m 25s\n",
      "284:\tlearn: 0.3802900\ttest: 0.4867452\tbest: 0.4867452 (284)\ttotal: 32m 51s\tremaining: 4h 15m 19s\n",
      "285:\tlearn: 0.3801442\ttest: 0.4866995\tbest: 0.4866995 (285)\ttotal: 32m 59s\tremaining: 4h 15m 27s\n",
      "286:\tlearn: 0.3797292\ttest: 0.4866332\tbest: 0.4866332 (286)\ttotal: 33m 11s\tremaining: 4h 15m 52s\n",
      "287:\tlearn: 0.3790509\ttest: 0.4864968\tbest: 0.4864968 (287)\ttotal: 33m 21s\tremaining: 4h 16m 11s\n",
      "288:\tlearn: 0.3786845\ttest: 0.4863867\tbest: 0.4863867 (288)\ttotal: 33m 31s\tremaining: 4h 16m 29s\n",
      "289:\tlearn: 0.3784838\ttest: 0.4863272\tbest: 0.4863272 (289)\ttotal: 33m 39s\tremaining: 4h 16m 30s\n",
      "290:\tlearn: 0.3779542\ttest: 0.4862471\tbest: 0.4862471 (290)\ttotal: 33m 50s\tremaining: 4h 16m 56s\n",
      "291:\tlearn: 0.3775385\ttest: 0.4861794\tbest: 0.4861794 (291)\ttotal: 34m 2s\tremaining: 4h 17m 24s\n",
      "292:\tlearn: 0.3774649\ttest: 0.4861656\tbest: 0.4861656 (292)\ttotal: 34m 10s\tremaining: 4h 17m 27s\n",
      "293:\tlearn: 0.3773129\ttest: 0.4861177\tbest: 0.4861177 (293)\ttotal: 34m 19s\tremaining: 4h 17m 33s\n",
      "294:\tlearn: 0.3771195\ttest: 0.4860510\tbest: 0.4860510 (294)\ttotal: 34m 30s\tremaining: 4h 17m 55s\n",
      "295:\tlearn: 0.3767209\ttest: 0.4859082\tbest: 0.4859082 (295)\ttotal: 34m 40s\tremaining: 4h 18m 13s\n",
      "296:\tlearn: 0.3763195\ttest: 0.4858226\tbest: 0.4858226 (296)\ttotal: 34m 52s\tremaining: 4h 18m 41s\n",
      "297:\tlearn: 0.3758805\ttest: 0.4857773\tbest: 0.4857773 (297)\ttotal: 35m 3s\tremaining: 4h 19m\n",
      "298:\tlearn: 0.3755594\ttest: 0.4856643\tbest: 0.4856643 (298)\ttotal: 35m 13s\tremaining: 4h 19m 21s\n",
      "299:\tlearn: 0.3753021\ttest: 0.4855654\tbest: 0.4855654 (299)\ttotal: 35m 24s\tremaining: 4h 19m 42s\n",
      "300:\tlearn: 0.3748952\ttest: 0.4854438\tbest: 0.4854438 (300)\ttotal: 35m 36s\tremaining: 4h 20m 5s\n",
      "301:\tlearn: 0.3746329\ttest: 0.4853984\tbest: 0.4853984 (301)\ttotal: 35m 47s\tremaining: 4h 20m 29s\n",
      "302:\tlearn: 0.3742778\ttest: 0.4853390\tbest: 0.4853390 (302)\ttotal: 35m 59s\tremaining: 4h 20m 55s\n",
      "303:\tlearn: 0.3739501\ttest: 0.4852311\tbest: 0.4852311 (303)\ttotal: 36m 8s\tremaining: 4h 21m 4s\n",
      "304:\tlearn: 0.3735913\ttest: 0.4851667\tbest: 0.4851667 (304)\ttotal: 36m 19s\tremaining: 4h 21m 24s\n",
      "305:\tlearn: 0.3732117\ttest: 0.4850604\tbest: 0.4850604 (305)\ttotal: 36m 30s\tremaining: 4h 21m 46s\n",
      "306:\tlearn: 0.3728592\ttest: 0.4849785\tbest: 0.4849785 (306)\ttotal: 36m 42s\tremaining: 4h 22m 9s\n",
      "307:\tlearn: 0.3725236\ttest: 0.4849578\tbest: 0.4849578 (307)\ttotal: 36m 53s\tremaining: 4h 22m 31s\n",
      "308:\tlearn: 0.3724571\ttest: 0.4849432\tbest: 0.4849432 (308)\ttotal: 37m 3s\tremaining: 4h 22m 45s\n",
      "309:\tlearn: 0.3719970\ttest: 0.4848908\tbest: 0.4848908 (309)\ttotal: 37m 12s\tremaining: 4h 22m 54s\n",
      "310:\tlearn: 0.3715581\ttest: 0.4848250\tbest: 0.4848250 (310)\ttotal: 37m 23s\tremaining: 4h 23m 10s\n",
      "311:\tlearn: 0.3712921\ttest: 0.4847648\tbest: 0.4847648 (311)\ttotal: 37m 31s\tremaining: 4h 23m 8s\n",
      "312:\tlearn: 0.3709809\ttest: 0.4846968\tbest: 0.4846968 (312)\ttotal: 37m 38s\tremaining: 4h 23m 2s\n",
      "313:\tlearn: 0.3706305\ttest: 0.4846383\tbest: 0.4846383 (313)\ttotal: 37m 45s\tremaining: 4h 22m 50s\n",
      "314:\tlearn: 0.3703327\ttest: 0.4845309\tbest: 0.4845309 (314)\ttotal: 37m 52s\tremaining: 4h 22m 43s\n",
      "315:\tlearn: 0.3697870\ttest: 0.4844192\tbest: 0.4844192 (315)\ttotal: 37m 58s\tremaining: 4h 22m 25s\n",
      "316:\tlearn: 0.3694809\ttest: 0.4843459\tbest: 0.4843459 (316)\ttotal: 38m 5s\tremaining: 4h 22m 19s\n",
      "317:\tlearn: 0.3690154\ttest: 0.4841961\tbest: 0.4841961 (317)\ttotal: 38m 12s\tremaining: 4h 22m 9s\n",
      "318:\tlearn: 0.3686111\ttest: 0.4840910\tbest: 0.4840910 (318)\ttotal: 38m 19s\tremaining: 4h 21m 59s\n",
      "319:\tlearn: 0.3680169\ttest: 0.4840090\tbest: 0.4840090 (319)\ttotal: 38m 27s\tremaining: 4h 21m 56s\n",
      "320:\tlearn: 0.3676561\ttest: 0.4839290\tbest: 0.4839290 (320)\ttotal: 38m 34s\tremaining: 4h 21m 48s\n",
      "321:\tlearn: 0.3672598\ttest: 0.4838457\tbest: 0.4838457 (321)\ttotal: 38m 41s\tremaining: 4h 21m 41s\n",
      "322:\tlearn: 0.3665356\ttest: 0.4837482\tbest: 0.4837482 (322)\ttotal: 38m 48s\tremaining: 4h 21m 37s\n",
      "323:\tlearn: 0.3662290\ttest: 0.4836927\tbest: 0.4836927 (323)\ttotal: 38m 54s\tremaining: 4h 21m 21s\n",
      "324:\tlearn: 0.3658671\ttest: 0.4835703\tbest: 0.4835703 (324)\ttotal: 39m 1s\tremaining: 4h 21m 12s\n",
      "325:\tlearn: 0.3653495\ttest: 0.4834964\tbest: 0.4834964 (325)\ttotal: 39m 9s\tremaining: 4h 21m 7s\n",
      "326:\tlearn: 0.3650361\ttest: 0.4834333\tbest: 0.4834333 (326)\ttotal: 39m 16s\tremaining: 4h 20m 58s\n",
      "327:\tlearn: 0.3648890\ttest: 0.4833775\tbest: 0.4833775 (327)\ttotal: 39m 23s\tremaining: 4h 20m 49s\n",
      "328:\tlearn: 0.3645860\ttest: 0.4833319\tbest: 0.4833319 (328)\ttotal: 39m 30s\tremaining: 4h 20m 43s\n",
      "329:\tlearn: 0.3641724\ttest: 0.4832408\tbest: 0.4832408 (329)\ttotal: 39m 37s\tremaining: 4h 20m 34s\n",
      "330:\tlearn: 0.3636480\ttest: 0.4831587\tbest: 0.4831587 (330)\ttotal: 39m 45s\tremaining: 4h 20m 28s\n",
      "331:\tlearn: 0.3628962\ttest: 0.4831203\tbest: 0.4831203 (331)\ttotal: 39m 50s\tremaining: 4h 20m 10s\n",
      "332:\tlearn: 0.3625003\ttest: 0.4830745\tbest: 0.4830745 (332)\ttotal: 39m 55s\tremaining: 4h 19m 48s\n",
      "333:\tlearn: 0.3618353\ttest: 0.4829856\tbest: 0.4829856 (333)\ttotal: 40m 3s\tremaining: 4h 19m 45s\n",
      "334:\tlearn: 0.3612640\ttest: 0.4829467\tbest: 0.4829467 (334)\ttotal: 40m 10s\tremaining: 4h 19m 36s\n",
      "335:\tlearn: 0.3609518\ttest: 0.4828644\tbest: 0.4828644 (335)\ttotal: 40m 17s\tremaining: 4h 19m 31s\n",
      "336:\tlearn: 0.3606551\ttest: 0.4828338\tbest: 0.4828338 (336)\ttotal: 40m 24s\tremaining: 4h 19m 23s\n",
      "337:\tlearn: 0.3602594\ttest: 0.4827654\tbest: 0.4827654 (337)\ttotal: 40m 32s\tremaining: 4h 19m 19s\n",
      "338:\tlearn: 0.3600018\ttest: 0.4827484\tbest: 0.4827484 (338)\ttotal: 40m 39s\tremaining: 4h 19m 9s\n",
      "339:\tlearn: 0.3597532\ttest: 0.4826978\tbest: 0.4826978 (339)\ttotal: 40m 45s\tremaining: 4h 18m 54s\n",
      "340:\tlearn: 0.3593655\ttest: 0.4826487\tbest: 0.4826487 (340)\ttotal: 40m 52s\tremaining: 4h 18m 49s\n",
      "341:\tlearn: 0.3588883\ttest: 0.4826136\tbest: 0.4826136 (341)\ttotal: 41m\tremaining: 4h 18m 42s\n",
      "342:\tlearn: 0.3586777\ttest: 0.4825642\tbest: 0.4825642 (342)\ttotal: 41m 7s\tremaining: 4h 18m 38s\n",
      "343:\tlearn: 0.3582948\ttest: 0.4824865\tbest: 0.4824865 (343)\ttotal: 41m 13s\tremaining: 4h 18m 21s\n"
     ]
    },
    {
     "name": "stdout",
     "output_type": "stream",
     "text": [
      "344:\tlearn: 0.3577443\ttest: 0.4824005\tbest: 0.4824005 (344)\ttotal: 41m 20s\tremaining: 4h 18m 17s\n",
      "345:\tlearn: 0.3572288\ttest: 0.4822814\tbest: 0.4822814 (345)\ttotal: 41m 27s\tremaining: 4h 18m 6s\n",
      "346:\tlearn: 0.3570033\ttest: 0.4822760\tbest: 0.4822760 (346)\ttotal: 41m 35s\tremaining: 4h 18m\n",
      "347:\tlearn: 0.3564165\ttest: 0.4821911\tbest: 0.4821911 (347)\ttotal: 41m 42s\tremaining: 4h 17m 56s\n",
      "348:\tlearn: 0.3561331\ttest: 0.4821495\tbest: 0.4821495 (348)\ttotal: 41m 50s\tremaining: 4h 17m 52s\n",
      "349:\tlearn: 0.3558452\ttest: 0.4820941\tbest: 0.4820941 (349)\ttotal: 41m 57s\tremaining: 4h 17m 45s\n",
      "350:\tlearn: 0.3557291\ttest: 0.4820727\tbest: 0.4820727 (350)\ttotal: 42m 4s\tremaining: 4h 17m 37s\n",
      "351:\tlearn: 0.3552277\ttest: 0.4819922\tbest: 0.4819922 (351)\ttotal: 42m 12s\tremaining: 4h 17m 31s\n",
      "352:\tlearn: 0.3548299\ttest: 0.4818635\tbest: 0.4818635 (352)\ttotal: 42m 19s\tremaining: 4h 17m 22s\n",
      "353:\tlearn: 0.3544454\ttest: 0.4817664\tbest: 0.4817664 (353)\ttotal: 42m 25s\tremaining: 4h 17m 9s\n",
      "354:\tlearn: 0.3539087\ttest: 0.4816931\tbest: 0.4816931 (354)\ttotal: 42m 32s\tremaining: 4h 17m\n",
      "355:\tlearn: 0.3535338\ttest: 0.4816149\tbest: 0.4816149 (355)\ttotal: 42m 39s\tremaining: 4h 16m 53s\n",
      "356:\tlearn: 0.3533113\ttest: 0.4815964\tbest: 0.4815964 (356)\ttotal: 42m 46s\tremaining: 4h 16m 47s\n",
      "357:\tlearn: 0.3529159\ttest: 0.4815431\tbest: 0.4815431 (357)\ttotal: 42m 54s\tremaining: 4h 16m 41s\n",
      "358:\tlearn: 0.3524711\ttest: 0.4814987\tbest: 0.4814987 (358)\ttotal: 43m 1s\tremaining: 4h 16m 32s\n",
      "359:\tlearn: 0.3520794\ttest: 0.4814985\tbest: 0.4814985 (359)\ttotal: 43m 8s\tremaining: 4h 16m 26s\n",
      "360:\tlearn: 0.3516357\ttest: 0.4813937\tbest: 0.4813937 (360)\ttotal: 43m 15s\tremaining: 4h 16m 18s\n",
      "361:\tlearn: 0.3511959\ttest: 0.4813368\tbest: 0.4813368 (361)\ttotal: 43m 22s\tremaining: 4h 16m 11s\n",
      "362:\tlearn: 0.3508813\ttest: 0.4812136\tbest: 0.4812136 (362)\ttotal: 43m 29s\tremaining: 4h 15m 59s\n",
      "363:\tlearn: 0.3506932\ttest: 0.4811593\tbest: 0.4811593 (363)\ttotal: 43m 35s\tremaining: 4h 15m 49s\n",
      "364:\tlearn: 0.3504026\ttest: 0.4811377\tbest: 0.4811377 (364)\ttotal: 43m 43s\tremaining: 4h 15m 42s\n",
      "365:\tlearn: 0.3501470\ttest: 0.4810749\tbest: 0.4810749 (365)\ttotal: 43m 50s\tremaining: 4h 15m 36s\n",
      "366:\tlearn: 0.3498932\ttest: 0.4810530\tbest: 0.4810530 (366)\ttotal: 43m 57s\tremaining: 4h 15m 30s\n",
      "367:\tlearn: 0.3494847\ttest: 0.4810401\tbest: 0.4810401 (367)\ttotal: 44m 5s\tremaining: 4h 15m 24s\n",
      "368:\tlearn: 0.3488865\ttest: 0.4808902\tbest: 0.4808902 (368)\ttotal: 44m 12s\tremaining: 4h 15m 19s\n",
      "369:\tlearn: 0.3485690\ttest: 0.4808303\tbest: 0.4808303 (369)\ttotal: 44m 19s\tremaining: 4h 15m 10s\n",
      "370:\tlearn: 0.3482987\ttest: 0.4807884\tbest: 0.4807884 (370)\ttotal: 44m 26s\tremaining: 4h 15m 2s\n",
      "371:\tlearn: 0.3477096\ttest: 0.4807360\tbest: 0.4807360 (371)\ttotal: 44m 34s\tremaining: 4h 14m 56s\n",
      "372:\tlearn: 0.3473171\ttest: 0.4806699\tbest: 0.4806699 (372)\ttotal: 44m 41s\tremaining: 4h 14m 51s\n",
      "373:\tlearn: 0.3469048\ttest: 0.4806006\tbest: 0.4806006 (373)\ttotal: 44m 46s\tremaining: 4h 14m 32s\n",
      "374:\tlearn: 0.3466018\ttest: 0.4805187\tbest: 0.4805187 (374)\ttotal: 44m 54s\tremaining: 4h 14m 26s\n",
      "375:\tlearn: 0.3462490\ttest: 0.4803593\tbest: 0.4803593 (375)\ttotal: 44m 59s\tremaining: 4h 14m 8s\n",
      "376:\tlearn: 0.3458962\ttest: 0.4802374\tbest: 0.4802374 (376)\ttotal: 45m 5s\tremaining: 4h 13m 52s\n",
      "377:\tlearn: 0.3456046\ttest: 0.4802131\tbest: 0.4802131 (377)\ttotal: 45m 11s\tremaining: 4h 13m 41s\n",
      "378:\tlearn: 0.3453015\ttest: 0.4801484\tbest: 0.4801484 (378)\ttotal: 45m 18s\tremaining: 4h 13m 34s\n",
      "379:\tlearn: 0.3447127\ttest: 0.4800307\tbest: 0.4800307 (379)\ttotal: 45m 25s\tremaining: 4h 13m 23s\n",
      "380:\tlearn: 0.3444562\ttest: 0.4799880\tbest: 0.4799880 (380)\ttotal: 45m 31s\tremaining: 4h 13m 13s\n",
      "381:\tlearn: 0.3441312\ttest: 0.4799427\tbest: 0.4799427 (381)\ttotal: 45m 38s\tremaining: 4h 13m 2s\n",
      "382:\tlearn: 0.3438318\ttest: 0.4798761\tbest: 0.4798761 (382)\ttotal: 45m 46s\tremaining: 4h 12m 58s\n",
      "383:\tlearn: 0.3434433\ttest: 0.4798357\tbest: 0.4798357 (383)\ttotal: 45m 53s\tremaining: 4h 12m 54s\n",
      "384:\tlearn: 0.3431857\ttest: 0.4798429\tbest: 0.4798357 (383)\ttotal: 46m 1s\tremaining: 4h 12m 50s\n",
      "385:\tlearn: 0.3427670\ttest: 0.4798054\tbest: 0.4798054 (385)\ttotal: 46m 8s\tremaining: 4h 12m 44s\n",
      "386:\tlearn: 0.3424506\ttest: 0.4797504\tbest: 0.4797504 (386)\ttotal: 46m 15s\tremaining: 4h 12m 33s\n",
      "387:\tlearn: 0.3422467\ttest: 0.4797232\tbest: 0.4797232 (387)\ttotal: 46m 21s\tremaining: 4h 12m 18s\n",
      "388:\tlearn: 0.3418007\ttest: 0.4796954\tbest: 0.4796954 (388)\ttotal: 46m 28s\tremaining: 4h 12m 10s\n",
      "389:\tlearn: 0.3416054\ttest: 0.4796266\tbest: 0.4796266 (389)\ttotal: 46m 34s\tremaining: 4h 11m 58s\n",
      "390:\tlearn: 0.3412467\ttest: 0.4795600\tbest: 0.4795600 (390)\ttotal: 46m 40s\tremaining: 4h 11m 46s\n",
      "391:\tlearn: 0.3408940\ttest: 0.4794864\tbest: 0.4794864 (391)\ttotal: 46m 47s\tremaining: 4h 11m 38s\n",
      "392:\tlearn: 0.3402491\ttest: 0.4794333\tbest: 0.4794333 (392)\ttotal: 46m 54s\tremaining: 4h 11m 28s\n",
      "393:\tlearn: 0.3400464\ttest: 0.4794246\tbest: 0.4794246 (393)\ttotal: 47m 1s\tremaining: 4h 11m 22s\n",
      "394:\tlearn: 0.3394409\ttest: 0.4793591\tbest: 0.4793591 (394)\ttotal: 47m 9s\tremaining: 4h 11m 17s\n",
      "395:\tlearn: 0.3392113\ttest: 0.4792958\tbest: 0.4792958 (395)\ttotal: 47m 15s\tremaining: 4h 11m 5s\n",
      "396:\tlearn: 0.3388778\ttest: 0.4792409\tbest: 0.4792409 (396)\ttotal: 47m 21s\tremaining: 4h 10m 53s\n",
      "397:\tlearn: 0.3387150\ttest: 0.4792101\tbest: 0.4792101 (397)\ttotal: 47m 27s\tremaining: 4h 10m 40s\n",
      "398:\tlearn: 0.3382878\ttest: 0.4791619\tbest: 0.4791619 (398)\ttotal: 47m 34s\tremaining: 4h 10m 29s\n",
      "399:\tlearn: 0.3380927\ttest: 0.4791643\tbest: 0.4791619 (398)\ttotal: 47m 41s\tremaining: 4h 10m 21s\n",
      "400:\tlearn: 0.3379122\ttest: 0.4791268\tbest: 0.4791268 (400)\ttotal: 47m 47s\tremaining: 4h 10m 7s\n",
      "401:\tlearn: 0.3377168\ttest: 0.4790548\tbest: 0.4790548 (401)\ttotal: 47m 53s\tremaining: 4h 9m 54s\n",
      "402:\tlearn: 0.3371561\ttest: 0.4789433\tbest: 0.4789433 (402)\ttotal: 48m\tremaining: 4h 9m 46s\n",
      "403:\tlearn: 0.3368184\ttest: 0.4789021\tbest: 0.4789021 (403)\ttotal: 48m 6s\tremaining: 4h 9m 34s\n",
      "404:\tlearn: 0.3365567\ttest: 0.4788829\tbest: 0.4788829 (404)\ttotal: 48m 12s\tremaining: 4h 9m 24s\n",
      "405:\tlearn: 0.3362694\ttest: 0.4788326\tbest: 0.4788326 (405)\ttotal: 48m 18s\tremaining: 4h 9m 8s\n",
      "406:\tlearn: 0.3358329\ttest: 0.4787978\tbest: 0.4787978 (406)\ttotal: 48m 25s\tremaining: 4h 9m\n",
      "407:\tlearn: 0.3354014\ttest: 0.4787654\tbest: 0.4787654 (407)\ttotal: 48m 31s\tremaining: 4h 8m 50s\n",
      "408:\tlearn: 0.3351694\ttest: 0.4787322\tbest: 0.4787322 (408)\ttotal: 48m 38s\tremaining: 4h 8m 39s\n",
      "409:\tlearn: 0.3349348\ttest: 0.4787120\tbest: 0.4787120 (409)\ttotal: 48m 45s\tremaining: 4h 8m 31s\n",
      "410:\tlearn: 0.3347719\ttest: 0.4786727\tbest: 0.4786727 (410)\ttotal: 48m 51s\tremaining: 4h 8m 20s\n",
      "411:\tlearn: 0.3341067\ttest: 0.4785696\tbest: 0.4785696 (411)\ttotal: 48m 58s\tremaining: 4h 8m 13s\n",
      "412:\tlearn: 0.3338449\ttest: 0.4785495\tbest: 0.4785495 (412)\ttotal: 49m 4s\tremaining: 4h 8m\n",
      "413:\tlearn: 0.3336581\ttest: 0.4785128\tbest: 0.4785128 (413)\ttotal: 49m 11s\tremaining: 4h 7m 51s\n",
      "414:\tlearn: 0.3333441\ttest: 0.4784570\tbest: 0.4784570 (414)\ttotal: 49m 18s\tremaining: 4h 7m 44s\n",
      "415:\tlearn: 0.3328720\ttest: 0.4783930\tbest: 0.4783930 (415)\ttotal: 49m 25s\tremaining: 4h 7m 38s\n",
      "416:\tlearn: 0.3326401\ttest: 0.4783983\tbest: 0.4783930 (415)\ttotal: 49m 31s\tremaining: 4h 7m 25s\n",
      "417:\tlearn: 0.3321192\ttest: 0.4783676\tbest: 0.4783676 (417)\ttotal: 49m 38s\tremaining: 4h 7m 17s\n",
      "418:\tlearn: 0.3316894\ttest: 0.4783479\tbest: 0.4783479 (418)\ttotal: 49m 45s\tremaining: 4h 7m 6s\n",
      "419:\tlearn: 0.3314764\ttest: 0.4782704\tbest: 0.4782704 (419)\ttotal: 49m 50s\tremaining: 4h 6m 52s\n",
      "420:\tlearn: 0.3313269\ttest: 0.4782611\tbest: 0.4782611 (420)\ttotal: 49m 58s\tremaining: 4h 6m 46s\n",
      "421:\tlearn: 0.3309808\ttest: 0.4781964\tbest: 0.4781964 (421)\ttotal: 50m 4s\tremaining: 4h 6m 34s\n",
      "422:\tlearn: 0.3307268\ttest: 0.4781602\tbest: 0.4781602 (422)\ttotal: 50m 10s\tremaining: 4h 6m 23s\n",
      "423:\tlearn: 0.3303478\ttest: 0.4780888\tbest: 0.4780888 (423)\ttotal: 50m 17s\tremaining: 4h 6m 16s\n",
      "424:\tlearn: 0.3300774\ttest: 0.4780241\tbest: 0.4780241 (424)\ttotal: 50m 24s\tremaining: 4h 6m 8s\n",
      "425:\tlearn: 0.3296827\ttest: 0.4778602\tbest: 0.4778602 (425)\ttotal: 50m 30s\tremaining: 4h 5m 55s\n",
      "426:\tlearn: 0.3290920\ttest: 0.4777842\tbest: 0.4777842 (426)\ttotal: 50m 37s\tremaining: 4h 5m 47s\n",
      "427:\tlearn: 0.3286256\ttest: 0.4776954\tbest: 0.4776954 (427)\ttotal: 50m 44s\tremaining: 4h 5m 38s\n",
      "428:\tlearn: 0.3283391\ttest: 0.4776637\tbest: 0.4776637 (428)\ttotal: 50m 51s\tremaining: 4h 5m 33s\n",
      "429:\tlearn: 0.3278838\ttest: 0.4775843\tbest: 0.4775843 (429)\ttotal: 50m 59s\tremaining: 4h 5m 28s\n"
     ]
    },
    {
     "name": "stdout",
     "output_type": "stream",
     "text": [
      "430:\tlearn: 0.3274681\ttest: 0.4774941\tbest: 0.4774941 (430)\ttotal: 51m 5s\tremaining: 4h 5m 17s\n",
      "431:\tlearn: 0.3271831\ttest: 0.4774224\tbest: 0.4774224 (431)\ttotal: 51m 12s\tremaining: 4h 5m 8s\n",
      "432:\tlearn: 0.3268336\ttest: 0.4773649\tbest: 0.4773649 (432)\ttotal: 51m 18s\tremaining: 4h 4m 55s\n",
      "433:\tlearn: 0.3262349\ttest: 0.4773180\tbest: 0.4773180 (433)\ttotal: 51m 24s\tremaining: 4h 4m 44s\n",
      "434:\tlearn: 0.3258046\ttest: 0.4773275\tbest: 0.4773180 (433)\ttotal: 51m 30s\tremaining: 4h 4m 32s\n",
      "435:\tlearn: 0.3256690\ttest: 0.4772958\tbest: 0.4772958 (435)\ttotal: 51m 37s\tremaining: 4h 4m 23s\n",
      "436:\tlearn: 0.3250559\ttest: 0.4772243\tbest: 0.4772243 (436)\ttotal: 51m 44s\tremaining: 4h 4m 17s\n",
      "437:\tlearn: 0.3248666\ttest: 0.4771992\tbest: 0.4771992 (437)\ttotal: 51m 51s\tremaining: 4h 4m 6s\n",
      "438:\tlearn: 0.3246627\ttest: 0.4771727\tbest: 0.4771727 (438)\ttotal: 51m 57s\tremaining: 4h 3m 56s\n",
      "439:\tlearn: 0.3243728\ttest: 0.4770816\tbest: 0.4770816 (439)\ttotal: 52m 5s\tremaining: 4h 3m 51s\n",
      "440:\tlearn: 0.3239264\ttest: 0.4770519\tbest: 0.4770519 (440)\ttotal: 52m 12s\tremaining: 4h 3m 45s\n",
      "441:\tlearn: 0.3235909\ttest: 0.4769497\tbest: 0.4769497 (441)\ttotal: 52m 19s\tremaining: 4h 3m 36s\n",
      "442:\tlearn: 0.3233794\ttest: 0.4769066\tbest: 0.4769066 (442)\ttotal: 52m 26s\tremaining: 4h 3m 30s\n",
      "443:\tlearn: 0.3230382\ttest: 0.4768781\tbest: 0.4768781 (443)\ttotal: 52m 31s\tremaining: 4h 3m 15s\n",
      "444:\tlearn: 0.3228590\ttest: 0.4768405\tbest: 0.4768405 (444)\ttotal: 52m 38s\tremaining: 4h 3m 7s\n",
      "445:\tlearn: 0.3227815\ttest: 0.4768199\tbest: 0.4768199 (445)\ttotal: 52m 45s\tremaining: 4h 2m 56s\n",
      "446:\tlearn: 0.3225868\ttest: 0.4767700\tbest: 0.4767700 (446)\ttotal: 52m 52s\tremaining: 4h 2m 50s\n",
      "447:\tlearn: 0.3224084\ttest: 0.4767388\tbest: 0.4767388 (447)\ttotal: 52m 57s\tremaining: 4h 2m 34s\n",
      "448:\tlearn: 0.3221109\ttest: 0.4767046\tbest: 0.4767046 (448)\ttotal: 53m 4s\tremaining: 4h 2m 26s\n",
      "449:\tlearn: 0.3216949\ttest: 0.4767048\tbest: 0.4767046 (448)\ttotal: 53m 11s\tremaining: 4h 2m 19s\n",
      "450:\tlearn: 0.3213417\ttest: 0.4766145\tbest: 0.4766145 (450)\ttotal: 53m 17s\tremaining: 4h 2m 6s\n",
      "451:\tlearn: 0.3211053\ttest: 0.4765854\tbest: 0.4765854 (451)\ttotal: 53m 23s\tremaining: 4h 1m 53s\n",
      "452:\tlearn: 0.3210022\ttest: 0.4765454\tbest: 0.4765454 (452)\ttotal: 53m 30s\tremaining: 4h 1m 47s\n",
      "453:\tlearn: 0.3203702\ttest: 0.4765064\tbest: 0.4765064 (453)\ttotal: 53m 36s\tremaining: 4h 1m 37s\n",
      "454:\tlearn: 0.3201586\ttest: 0.4764901\tbest: 0.4764901 (454)\ttotal: 53m 42s\tremaining: 4h 1m 23s\n",
      "455:\tlearn: 0.3198430\ttest: 0.4764755\tbest: 0.4764755 (455)\ttotal: 53m 49s\tremaining: 4h 1m 15s\n",
      "456:\tlearn: 0.3196174\ttest: 0.4764580\tbest: 0.4764580 (456)\ttotal: 53m 56s\tremaining: 4h 1m 9s\n",
      "457:\tlearn: 0.3192986\ttest: 0.4764237\tbest: 0.4764237 (457)\ttotal: 54m 3s\tremaining: 4h 1m 1s\n",
      "458:\tlearn: 0.3191167\ttest: 0.4763927\tbest: 0.4763927 (458)\ttotal: 54m 10s\tremaining: 4h 55s\n",
      "459:\tlearn: 0.3189725\ttest: 0.4763605\tbest: 0.4763605 (459)\ttotal: 54m 16s\tremaining: 4h 43s\n",
      "460:\tlearn: 0.3185714\ttest: 0.4763047\tbest: 0.4763047 (460)\ttotal: 54m 24s\tremaining: 4h 38s\n",
      "461:\tlearn: 0.3183725\ttest: 0.4762794\tbest: 0.4762794 (461)\ttotal: 54m 30s\tremaining: 4h 27s\n",
      "462:\tlearn: 0.3182040\ttest: 0.4762754\tbest: 0.4762754 (462)\ttotal: 54m 36s\tremaining: 4h 15s\n",
      "463:\tlearn: 0.3178722\ttest: 0.4762317\tbest: 0.4762317 (463)\ttotal: 54m 42s\tremaining: 4h 1s\n",
      "464:\tlearn: 0.3177346\ttest: 0.4762117\tbest: 0.4762117 (464)\ttotal: 54m 48s\tremaining: 3h 59m 51s\n",
      "465:\tlearn: 0.3175332\ttest: 0.4761617\tbest: 0.4761617 (465)\ttotal: 54m 54s\tremaining: 3h 59m 38s\n",
      "466:\tlearn: 0.3169470\ttest: 0.4760978\tbest: 0.4760978 (466)\ttotal: 55m\tremaining: 3h 59m 29s\n",
      "467:\tlearn: 0.3167863\ttest: 0.4760669\tbest: 0.4760669 (467)\ttotal: 55m 7s\tremaining: 3h 59m 21s\n",
      "468:\tlearn: 0.3165671\ttest: 0.4760295\tbest: 0.4760295 (468)\ttotal: 55m 12s\tremaining: 3h 59m 6s\n",
      "469:\tlearn: 0.3162757\ttest: 0.4759934\tbest: 0.4759934 (469)\ttotal: 55m 18s\tremaining: 3h 58m 53s\n",
      "470:\tlearn: 0.3159532\ttest: 0.4759658\tbest: 0.4759658 (470)\ttotal: 55m 24s\tremaining: 3h 58m 42s\n",
      "471:\tlearn: 0.3157131\ttest: 0.4759401\tbest: 0.4759401 (471)\ttotal: 55m 31s\tremaining: 3h 58m 32s\n",
      "472:\tlearn: 0.3155749\ttest: 0.4759206\tbest: 0.4759206 (472)\ttotal: 55m 36s\tremaining: 3h 58m 19s\n",
      "473:\tlearn: 0.3152924\ttest: 0.4758754\tbest: 0.4758754 (473)\ttotal: 55m 42s\tremaining: 3h 58m 6s\n",
      "474:\tlearn: 0.3152002\ttest: 0.4758651\tbest: 0.4758651 (474)\ttotal: 55m 48s\tremaining: 3h 57m 55s\n",
      "475:\tlearn: 0.3150655\ttest: 0.4757837\tbest: 0.4757837 (475)\ttotal: 55m 55s\tremaining: 3h 57m 47s\n",
      "476:\tlearn: 0.3146548\ttest: 0.4757318\tbest: 0.4757318 (476)\ttotal: 56m 2s\tremaining: 3h 57m 41s\n",
      "477:\tlearn: 0.3142911\ttest: 0.4756652\tbest: 0.4756652 (477)\ttotal: 56m 9s\tremaining: 3h 57m 33s\n",
      "478:\tlearn: 0.3139670\ttest: 0.4755603\tbest: 0.4755603 (478)\ttotal: 56m 14s\tremaining: 3h 57m 19s\n",
      "479:\tlearn: 0.3136118\ttest: 0.4755048\tbest: 0.4755048 (479)\ttotal: 56m 21s\tremaining: 3h 57m 8s\n",
      "480:\tlearn: 0.3132237\ttest: 0.4754661\tbest: 0.4754661 (480)\ttotal: 56m 28s\tremaining: 3h 57m 1s\n",
      "481:\tlearn: 0.3130728\ttest: 0.4754458\tbest: 0.4754458 (481)\ttotal: 56m 33s\tremaining: 3h 56m 45s\n",
      "482:\tlearn: 0.3126370\ttest: 0.4753907\tbest: 0.4753907 (482)\ttotal: 56m 39s\tremaining: 3h 56m 37s\n",
      "483:\tlearn: 0.3122432\ttest: 0.4753696\tbest: 0.4753696 (483)\ttotal: 56m 46s\tremaining: 3h 56m 28s\n",
      "484:\tlearn: 0.3120003\ttest: 0.4753163\tbest: 0.4753163 (484)\ttotal: 56m 52s\tremaining: 3h 56m 19s\n",
      "485:\tlearn: 0.3117548\ttest: 0.4752879\tbest: 0.4752879 (485)\ttotal: 56m 58s\tremaining: 3h 56m 4s\n",
      "486:\tlearn: 0.3114020\ttest: 0.4752542\tbest: 0.4752542 (486)\ttotal: 57m 5s\tremaining: 3h 55m 58s\n",
      "487:\tlearn: 0.3113030\ttest: 0.4752476\tbest: 0.4752476 (487)\ttotal: 57m 10s\tremaining: 3h 55m 43s\n",
      "488:\tlearn: 0.3111505\ttest: 0.4752130\tbest: 0.4752130 (488)\ttotal: 57m 15s\tremaining: 3h 55m 30s\n",
      "489:\tlearn: 0.3109318\ttest: 0.4751634\tbest: 0.4751634 (489)\ttotal: 57m 23s\tremaining: 3h 55m 24s\n",
      "490:\tlearn: 0.3106415\ttest: 0.4751408\tbest: 0.4751408 (490)\ttotal: 57m 28s\tremaining: 3h 55m 10s\n",
      "491:\tlearn: 0.3103839\ttest: 0.4751288\tbest: 0.4751288 (491)\ttotal: 57m 34s\tremaining: 3h 55m\n",
      "492:\tlearn: 0.3099311\ttest: 0.4751116\tbest: 0.4751116 (492)\ttotal: 57m 41s\tremaining: 3h 54m 50s\n",
      "493:\tlearn: 0.3096339\ttest: 0.4750678\tbest: 0.4750678 (493)\ttotal: 57m 48s\tremaining: 3h 54m 42s\n",
      "494:\tlearn: 0.3090900\ttest: 0.4750320\tbest: 0.4750320 (494)\ttotal: 57m 54s\tremaining: 3h 54m 35s\n",
      "495:\tlearn: 0.3085650\ttest: 0.4749655\tbest: 0.4749655 (495)\ttotal: 58m 2s\tremaining: 3h 54m 30s\n",
      "496:\tlearn: 0.3081245\ttest: 0.4749081\tbest: 0.4749081 (496)\ttotal: 58m 8s\tremaining: 3h 54m 20s\n",
      "497:\tlearn: 0.3077168\ttest: 0.4748331\tbest: 0.4748331 (497)\ttotal: 58m 15s\tremaining: 3h 54m 12s\n",
      "498:\tlearn: 0.3075301\ttest: 0.4748508\tbest: 0.4748331 (497)\ttotal: 58m 20s\tremaining: 3h 53m 57s\n",
      "499:\tlearn: 0.3072932\ttest: 0.4748541\tbest: 0.4748331 (497)\ttotal: 58m 28s\tremaining: 3h 53m 52s\n",
      "500:\tlearn: 0.3070936\ttest: 0.4748467\tbest: 0.4748331 (497)\ttotal: 58m 35s\tremaining: 3h 53m 46s\n",
      "501:\tlearn: 0.3068979\ttest: 0.4747428\tbest: 0.4747428 (501)\ttotal: 58m 42s\tremaining: 3h 53m 39s\n",
      "502:\tlearn: 0.3067532\ttest: 0.4747275\tbest: 0.4747275 (502)\ttotal: 58m 49s\tremaining: 3h 53m 31s\n",
      "503:\tlearn: 0.3064126\ttest: 0.4747374\tbest: 0.4747275 (502)\ttotal: 58m 55s\tremaining: 3h 53m 22s\n",
      "504:\tlearn: 0.3062855\ttest: 0.4746995\tbest: 0.4746995 (504)\ttotal: 59m 2s\tremaining: 3h 53m 14s\n",
      "505:\tlearn: 0.3057897\ttest: 0.4746756\tbest: 0.4746756 (505)\ttotal: 59m 10s\tremaining: 3h 53m 10s\n",
      "506:\tlearn: 0.3055725\ttest: 0.4746620\tbest: 0.4746620 (506)\ttotal: 59m 16s\tremaining: 3h 53m 1s\n",
      "507:\tlearn: 0.3051878\ttest: 0.4746231\tbest: 0.4746231 (507)\ttotal: 59m 23s\tremaining: 3h 52m 55s\n",
      "508:\tlearn: 0.3046902\ttest: 0.4746205\tbest: 0.4746205 (508)\ttotal: 59m 30s\tremaining: 3h 52m 45s\n",
      "509:\tlearn: 0.3040534\ttest: 0.4746418\tbest: 0.4746205 (508)\ttotal: 59m 38s\tremaining: 3h 52m 41s\n",
      "510:\tlearn: 0.3038366\ttest: 0.4746280\tbest: 0.4746205 (508)\ttotal: 59m 45s\tremaining: 3h 52m 35s\n",
      "511:\tlearn: 0.3034372\ttest: 0.4746243\tbest: 0.4746205 (508)\ttotal: 59m 51s\tremaining: 3h 52m 25s\n",
      "512:\tlearn: 0.3031661\ttest: 0.4745798\tbest: 0.4745798 (512)\ttotal: 59m 59s\tremaining: 3h 52m 20s\n",
      "513:\tlearn: 0.3029133\ttest: 0.4745277\tbest: 0.4745277 (513)\ttotal: 1h 5s\tremaining: 3h 52m 11s\n",
      "514:\tlearn: 0.3027767\ttest: 0.4745173\tbest: 0.4745173 (514)\ttotal: 1h 12s\tremaining: 3h 52m 4s\n",
      "515:\tlearn: 0.3026098\ttest: 0.4744833\tbest: 0.4744833 (515)\ttotal: 1h 17s\tremaining: 3h 51m 48s\n"
     ]
    },
    {
     "name": "stdout",
     "output_type": "stream",
     "text": [
      "516:\tlearn: 0.3022245\ttest: 0.4744179\tbest: 0.4744179 (516)\ttotal: 1h 23s\tremaining: 3h 51m 38s\n",
      "517:\tlearn: 0.3019969\ttest: 0.4744149\tbest: 0.4744149 (517)\ttotal: 1h 29s\tremaining: 3h 51m 29s\n",
      "518:\tlearn: 0.3017700\ttest: 0.4743860\tbest: 0.4743860 (518)\ttotal: 1h 37s\tremaining: 3h 51m 23s\n",
      "519:\tlearn: 0.3016072\ttest: 0.4743377\tbest: 0.4743377 (519)\ttotal: 1h 43s\tremaining: 3h 51m 11s\n",
      "520:\tlearn: 0.3014329\ttest: 0.4743021\tbest: 0.4743021 (520)\ttotal: 1h 49s\tremaining: 3h 51m 4s\n",
      "521:\tlearn: 0.3011461\ttest: 0.4742914\tbest: 0.4742914 (521)\ttotal: 1h 57s\tremaining: 3h 50m 59s\n",
      "522:\tlearn: 0.3006707\ttest: 0.4742743\tbest: 0.4742743 (522)\ttotal: 1h 1m 3s\tremaining: 3h 50m 47s\n",
      "523:\tlearn: 0.3002989\ttest: 0.4742378\tbest: 0.4742378 (523)\ttotal: 1h 1m 10s\tremaining: 3h 50m 39s\n",
      "524:\tlearn: 0.2999672\ttest: 0.4742143\tbest: 0.4742143 (524)\ttotal: 1h 1m 17s\tremaining: 3h 50m 33s\n",
      "525:\tlearn: 0.2997344\ttest: 0.4741596\tbest: 0.4741596 (525)\ttotal: 1h 1m 23s\tremaining: 3h 50m 24s\n",
      "526:\tlearn: 0.2992776\ttest: 0.4741560\tbest: 0.4741560 (526)\ttotal: 1h 1m 31s\tremaining: 3h 50m 20s\n",
      "527:\tlearn: 0.2988497\ttest: 0.4741250\tbest: 0.4741250 (527)\ttotal: 1h 1m 38s\tremaining: 3h 50m 12s\n",
      "528:\tlearn: 0.2984653\ttest: 0.4741002\tbest: 0.4741002 (528)\ttotal: 1h 1m 45s\tremaining: 3h 50m 6s\n",
      "529:\tlearn: 0.2982263\ttest: 0.4740335\tbest: 0.4740335 (529)\ttotal: 1h 1m 52s\tremaining: 3h 49m 58s\n",
      "530:\tlearn: 0.2980310\ttest: 0.4739942\tbest: 0.4739942 (530)\ttotal: 1h 1m 59s\tremaining: 3h 49m 50s\n",
      "531:\tlearn: 0.2977478\ttest: 0.4739641\tbest: 0.4739641 (531)\ttotal: 1h 2m 6s\tremaining: 3h 49m 44s\n",
      "532:\tlearn: 0.2974199\ttest: 0.4739427\tbest: 0.4739427 (532)\ttotal: 1h 2m 12s\tremaining: 3h 49m 36s\n",
      "533:\tlearn: 0.2971347\ttest: 0.4739177\tbest: 0.4739177 (533)\ttotal: 1h 2m 19s\tremaining: 3h 49m 26s\n",
      "534:\tlearn: 0.2969074\ttest: 0.4739112\tbest: 0.4739112 (534)\ttotal: 1h 2m 25s\tremaining: 3h 49m 15s\n",
      "535:\tlearn: 0.2967569\ttest: 0.4738980\tbest: 0.4738980 (535)\ttotal: 1h 2m 30s\tremaining: 3h 49m 1s\n",
      "536:\tlearn: 0.2965390\ttest: 0.4738445\tbest: 0.4738445 (536)\ttotal: 1h 2m 36s\tremaining: 3h 48m 50s\n",
      "537:\tlearn: 0.2963231\ttest: 0.4738402\tbest: 0.4738402 (537)\ttotal: 1h 2m 42s\tremaining: 3h 48m 42s\n",
      "538:\tlearn: 0.2962489\ttest: 0.4738251\tbest: 0.4738251 (538)\ttotal: 1h 2m 47s\tremaining: 3h 48m 27s\n",
      "539:\tlearn: 0.2960394\ttest: 0.4737937\tbest: 0.4737937 (539)\ttotal: 1h 2m 54s\tremaining: 3h 48m 19s\n",
      "540:\tlearn: 0.2957696\ttest: 0.4738074\tbest: 0.4737937 (539)\ttotal: 1h 3m 1s\tremaining: 3h 48m 11s\n",
      "541:\tlearn: 0.2956173\ttest: 0.4737907\tbest: 0.4737907 (541)\ttotal: 1h 3m 8s\tremaining: 3h 48m 4s\n",
      "542:\tlearn: 0.2954018\ttest: 0.4737634\tbest: 0.4737634 (542)\ttotal: 1h 3m 14s\tremaining: 3h 47m 56s\n",
      "543:\tlearn: 0.2952176\ttest: 0.4737439\tbest: 0.4737439 (543)\ttotal: 1h 3m 21s\tremaining: 3h 47m 48s\n",
      "544:\tlearn: 0.2949879\ttest: 0.4737235\tbest: 0.4737235 (544)\ttotal: 1h 3m 28s\tremaining: 3h 47m 41s\n",
      "545:\tlearn: 0.2944332\ttest: 0.4736821\tbest: 0.4736821 (545)\ttotal: 1h 3m 35s\tremaining: 3h 47m 33s\n",
      "546:\tlearn: 0.2942515\ttest: 0.4736300\tbest: 0.4736300 (546)\ttotal: 1h 3m 42s\tremaining: 3h 47m 26s\n",
      "547:\tlearn: 0.2941084\ttest: 0.4735900\tbest: 0.4735900 (547)\ttotal: 1h 3m 48s\tremaining: 3h 47m 18s\n",
      "548:\tlearn: 0.2938503\ttest: 0.4735654\tbest: 0.4735654 (548)\ttotal: 1h 3m 55s\tremaining: 3h 47m 11s\n",
      "549:\tlearn: 0.2935368\ttest: 0.4735579\tbest: 0.4735579 (549)\ttotal: 1h 4m 2s\tremaining: 3h 47m 3s\n",
      "550:\tlearn: 0.2930781\ttest: 0.4734966\tbest: 0.4734966 (550)\ttotal: 1h 4m 9s\tremaining: 3h 46m 55s\n",
      "551:\tlearn: 0.2928235\ttest: 0.4734873\tbest: 0.4734873 (551)\ttotal: 1h 4m 15s\tremaining: 3h 46m 46s\n",
      "552:\tlearn: 0.2927029\ttest: 0.4734688\tbest: 0.4734688 (552)\ttotal: 1h 4m 21s\tremaining: 3h 46m 36s\n",
      "553:\tlearn: 0.2925402\ttest: 0.4734429\tbest: 0.4734429 (553)\ttotal: 1h 4m 29s\tremaining: 3h 46m 30s\n",
      "554:\tlearn: 0.2921680\ttest: 0.4734350\tbest: 0.4734350 (554)\ttotal: 1h 4m 35s\tremaining: 3h 46m 20s\n",
      "555:\tlearn: 0.2919440\ttest: 0.4734005\tbest: 0.4734005 (555)\ttotal: 1h 4m 40s\tremaining: 3h 46m 8s\n",
      "556:\tlearn: 0.2917254\ttest: 0.4733690\tbest: 0.4733690 (556)\ttotal: 1h 4m 47s\tremaining: 3h 45m 59s\n",
      "557:\tlearn: 0.2915316\ttest: 0.4733762\tbest: 0.4733690 (556)\ttotal: 1h 4m 54s\tremaining: 3h 45m 52s\n",
      "558:\tlearn: 0.2912808\ttest: 0.4734159\tbest: 0.4733690 (556)\ttotal: 1h 5m 1s\tremaining: 3h 45m 46s\n",
      "559:\tlearn: 0.2911265\ttest: 0.4733889\tbest: 0.4733690 (556)\ttotal: 1h 5m 8s\tremaining: 3h 45m 39s\n",
      "560:\tlearn: 0.2909430\ttest: 0.4733694\tbest: 0.4733690 (556)\ttotal: 1h 5m 14s\tremaining: 3h 45m 31s\n",
      "561:\tlearn: 0.2907693\ttest: 0.4733660\tbest: 0.4733660 (561)\ttotal: 1h 5m 21s\tremaining: 3h 45m 22s\n",
      "562:\tlearn: 0.2904307\ttest: 0.4733767\tbest: 0.4733660 (561)\ttotal: 1h 5m 27s\tremaining: 3h 45m 14s\n",
      "563:\tlearn: 0.2902365\ttest: 0.4733376\tbest: 0.4733376 (563)\ttotal: 1h 5m 35s\tremaining: 3h 45m 8s\n",
      "564:\tlearn: 0.2899637\ttest: 0.4732840\tbest: 0.4732840 (564)\ttotal: 1h 5m 42s\tremaining: 3h 45m 2s\n",
      "565:\tlearn: 0.2897998\ttest: 0.4732801\tbest: 0.4732801 (565)\ttotal: 1h 5m 49s\tremaining: 3h 44m 54s\n",
      "566:\tlearn: 0.2893894\ttest: 0.4732488\tbest: 0.4732488 (566)\ttotal: 1h 5m 55s\tremaining: 3h 44m 43s\n",
      "567:\tlearn: 0.2892444\ttest: 0.4732280\tbest: 0.4732280 (567)\ttotal: 1h 6m 2s\tremaining: 3h 44m 37s\n",
      "568:\tlearn: 0.2888629\ttest: 0.4731997\tbest: 0.4731997 (568)\ttotal: 1h 6m 8s\tremaining: 3h 44m 26s\n",
      "569:\tlearn: 0.2886893\ttest: 0.4731850\tbest: 0.4731850 (569)\ttotal: 1h 6m 15s\tremaining: 3h 44m 20s\n",
      "570:\tlearn: 0.2885847\ttest: 0.4731509\tbest: 0.4731509 (570)\ttotal: 1h 6m 21s\tremaining: 3h 44m 11s\n",
      "571:\tlearn: 0.2884233\ttest: 0.4731204\tbest: 0.4731204 (571)\ttotal: 1h 6m 28s\tremaining: 3h 44m 4s\n",
      "572:\tlearn: 0.2882218\ttest: 0.4731095\tbest: 0.4731095 (572)\ttotal: 1h 6m 35s\tremaining: 3h 43m 57s\n",
      "573:\tlearn: 0.2880506\ttest: 0.4731139\tbest: 0.4731095 (572)\ttotal: 1h 6m 42s\tremaining: 3h 43m 50s\n",
      "574:\tlearn: 0.2878369\ttest: 0.4730523\tbest: 0.4730523 (574)\ttotal: 1h 6m 47s\tremaining: 3h 43m 37s\n",
      "575:\tlearn: 0.2876880\ttest: 0.4730609\tbest: 0.4730523 (574)\ttotal: 1h 6m 55s\tremaining: 3h 43m 31s\n",
      "576:\tlearn: 0.2874957\ttest: 0.4730761\tbest: 0.4730523 (574)\ttotal: 1h 7m 1s\tremaining: 3h 43m 24s\n",
      "577:\tlearn: 0.2873921\ttest: 0.4730640\tbest: 0.4730523 (574)\ttotal: 1h 7m 8s\tremaining: 3h 43m 16s\n",
      "578:\tlearn: 0.2872339\ttest: 0.4730419\tbest: 0.4730419 (578)\ttotal: 1h 7m 16s\tremaining: 3h 43m 11s\n",
      "579:\tlearn: 0.2870862\ttest: 0.4730080\tbest: 0.4730080 (579)\ttotal: 1h 7m 23s\tremaining: 3h 43m 4s\n",
      "580:\tlearn: 0.2869294\ttest: 0.4730168\tbest: 0.4730080 (579)\ttotal: 1h 7m 29s\tremaining: 3h 42m 55s\n",
      "581:\tlearn: 0.2866266\ttest: 0.4729593\tbest: 0.4729593 (581)\ttotal: 1h 7m 36s\tremaining: 3h 42m 49s\n",
      "582:\tlearn: 0.2865059\ttest: 0.4729270\tbest: 0.4729270 (582)\ttotal: 1h 7m 43s\tremaining: 3h 42m 40s\n",
      "583:\tlearn: 0.2862753\ttest: 0.4729113\tbest: 0.4729113 (583)\ttotal: 1h 7m 49s\tremaining: 3h 42m 32s\n",
      "584:\tlearn: 0.2859024\ttest: 0.4728949\tbest: 0.4728949 (584)\ttotal: 1h 7m 56s\tremaining: 3h 42m 25s\n",
      "585:\tlearn: 0.2855387\ttest: 0.4728576\tbest: 0.4728576 (585)\ttotal: 1h 8m 3s\tremaining: 3h 42m 16s\n",
      "586:\tlearn: 0.2853944\ttest: 0.4728135\tbest: 0.4728135 (586)\ttotal: 1h 8m 10s\tremaining: 3h 42m 10s\n",
      "587:\tlearn: 0.2852519\ttest: 0.4727920\tbest: 0.4727920 (587)\ttotal: 1h 8m 16s\tremaining: 3h 41m 59s\n",
      "588:\tlearn: 0.2850712\ttest: 0.4727719\tbest: 0.4727719 (588)\ttotal: 1h 8m 22s\tremaining: 3h 41m 49s\n",
      "589:\tlearn: 0.2848322\ttest: 0.4727695\tbest: 0.4727695 (589)\ttotal: 1h 8m 29s\tremaining: 3h 41m 42s\n",
      "590:\tlearn: 0.2845345\ttest: 0.4727932\tbest: 0.4727695 (589)\ttotal: 1h 8m 34s\tremaining: 3h 41m 31s\n",
      "591:\tlearn: 0.2839622\ttest: 0.4727638\tbest: 0.4727638 (591)\ttotal: 1h 8m 41s\tremaining: 3h 41m 23s\n",
      "592:\tlearn: 0.2838648\ttest: 0.4727296\tbest: 0.4727296 (592)\ttotal: 1h 8m 47s\tremaining: 3h 41m 12s\n",
      "593:\tlearn: 0.2837319\ttest: 0.4727362\tbest: 0.4727296 (592)\ttotal: 1h 8m 53s\tremaining: 3h 41m 3s\n",
      "594:\tlearn: 0.2833620\ttest: 0.4726861\tbest: 0.4726861 (594)\ttotal: 1h 9m\tremaining: 3h 40m 56s\n",
      "595:\tlearn: 0.2828501\ttest: 0.4726994\tbest: 0.4726861 (594)\ttotal: 1h 9m 7s\tremaining: 3h 40m 48s\n",
      "596:\tlearn: 0.2826008\ttest: 0.4726635\tbest: 0.4726635 (596)\ttotal: 1h 9m 12s\tremaining: 3h 40m 37s\n",
      "597:\tlearn: 0.2822557\ttest: 0.4726088\tbest: 0.4726088 (597)\ttotal: 1h 9m 19s\tremaining: 3h 40m 28s\n",
      "598:\tlearn: 0.2817947\ttest: 0.4726305\tbest: 0.4726088 (597)\ttotal: 1h 9m 26s\tremaining: 3h 40m 23s\n",
      "599:\tlearn: 0.2815136\ttest: 0.4726050\tbest: 0.4726050 (599)\ttotal: 1h 9m 33s\tremaining: 3h 40m 15s\n"
     ]
    },
    {
     "name": "stdout",
     "output_type": "stream",
     "text": [
      "600:\tlearn: 0.2813457\ttest: 0.4725666\tbest: 0.4725666 (600)\ttotal: 1h 9m 40s\tremaining: 3h 40m 9s\n",
      "601:\tlearn: 0.2809781\ttest: 0.4725754\tbest: 0.4725666 (600)\ttotal: 1h 9m 47s\tremaining: 3h 40m 1s\n",
      "602:\tlearn: 0.2808343\ttest: 0.4725943\tbest: 0.4725666 (600)\ttotal: 1h 9m 53s\tremaining: 3h 39m 52s\n",
      "603:\tlearn: 0.2806083\ttest: 0.4725561\tbest: 0.4725561 (603)\ttotal: 1h 10m 1s\tremaining: 3h 39m 47s\n",
      "604:\tlearn: 0.2805219\ttest: 0.4725388\tbest: 0.4725388 (604)\ttotal: 1h 10m 6s\tremaining: 3h 39m 34s\n",
      "605:\tlearn: 0.2801931\ttest: 0.4725441\tbest: 0.4725388 (604)\ttotal: 1h 10m 13s\tremaining: 3h 39m 28s\n",
      "606:\tlearn: 0.2801451\ttest: 0.4725382\tbest: 0.4725382 (606)\ttotal: 1h 10m 19s\tremaining: 3h 39m 20s\n",
      "607:\tlearn: 0.2797038\ttest: 0.4725002\tbest: 0.4725002 (607)\ttotal: 1h 10m 27s\tremaining: 3h 39m 13s\n",
      "608:\tlearn: 0.2794483\ttest: 0.4724814\tbest: 0.4724814 (608)\ttotal: 1h 10m 31s\tremaining: 3h 38m 58s\n",
      "609:\tlearn: 0.2791069\ttest: 0.4724290\tbest: 0.4724290 (609)\ttotal: 1h 10m 37s\tremaining: 3h 38m 48s\n",
      "610:\tlearn: 0.2787079\ttest: 0.4723870\tbest: 0.4723870 (610)\ttotal: 1h 10m 43s\tremaining: 3h 38m 39s\n",
      "611:\tlearn: 0.2783425\ttest: 0.4723335\tbest: 0.4723335 (611)\ttotal: 1h 10m 50s\tremaining: 3h 38m 32s\n",
      "612:\tlearn: 0.2781637\ttest: 0.4723226\tbest: 0.4723226 (612)\ttotal: 1h 10m 57s\tremaining: 3h 38m 25s\n",
      "613:\tlearn: 0.2778870\ttest: 0.4723257\tbest: 0.4723226 (612)\ttotal: 1h 11m 4s\tremaining: 3h 38m 18s\n",
      "614:\tlearn: 0.2775869\ttest: 0.4723135\tbest: 0.4723135 (614)\ttotal: 1h 11m 10s\tremaining: 3h 38m 8s\n",
      "615:\tlearn: 0.2773777\ttest: 0.4722621\tbest: 0.4722621 (615)\ttotal: 1h 11m 16s\tremaining: 3h 38m\n",
      "616:\tlearn: 0.2770154\ttest: 0.4722519\tbest: 0.4722519 (616)\ttotal: 1h 11m 23s\tremaining: 3h 37m 53s\n",
      "617:\tlearn: 0.2767600\ttest: 0.4722513\tbest: 0.4722513 (617)\ttotal: 1h 11m 31s\tremaining: 3h 37m 47s\n",
      "618:\tlearn: 0.2765821\ttest: 0.4722277\tbest: 0.4722277 (618)\ttotal: 1h 11m 37s\tremaining: 3h 37m 40s\n",
      "619:\tlearn: 0.2764107\ttest: 0.4722214\tbest: 0.4722214 (619)\ttotal: 1h 11m 43s\tremaining: 3h 37m 30s\n",
      "620:\tlearn: 0.2762689\ttest: 0.4722111\tbest: 0.4722111 (620)\ttotal: 1h 11m 49s\tremaining: 3h 37m 18s\n",
      "621:\tlearn: 0.2761324\ttest: 0.4721805\tbest: 0.4721805 (621)\ttotal: 1h 11m 54s\tremaining: 3h 37m 5s\n",
      "622:\tlearn: 0.2759029\ttest: 0.4721821\tbest: 0.4721805 (621)\ttotal: 1h 11m 59s\tremaining: 3h 36m 55s\n",
      "623:\tlearn: 0.2756431\ttest: 0.4721772\tbest: 0.4721772 (623)\ttotal: 1h 12m 6s\tremaining: 3h 36m 47s\n",
      "624:\tlearn: 0.2752753\ttest: 0.4722310\tbest: 0.4721772 (623)\ttotal: 1h 12m 12s\tremaining: 3h 36m 36s\n",
      "625:\tlearn: 0.2751295\ttest: 0.4722327\tbest: 0.4721772 (623)\ttotal: 1h 12m 19s\tremaining: 3h 36m 30s\n",
      "626:\tlearn: 0.2748709\ttest: 0.4722345\tbest: 0.4721772 (623)\ttotal: 1h 12m 26s\tremaining: 3h 36m 23s\n",
      "627:\tlearn: 0.2746834\ttest: 0.4722587\tbest: 0.4721772 (623)\ttotal: 1h 12m 32s\tremaining: 3h 36m 15s\n",
      "628:\tlearn: 0.2743731\ttest: 0.4722229\tbest: 0.4721772 (623)\ttotal: 1h 12m 38s\tremaining: 3h 36m 5s\n",
      "629:\tlearn: 0.2739988\ttest: 0.4722110\tbest: 0.4721772 (623)\ttotal: 1h 12m 43s\tremaining: 3h 35m 53s\n",
      "630:\tlearn: 0.2739163\ttest: 0.4721948\tbest: 0.4721772 (623)\ttotal: 1h 12m 51s\tremaining: 3h 35m 47s\n",
      "631:\tlearn: 0.2737679\ttest: 0.4722062\tbest: 0.4721772 (623)\ttotal: 1h 12m 57s\tremaining: 3h 35m 38s\n",
      "632:\tlearn: 0.2736233\ttest: 0.4722031\tbest: 0.4721772 (623)\ttotal: 1h 13m 3s\tremaining: 3h 35m 30s\n",
      "633:\tlearn: 0.2733878\ttest: 0.4721763\tbest: 0.4721763 (633)\ttotal: 1h 13m 11s\tremaining: 3h 35m 24s\n",
      "634:\tlearn: 0.2732108\ttest: 0.4721360\tbest: 0.4721360 (634)\ttotal: 1h 13m 17s\tremaining: 3h 35m 16s\n",
      "635:\tlearn: 0.2731735\ttest: 0.4721259\tbest: 0.4721259 (635)\ttotal: 1h 13m 19s\tremaining: 3h 34m 54s\n",
      "636:\tlearn: 0.2730848\ttest: 0.4721244\tbest: 0.4721244 (636)\ttotal: 1h 13m 26s\tremaining: 3h 34m 48s\n",
      "637:\tlearn: 0.2728328\ttest: 0.4720803\tbest: 0.4720803 (637)\ttotal: 1h 13m 33s\tremaining: 3h 34m 40s\n",
      "638:\tlearn: 0.2725529\ttest: 0.4720487\tbest: 0.4720487 (638)\ttotal: 1h 13m 39s\tremaining: 3h 34m 31s\n",
      "639:\tlearn: 0.2722965\ttest: 0.4720803\tbest: 0.4720487 (638)\ttotal: 1h 13m 46s\tremaining: 3h 34m 23s\n",
      "640:\tlearn: 0.2721572\ttest: 0.4720920\tbest: 0.4720487 (638)\ttotal: 1h 13m 51s\tremaining: 3h 34m 12s\n",
      "641:\tlearn: 0.2720091\ttest: 0.4720944\tbest: 0.4720487 (638)\ttotal: 1h 13m 57s\tremaining: 3h 34m 3s\n",
      "642:\tlearn: 0.2715512\ttest: 0.4720474\tbest: 0.4720474 (642)\ttotal: 1h 14m 5s\tremaining: 3h 33m 57s\n",
      "643:\tlearn: 0.2714777\ttest: 0.4720150\tbest: 0.4720150 (643)\ttotal: 1h 14m 11s\tremaining: 3h 33m 49s\n",
      "644:\tlearn: 0.2712466\ttest: 0.4720032\tbest: 0.4720032 (644)\ttotal: 1h 14m 18s\tremaining: 3h 33m 42s\n",
      "645:\tlearn: 0.2708671\ttest: 0.4720078\tbest: 0.4720032 (644)\ttotal: 1h 14m 24s\tremaining: 3h 33m 32s\n",
      "646:\tlearn: 0.2706488\ttest: 0.4719810\tbest: 0.4719810 (646)\ttotal: 1h 14m 31s\tremaining: 3h 33m 26s\n",
      "647:\tlearn: 0.2704572\ttest: 0.4719533\tbest: 0.4719533 (647)\ttotal: 1h 14m 38s\tremaining: 3h 33m 19s\n",
      "648:\tlearn: 0.2700530\ttest: 0.4719168\tbest: 0.4719168 (648)\ttotal: 1h 14m 45s\tremaining: 3h 33m 12s\n",
      "649:\tlearn: 0.2699502\ttest: 0.4719106\tbest: 0.4719106 (649)\ttotal: 1h 14m 51s\tremaining: 3h 33m 4s\n",
      "650:\tlearn: 0.2697224\ttest: 0.4718987\tbest: 0.4718987 (650)\ttotal: 1h 14m 57s\tremaining: 3h 32m 52s\n",
      "651:\tlearn: 0.2694885\ttest: 0.4718953\tbest: 0.4718953 (651)\ttotal: 1h 15m 4s\tremaining: 3h 32m 46s\n",
      "652:\tlearn: 0.2690788\ttest: 0.4718699\tbest: 0.4718699 (652)\ttotal: 1h 15m 11s\tremaining: 3h 32m 40s\n",
      "653:\tlearn: 0.2688708\ttest: 0.4718471\tbest: 0.4718471 (653)\ttotal: 1h 15m 18s\tremaining: 3h 32m 34s\n",
      "654:\tlearn: 0.2686605\ttest: 0.4718068\tbest: 0.4718068 (654)\ttotal: 1h 15m 25s\tremaining: 3h 32m 28s\n",
      "655:\tlearn: 0.2684289\ttest: 0.4717848\tbest: 0.4717848 (655)\ttotal: 1h 15m 33s\tremaining: 3h 32m 22s\n",
      "656:\tlearn: 0.2679580\ttest: 0.4717933\tbest: 0.4717848 (655)\ttotal: 1h 15m 40s\tremaining: 3h 32m 17s\n",
      "657:\tlearn: 0.2676947\ttest: 0.4717440\tbest: 0.4717440 (657)\ttotal: 1h 15m 48s\tremaining: 3h 32m 11s\n",
      "658:\tlearn: 0.2676039\ttest: 0.4717413\tbest: 0.4717413 (658)\ttotal: 1h 15m 54s\tremaining: 3h 32m 2s\n",
      "659:\tlearn: 0.2675020\ttest: 0.4717271\tbest: 0.4717271 (659)\ttotal: 1h 16m\tremaining: 3h 31m 53s\n",
      "660:\tlearn: 0.2672336\ttest: 0.4717274\tbest: 0.4717271 (659)\ttotal: 1h 16m 7s\tremaining: 3h 31m 46s\n",
      "661:\tlearn: 0.2670596\ttest: 0.4717130\tbest: 0.4717130 (661)\ttotal: 1h 16m 13s\tremaining: 3h 31m 39s\n",
      "662:\tlearn: 0.2668732\ttest: 0.4717112\tbest: 0.4717112 (662)\ttotal: 1h 16m 20s\tremaining: 3h 31m 31s\n",
      "663:\tlearn: 0.2665722\ttest: 0.4716424\tbest: 0.4716424 (663)\ttotal: 1h 16m 27s\tremaining: 3h 31m 24s\n",
      "664:\tlearn: 0.2663905\ttest: 0.4716228\tbest: 0.4716228 (664)\ttotal: 1h 16m 34s\tremaining: 3h 31m 18s\n",
      "665:\tlearn: 0.2660080\ttest: 0.4716063\tbest: 0.4716063 (665)\ttotal: 1h 16m 41s\tremaining: 3h 31m 11s\n",
      "666:\tlearn: 0.2658820\ttest: 0.4715799\tbest: 0.4715799 (666)\ttotal: 1h 16m 48s\tremaining: 3h 31m 4s\n",
      "667:\tlearn: 0.2656740\ttest: 0.4715962\tbest: 0.4715799 (666)\ttotal: 1h 16m 55s\tremaining: 3h 30m 59s\n",
      "668:\tlearn: 0.2653864\ttest: 0.4715760\tbest: 0.4715760 (668)\ttotal: 1h 17m 3s\tremaining: 3h 30m 53s\n",
      "669:\tlearn: 0.2652284\ttest: 0.4715482\tbest: 0.4715482 (669)\ttotal: 1h 17m 9s\tremaining: 3h 30m 44s\n",
      "670:\tlearn: 0.2649063\ttest: 0.4715105\tbest: 0.4715105 (670)\ttotal: 1h 17m 15s\tremaining: 3h 30m 36s\n",
      "671:\tlearn: 0.2647243\ttest: 0.4715267\tbest: 0.4715105 (670)\ttotal: 1h 17m 22s\tremaining: 3h 30m 28s\n",
      "672:\tlearn: 0.2644534\ttest: 0.4715166\tbest: 0.4715105 (670)\ttotal: 1h 17m 28s\tremaining: 3h 30m 20s\n",
      "673:\tlearn: 0.2642218\ttest: 0.4714961\tbest: 0.4714961 (673)\ttotal: 1h 17m 36s\tremaining: 3h 30m 15s\n",
      "674:\tlearn: 0.2639214\ttest: 0.4714952\tbest: 0.4714952 (674)\ttotal: 1h 17m 43s\tremaining: 3h 30m 7s\n",
      "675:\tlearn: 0.2636049\ttest: 0.4715433\tbest: 0.4714952 (674)\ttotal: 1h 17m 49s\tremaining: 3h 30m\n",
      "676:\tlearn: 0.2634042\ttest: 0.4715131\tbest: 0.4714952 (674)\ttotal: 1h 17m 54s\tremaining: 3h 29m 47s\n",
      "677:\tlearn: 0.2631612\ttest: 0.4715144\tbest: 0.4714952 (674)\ttotal: 1h 18m 1s\tremaining: 3h 29m 40s\n",
      "678:\tlearn: 0.2628872\ttest: 0.4714925\tbest: 0.4714925 (678)\ttotal: 1h 18m 8s\tremaining: 3h 29m 33s\n",
      "679:\tlearn: 0.2626423\ttest: 0.4715004\tbest: 0.4714925 (678)\ttotal: 1h 18m 14s\tremaining: 3h 29m 24s\n",
      "680:\tlearn: 0.2623871\ttest: 0.4715337\tbest: 0.4714925 (678)\ttotal: 1h 18m 21s\tremaining: 3h 29m 17s\n",
      "681:\tlearn: 0.2621822\ttest: 0.4715394\tbest: 0.4714925 (678)\ttotal: 1h 18m 26s\tremaining: 3h 29m 5s\n",
      "682:\tlearn: 0.2619751\ttest: 0.4715593\tbest: 0.4714925 (678)\ttotal: 1h 18m 33s\tremaining: 3h 29m\n"
     ]
    },
    {
     "name": "stdout",
     "output_type": "stream",
     "text": [
      "683:\tlearn: 0.2617892\ttest: 0.4715454\tbest: 0.4714925 (678)\ttotal: 1h 18m 39s\tremaining: 3h 28m 50s\n",
      "684:\tlearn: 0.2614622\ttest: 0.4715274\tbest: 0.4714925 (678)\ttotal: 1h 18m 46s\tremaining: 3h 28m 44s\n",
      "685:\tlearn: 0.2611973\ttest: 0.4715004\tbest: 0.4714925 (678)\ttotal: 1h 18m 52s\tremaining: 3h 28m 34s\n",
      "686:\tlearn: 0.2609506\ttest: 0.4714884\tbest: 0.4714884 (686)\ttotal: 1h 18m 59s\tremaining: 3h 28m 28s\n",
      "687:\tlearn: 0.2608004\ttest: 0.4714597\tbest: 0.4714597 (687)\ttotal: 1h 19m 6s\tremaining: 3h 28m 21s\n",
      "688:\tlearn: 0.2605512\ttest: 0.4714531\tbest: 0.4714531 (688)\ttotal: 1h 19m 13s\tremaining: 3h 28m 15s\n",
      "689:\tlearn: 0.2603617\ttest: 0.4714263\tbest: 0.4714263 (689)\ttotal: 1h 19m 19s\tremaining: 3h 28m 6s\n",
      "690:\tlearn: 0.2600864\ttest: 0.4713607\tbest: 0.4713607 (690)\ttotal: 1h 19m 27s\tremaining: 3h 28m\n",
      "691:\tlearn: 0.2596630\ttest: 0.4713553\tbest: 0.4713553 (691)\ttotal: 1h 19m 32s\tremaining: 3h 27m 50s\n",
      "692:\tlearn: 0.2592657\ttest: 0.4713428\tbest: 0.4713428 (692)\ttotal: 1h 19m 40s\tremaining: 3h 27m 44s\n",
      "693:\tlearn: 0.2589778\ttest: 0.4713390\tbest: 0.4713390 (693)\ttotal: 1h 19m 47s\tremaining: 3h 27m 39s\n",
      "694:\tlearn: 0.2587075\ttest: 0.4713253\tbest: 0.4713253 (694)\ttotal: 1h 19m 53s\tremaining: 3h 27m 30s\n",
      "695:\tlearn: 0.2585780\ttest: 0.4712923\tbest: 0.4712923 (695)\ttotal: 1h 19m 58s\tremaining: 3h 27m 17s\n",
      "696:\tlearn: 0.2582918\ttest: 0.4713100\tbest: 0.4712923 (695)\ttotal: 1h 20m 3s\tremaining: 3h 27m 5s\n",
      "697:\tlearn: 0.2580008\ttest: 0.4713226\tbest: 0.4712923 (695)\ttotal: 1h 20m 10s\tremaining: 3h 26m 59s\n",
      "698:\tlearn: 0.2577028\ttest: 0.4713525\tbest: 0.4712923 (695)\ttotal: 1h 20m 17s\tremaining: 3h 26m 52s\n",
      "699:\tlearn: 0.2574520\ttest: 0.4713184\tbest: 0.4712923 (695)\ttotal: 1h 20m 23s\tremaining: 3h 26m 43s\n",
      "700:\tlearn: 0.2571541\ttest: 0.4713122\tbest: 0.4712923 (695)\ttotal: 1h 20m 31s\tremaining: 3h 26m 38s\n",
      "701:\tlearn: 0.2568261\ttest: 0.4713164\tbest: 0.4712923 (695)\ttotal: 1h 20m 37s\tremaining: 3h 26m 30s\n",
      "702:\tlearn: 0.2564227\ttest: 0.4713361\tbest: 0.4712923 (695)\ttotal: 1h 20m 44s\tremaining: 3h 26m 22s\n",
      "703:\tlearn: 0.2562480\ttest: 0.4713307\tbest: 0.4712923 (695)\ttotal: 1h 20m 51s\tremaining: 3h 26m 17s\n",
      "704:\tlearn: 0.2561362\ttest: 0.4713211\tbest: 0.4712923 (695)\ttotal: 1h 20m 56s\tremaining: 3h 26m 6s\n",
      "705:\tlearn: 0.2560483\ttest: 0.4713039\tbest: 0.4712923 (695)\ttotal: 1h 21m 3s\tremaining: 3h 25m 57s\n",
      "706:\tlearn: 0.2557391\ttest: 0.4712941\tbest: 0.4712923 (695)\ttotal: 1h 21m 10s\tremaining: 3h 25m 52s\n",
      "707:\tlearn: 0.2556529\ttest: 0.4712806\tbest: 0.4712806 (707)\ttotal: 1h 21m 17s\tremaining: 3h 25m 44s\n",
      "708:\tlearn: 0.2555527\ttest: 0.4712223\tbest: 0.4712223 (708)\ttotal: 1h 21m 24s\tremaining: 3h 25m 38s\n",
      "709:\tlearn: 0.2554048\ttest: 0.4712142\tbest: 0.4712142 (709)\ttotal: 1h 21m 30s\tremaining: 3h 25m 29s\n",
      "710:\tlearn: 0.2551408\ttest: 0.4712093\tbest: 0.4712093 (710)\ttotal: 1h 21m 37s\tremaining: 3h 25m 22s\n",
      "711:\tlearn: 0.2548497\ttest: 0.4712172\tbest: 0.4712093 (710)\ttotal: 1h 21m 45s\tremaining: 3h 25m 18s\n",
      "712:\tlearn: 0.2546526\ttest: 0.4712445\tbest: 0.4712093 (710)\ttotal: 1h 21m 51s\tremaining: 3h 25m 10s\n",
      "713:\tlearn: 0.2543792\ttest: 0.4712425\tbest: 0.4712093 (710)\ttotal: 1h 21m 58s\tremaining: 3h 25m 3s\n",
      "714:\tlearn: 0.2542125\ttest: 0.4712565\tbest: 0.4712093 (710)\ttotal: 1h 22m 5s\tremaining: 3h 24m 57s\n",
      "715:\tlearn: 0.2541081\ttest: 0.4712423\tbest: 0.4712093 (710)\ttotal: 1h 22m 12s\tremaining: 3h 24m 49s\n",
      "716:\tlearn: 0.2539401\ttest: 0.4712461\tbest: 0.4712093 (710)\ttotal: 1h 22m 18s\tremaining: 3h 24m 40s\n",
      "717:\tlearn: 0.2537422\ttest: 0.4712530\tbest: 0.4712093 (710)\ttotal: 1h 22m 24s\tremaining: 3h 24m 32s\n",
      "718:\tlearn: 0.2535031\ttest: 0.4712430\tbest: 0.4712093 (710)\ttotal: 1h 22m 31s\tremaining: 3h 24m 24s\n",
      "719:\tlearn: 0.2532967\ttest: 0.4712455\tbest: 0.4712093 (710)\ttotal: 1h 22m 37s\tremaining: 3h 24m 16s\n",
      "720:\tlearn: 0.2529166\ttest: 0.4712155\tbest: 0.4712093 (710)\ttotal: 1h 22m 45s\tremaining: 3h 24m 11s\n",
      "721:\tlearn: 0.2525933\ttest: 0.4712154\tbest: 0.4712093 (710)\ttotal: 1h 22m 51s\tremaining: 3h 24m 3s\n",
      "722:\tlearn: 0.2524049\ttest: 0.4711906\tbest: 0.4711906 (722)\ttotal: 1h 22m 58s\tremaining: 3h 23m 55s\n",
      "723:\tlearn: 0.2521918\ttest: 0.4712002\tbest: 0.4711906 (722)\ttotal: 1h 23m 3s\tremaining: 3h 23m 45s\n",
      "724:\tlearn: 0.2519651\ttest: 0.4712025\tbest: 0.4711906 (722)\ttotal: 1h 23m 9s\tremaining: 3h 23m 35s\n",
      "725:\tlearn: 0.2517305\ttest: 0.4711959\tbest: 0.4711906 (722)\ttotal: 1h 23m 16s\tremaining: 3h 23m 29s\n",
      "726:\tlearn: 0.2515893\ttest: 0.4711885\tbest: 0.4711885 (726)\ttotal: 1h 23m 23s\tremaining: 3h 23m 22s\n",
      "727:\tlearn: 0.2514533\ttest: 0.4711808\tbest: 0.4711808 (727)\ttotal: 1h 23m 31s\tremaining: 3h 23m 17s\n",
      "728:\tlearn: 0.2510705\ttest: 0.4711497\tbest: 0.4711497 (728)\ttotal: 1h 23m 38s\tremaining: 3h 23m 11s\n",
      "729:\tlearn: 0.2507448\ttest: 0.4711680\tbest: 0.4711497 (728)\ttotal: 1h 23m 44s\tremaining: 3h 23m 2s\n",
      "730:\tlearn: 0.2505595\ttest: 0.4711791\tbest: 0.4711497 (728)\ttotal: 1h 23m 51s\tremaining: 3h 22m 56s\n",
      "731:\tlearn: 0.2503075\ttest: 0.4711748\tbest: 0.4711497 (728)\ttotal: 1h 23m 58s\tremaining: 3h 22m 50s\n",
      "732:\tlearn: 0.2501736\ttest: 0.4711840\tbest: 0.4711497 (728)\ttotal: 1h 24m 4s\tremaining: 3h 22m 41s\n",
      "733:\tlearn: 0.2499023\ttest: 0.4711714\tbest: 0.4711497 (728)\ttotal: 1h 24m 10s\tremaining: 3h 22m 32s\n",
      "734:\tlearn: 0.2497036\ttest: 0.4711743\tbest: 0.4711497 (728)\ttotal: 1h 24m 17s\tremaining: 3h 22m 24s\n",
      "735:\tlearn: 0.2493715\ttest: 0.4711980\tbest: 0.4711497 (728)\ttotal: 1h 24m 24s\tremaining: 3h 22m 18s\n",
      "736:\tlearn: 0.2493049\ttest: 0.4712022\tbest: 0.4711497 (728)\ttotal: 1h 24m 31s\tremaining: 3h 22m 10s\n",
      "737:\tlearn: 0.2490848\ttest: 0.4712095\tbest: 0.4711497 (728)\ttotal: 1h 24m 37s\tremaining: 3h 22m 2s\n",
      "738:\tlearn: 0.2490075\ttest: 0.4712054\tbest: 0.4711497 (728)\ttotal: 1h 24m 42s\tremaining: 3h 21m 52s\n",
      "739:\tlearn: 0.2487125\ttest: 0.4712164\tbest: 0.4711497 (728)\ttotal: 1h 24m 49s\tremaining: 3h 21m 45s\n",
      "740:\tlearn: 0.2486531\ttest: 0.4712139\tbest: 0.4711497 (728)\ttotal: 1h 24m 55s\tremaining: 3h 21m 35s\n",
      "741:\tlearn: 0.2484462\ttest: 0.4712094\tbest: 0.4711497 (728)\ttotal: 1h 25m 1s\tremaining: 3h 21m 26s\n",
      "742:\tlearn: 0.2480778\ttest: 0.4711837\tbest: 0.4711497 (728)\ttotal: 1h 25m 7s\tremaining: 3h 21m 18s\n",
      "743:\tlearn: 0.2478775\ttest: 0.4711657\tbest: 0.4711497 (728)\ttotal: 1h 25m 14s\tremaining: 3h 21m 12s\n",
      "744:\tlearn: 0.2477399\ttest: 0.4711770\tbest: 0.4711497 (728)\ttotal: 1h 25m 21s\tremaining: 3h 21m 5s\n",
      "745:\tlearn: 0.2473934\ttest: 0.4711578\tbest: 0.4711497 (728)\ttotal: 1h 25m 28s\tremaining: 3h 20m 58s\n",
      "746:\tlearn: 0.2471406\ttest: 0.4711647\tbest: 0.4711497 (728)\ttotal: 1h 25m 36s\tremaining: 3h 20m 53s\n",
      "747:\tlearn: 0.2468867\ttest: 0.4711392\tbest: 0.4711392 (747)\ttotal: 1h 25m 42s\tremaining: 3h 20m 44s\n",
      "748:\tlearn: 0.2466128\ttest: 0.4711435\tbest: 0.4711392 (747)\ttotal: 1h 25m 49s\tremaining: 3h 20m 37s\n",
      "749:\tlearn: 0.2462649\ttest: 0.4711372\tbest: 0.4711372 (749)\ttotal: 1h 25m 56s\tremaining: 3h 20m 32s\n",
      "750:\tlearn: 0.2460916\ttest: 0.4711029\tbest: 0.4711029 (750)\ttotal: 1h 26m 3s\tremaining: 3h 20m 26s\n",
      "751:\tlearn: 0.2458735\ttest: 0.4711065\tbest: 0.4711029 (750)\ttotal: 1h 26m 11s\tremaining: 3h 20m 20s\n",
      "752:\tlearn: 0.2457491\ttest: 0.4710920\tbest: 0.4710920 (752)\ttotal: 1h 26m 18s\tremaining: 3h 20m 13s\n",
      "753:\tlearn: 0.2456522\ttest: 0.4711220\tbest: 0.4710920 (752)\ttotal: 1h 26m 25s\tremaining: 3h 20m 6s\n",
      "754:\tlearn: 0.2453919\ttest: 0.4711116\tbest: 0.4710920 (752)\ttotal: 1h 26m 32s\tremaining: 3h 20m\n",
      "755:\tlearn: 0.2452352\ttest: 0.4711082\tbest: 0.4710920 (752)\ttotal: 1h 26m 38s\tremaining: 3h 19m 52s\n",
      "756:\tlearn: 0.2450788\ttest: 0.4711160\tbest: 0.4710920 (752)\ttotal: 1h 26m 45s\tremaining: 3h 19m 45s\n",
      "757:\tlearn: 0.2448624\ttest: 0.4711007\tbest: 0.4710920 (752)\ttotal: 1h 26m 51s\tremaining: 3h 19m 37s\n",
      "758:\tlearn: 0.2447695\ttest: 0.4711032\tbest: 0.4710920 (752)\ttotal: 1h 26m 58s\tremaining: 3h 19m 29s\n",
      "759:\tlearn: 0.2444928\ttest: 0.4710832\tbest: 0.4710832 (759)\ttotal: 1h 27m 5s\tremaining: 3h 19m 23s\n",
      "760:\tlearn: 0.2441910\ttest: 0.4710863\tbest: 0.4710832 (759)\ttotal: 1h 27m 12s\tremaining: 3h 19m 17s\n",
      "761:\tlearn: 0.2438909\ttest: 0.4711022\tbest: 0.4710832 (759)\ttotal: 1h 27m 18s\tremaining: 3h 19m 8s\n",
      "762:\tlearn: 0.2435734\ttest: 0.4710605\tbest: 0.4710605 (762)\ttotal: 1h 27m 24s\tremaining: 3h 18m 58s\n",
      "763:\tlearn: 0.2433364\ttest: 0.4710876\tbest: 0.4710605 (762)\ttotal: 1h 27m 31s\tremaining: 3h 18m 51s\n",
      "764:\tlearn: 0.2432217\ttest: 0.4710817\tbest: 0.4710605 (762)\ttotal: 1h 27m 37s\tremaining: 3h 18m 43s\n",
      "765:\tlearn: 0.2430304\ttest: 0.4710858\tbest: 0.4710605 (762)\ttotal: 1h 27m 44s\tremaining: 3h 18m 37s\n"
     ]
    },
    {
     "name": "stdout",
     "output_type": "stream",
     "text": [
      "766:\tlearn: 0.2429301\ttest: 0.4710795\tbest: 0.4710605 (762)\ttotal: 1h 27m 50s\tremaining: 3h 18m 28s\n",
      "767:\tlearn: 0.2427975\ttest: 0.4710498\tbest: 0.4710498 (767)\ttotal: 1h 27m 56s\tremaining: 3h 18m 20s\n",
      "768:\tlearn: 0.2426761\ttest: 0.4710394\tbest: 0.4710394 (768)\ttotal: 1h 28m 3s\tremaining: 3h 18m 12s\n",
      "769:\tlearn: 0.2425785\ttest: 0.4710366\tbest: 0.4710366 (769)\ttotal: 1h 28m 9s\tremaining: 3h 18m 4s\n",
      "770:\tlearn: 0.2425276\ttest: 0.4710308\tbest: 0.4710308 (770)\ttotal: 1h 28m 15s\tremaining: 3h 17m 56s\n",
      "771:\tlearn: 0.2424637\ttest: 0.4710350\tbest: 0.4710308 (770)\ttotal: 1h 28m 21s\tremaining: 3h 17m 47s\n",
      "772:\tlearn: 0.2419883\ttest: 0.4710421\tbest: 0.4710308 (770)\ttotal: 1h 28m 28s\tremaining: 3h 17m 39s\n",
      "773:\tlearn: 0.2417455\ttest: 0.4710229\tbest: 0.4710229 (773)\ttotal: 1h 28m 34s\tremaining: 3h 17m 31s\n",
      "774:\tlearn: 0.2416419\ttest: 0.4710231\tbest: 0.4710229 (773)\ttotal: 1h 28m 41s\tremaining: 3h 17m 25s\n",
      "775:\tlearn: 0.2414534\ttest: 0.4710430\tbest: 0.4710229 (773)\ttotal: 1h 28m 48s\tremaining: 3h 17m 17s\n",
      "776:\tlearn: 0.2413369\ttest: 0.4710008\tbest: 0.4710008 (776)\ttotal: 1h 28m 55s\tremaining: 3h 17m 10s\n",
      "777:\tlearn: 0.2412642\ttest: 0.4710110\tbest: 0.4710008 (776)\ttotal: 1h 29m\tremaining: 3h 17m 1s\n",
      "778:\tlearn: 0.2410276\ttest: 0.4709898\tbest: 0.4709898 (778)\ttotal: 1h 29m 7s\tremaining: 3h 16m 53s\n",
      "779:\tlearn: 0.2409279\ttest: 0.4709777\tbest: 0.4709777 (779)\ttotal: 1h 29m 14s\tremaining: 3h 16m 47s\n",
      "780:\tlearn: 0.2407086\ttest: 0.4709858\tbest: 0.4709777 (779)\ttotal: 1h 29m 21s\tremaining: 3h 16m 41s\n",
      "781:\tlearn: 0.2404906\ttest: 0.4709558\tbest: 0.4709558 (781)\ttotal: 1h 29m 29s\tremaining: 3h 16m 35s\n",
      "782:\tlearn: 0.2403046\ttest: 0.4709412\tbest: 0.4709412 (782)\ttotal: 1h 29m 36s\tremaining: 3h 16m 29s\n",
      "783:\tlearn: 0.2401420\ttest: 0.4709544\tbest: 0.4709412 (782)\ttotal: 1h 29m 44s\tremaining: 3h 16m 24s\n",
      "784:\tlearn: 0.2399476\ttest: 0.4709455\tbest: 0.4709412 (782)\ttotal: 1h 29m 51s\tremaining: 3h 16m 18s\n",
      "785:\tlearn: 0.2397176\ttest: 0.4709363\tbest: 0.4709363 (785)\ttotal: 1h 29m 57s\tremaining: 3h 16m 9s\n",
      "786:\tlearn: 0.2395406\ttest: 0.4709233\tbest: 0.4709233 (786)\ttotal: 1h 30m 4s\tremaining: 3h 16m 4s\n",
      "787:\tlearn: 0.2393489\ttest: 0.4709229\tbest: 0.4709229 (787)\ttotal: 1h 30m 10s\tremaining: 3h 15m 55s\n",
      "788:\tlearn: 0.2391392\ttest: 0.4708999\tbest: 0.4708999 (788)\ttotal: 1h 30m 18s\tremaining: 3h 15m 49s\n",
      "789:\tlearn: 0.2389281\ttest: 0.4709520\tbest: 0.4708999 (788)\ttotal: 1h 30m 25s\tremaining: 3h 15m 42s\n",
      "790:\tlearn: 0.2387987\ttest: 0.4709524\tbest: 0.4708999 (788)\ttotal: 1h 30m 31s\tremaining: 3h 15m 34s\n",
      "791:\tlearn: 0.2385740\ttest: 0.4709610\tbest: 0.4708999 (788)\ttotal: 1h 30m 37s\tremaining: 3h 15m 26s\n",
      "792:\tlearn: 0.2382438\ttest: 0.4709372\tbest: 0.4708999 (788)\ttotal: 1h 30m 43s\tremaining: 3h 15m 18s\n",
      "793:\tlearn: 0.2380420\ttest: 0.4709332\tbest: 0.4708999 (788)\ttotal: 1h 30m 50s\tremaining: 3h 15m 11s\n",
      "794:\tlearn: 0.2378557\ttest: 0.4709273\tbest: 0.4708999 (788)\ttotal: 1h 30m 58s\tremaining: 3h 15m 6s\n",
      "795:\tlearn: 0.2377154\ttest: 0.4709434\tbest: 0.4708999 (788)\ttotal: 1h 31m 4s\tremaining: 3h 14m 58s\n",
      "796:\tlearn: 0.2376613\ttest: 0.4709368\tbest: 0.4708999 (788)\ttotal: 1h 31m 11s\tremaining: 3h 14m 50s\n",
      "797:\tlearn: 0.2375462\ttest: 0.4709751\tbest: 0.4708999 (788)\ttotal: 1h 31m 18s\tremaining: 3h 14m 44s\n",
      "798:\tlearn: 0.2373944\ttest: 0.4709332\tbest: 0.4708999 (788)\ttotal: 1h 31m 24s\tremaining: 3h 14m 35s\n",
      "799:\tlearn: 0.2372591\ttest: 0.4709204\tbest: 0.4708999 (788)\ttotal: 1h 31m 29s\tremaining: 3h 14m 26s\n",
      "800:\tlearn: 0.2370160\ttest: 0.4709651\tbest: 0.4708999 (788)\ttotal: 1h 31m 36s\tremaining: 3h 14m 18s\n",
      "801:\tlearn: 0.2367605\ttest: 0.4709661\tbest: 0.4708999 (788)\ttotal: 1h 31m 44s\tremaining: 3h 14m 14s\n",
      "802:\tlearn: 0.2365381\ttest: 0.4709650\tbest: 0.4708999 (788)\ttotal: 1h 31m 51s\tremaining: 3h 14m 7s\n",
      "803:\tlearn: 0.2363406\ttest: 0.4709494\tbest: 0.4708999 (788)\ttotal: 1h 31m 57s\tremaining: 3h 13m 57s\n",
      "804:\tlearn: 0.2360755\ttest: 0.4709357\tbest: 0.4708999 (788)\ttotal: 1h 32m 4s\tremaining: 3h 13m 51s\n",
      "805:\tlearn: 0.2359635\ttest: 0.4709204\tbest: 0.4708999 (788)\ttotal: 1h 32m 11s\tremaining: 3h 13m 45s\n",
      "806:\tlearn: 0.2357176\ttest: 0.4709222\tbest: 0.4708999 (788)\ttotal: 1h 32m 17s\tremaining: 3h 13m 38s\n",
      "807:\tlearn: 0.2354348\ttest: 0.4708999\tbest: 0.4708999 (788)\ttotal: 1h 32m 24s\tremaining: 3h 13m 30s\n",
      "808:\tlearn: 0.2352812\ttest: 0.4708741\tbest: 0.4708741 (808)\ttotal: 1h 32m 32s\tremaining: 3h 13m 25s\n",
      "809:\tlearn: 0.2349959\ttest: 0.4709014\tbest: 0.4708741 (808)\ttotal: 1h 32m 39s\tremaining: 3h 13m 19s\n",
      "810:\tlearn: 0.2347821\ttest: 0.4708707\tbest: 0.4708707 (810)\ttotal: 1h 32m 46s\tremaining: 3h 13m 12s\n",
      "811:\tlearn: 0.2345948\ttest: 0.4708632\tbest: 0.4708632 (811)\ttotal: 1h 32m 53s\tremaining: 3h 13m 5s\n",
      "812:\tlearn: 0.2344387\ttest: 0.4708526\tbest: 0.4708526 (812)\ttotal: 1h 32m 59s\tremaining: 3h 12m 57s\n",
      "813:\tlearn: 0.2341547\ttest: 0.4708070\tbest: 0.4708070 (813)\ttotal: 1h 33m 6s\tremaining: 3h 12m 50s\n",
      "814:\tlearn: 0.2338997\ttest: 0.4708270\tbest: 0.4708070 (813)\ttotal: 1h 33m 12s\tremaining: 3h 12m 41s\n",
      "815:\tlearn: 0.2338622\ttest: 0.4708304\tbest: 0.4708070 (813)\ttotal: 1h 33m 18s\tremaining: 3h 12m 34s\n",
      "816:\tlearn: 0.2336319\ttest: 0.4708551\tbest: 0.4708070 (813)\ttotal: 1h 33m 24s\tremaining: 3h 12m 25s\n",
      "817:\tlearn: 0.2333501\ttest: 0.4708483\tbest: 0.4708070 (813)\ttotal: 1h 33m 30s\tremaining: 3h 12m 16s\n",
      "818:\tlearn: 0.2331501\ttest: 0.4708507\tbest: 0.4708070 (813)\ttotal: 1h 33m 37s\tremaining: 3h 12m 9s\n",
      "819:\tlearn: 0.2329290\ttest: 0.4708441\tbest: 0.4708070 (813)\ttotal: 1h 33m 42s\tremaining: 3h 12m\n",
      "820:\tlearn: 0.2328432\ttest: 0.4708166\tbest: 0.4708070 (813)\ttotal: 1h 33m 49s\tremaining: 3h 11m 52s\n",
      "821:\tlearn: 0.2327740\ttest: 0.4708301\tbest: 0.4708070 (813)\ttotal: 1h 33m 55s\tremaining: 3h 11m 43s\n",
      "822:\tlearn: 0.2325537\ttest: 0.4708223\tbest: 0.4708070 (813)\ttotal: 1h 34m 2s\tremaining: 3h 11m 37s\n",
      "823:\tlearn: 0.2323302\ttest: 0.4708306\tbest: 0.4708070 (813)\ttotal: 1h 34m 8s\tremaining: 3h 11m 28s\n",
      "824:\tlearn: 0.2322146\ttest: 0.4708198\tbest: 0.4708070 (813)\ttotal: 1h 34m 14s\tremaining: 3h 11m 20s\n",
      "825:\tlearn: 0.2320939\ttest: 0.4708011\tbest: 0.4708011 (825)\ttotal: 1h 34m 21s\tremaining: 3h 11m 14s\n",
      "826:\tlearn: 0.2318979\ttest: 0.4707939\tbest: 0.4707939 (826)\ttotal: 1h 34m 28s\tremaining: 3h 11m 7s\n",
      "827:\tlearn: 0.2316961\ttest: 0.4708082\tbest: 0.4707939 (826)\ttotal: 1h 34m 35s\tremaining: 3h 11m\n",
      "828:\tlearn: 0.2314597\ttest: 0.4708208\tbest: 0.4707939 (826)\ttotal: 1h 34m 42s\tremaining: 3h 10m 54s\n",
      "829:\tlearn: 0.2313701\ttest: 0.4708022\tbest: 0.4707939 (826)\ttotal: 1h 34m 50s\tremaining: 3h 10m 48s\n",
      "830:\tlearn: 0.2311773\ttest: 0.4708037\tbest: 0.4707939 (826)\ttotal: 1h 34m 56s\tremaining: 3h 10m 40s\n",
      "831:\tlearn: 0.2309288\ttest: 0.4707794\tbest: 0.4707794 (831)\ttotal: 1h 35m 2s\tremaining: 3h 10m 32s\n",
      "832:\tlearn: 0.2307374\ttest: 0.4707664\tbest: 0.4707664 (832)\ttotal: 1h 35m 8s\tremaining: 3h 10m 23s\n",
      "833:\tlearn: 0.2306633\ttest: 0.4707630\tbest: 0.4707630 (833)\ttotal: 1h 35m 14s\tremaining: 3h 10m 14s\n",
      "834:\tlearn: 0.2304919\ttest: 0.4707892\tbest: 0.4707630 (833)\ttotal: 1h 35m 21s\tremaining: 3h 10m 8s\n",
      "835:\tlearn: 0.2303976\ttest: 0.4707793\tbest: 0.4707630 (833)\ttotal: 1h 35m 27s\tremaining: 3h 10m 1s\n",
      "836:\tlearn: 0.2301400\ttest: 0.4707666\tbest: 0.4707630 (833)\ttotal: 1h 35m 35s\tremaining: 3h 9m 55s\n",
      "837:\tlearn: 0.2299932\ttest: 0.4707775\tbest: 0.4707630 (833)\ttotal: 1h 35m 42s\tremaining: 3h 9m 49s\n",
      "838:\tlearn: 0.2299149\ttest: 0.4707786\tbest: 0.4707630 (833)\ttotal: 1h 35m 48s\tremaining: 3h 9m 41s\n",
      "839:\tlearn: 0.2297215\ttest: 0.4707788\tbest: 0.4707630 (833)\ttotal: 1h 35m 54s\tremaining: 3h 9m 31s\n",
      "840:\tlearn: 0.2295877\ttest: 0.4707816\tbest: 0.4707630 (833)\ttotal: 1h 36m 1s\tremaining: 3h 9m 25s\n",
      "841:\tlearn: 0.2294095\ttest: 0.4707867\tbest: 0.4707630 (833)\ttotal: 1h 36m 9s\tremaining: 3h 9m 20s\n",
      "842:\tlearn: 0.2291796\ttest: 0.4708050\tbest: 0.4707630 (833)\ttotal: 1h 36m 15s\tremaining: 3h 9m 13s\n",
      "843:\tlearn: 0.2287971\ttest: 0.4708162\tbest: 0.4707630 (833)\ttotal: 1h 36m 22s\tremaining: 3h 9m 6s\n",
      "844:\tlearn: 0.2287457\ttest: 0.4708318\tbest: 0.4707630 (833)\ttotal: 1h 36m 28s\tremaining: 3h 8m 57s\n",
      "845:\tlearn: 0.2285996\ttest: 0.4708675\tbest: 0.4707630 (833)\ttotal: 1h 36m 35s\tremaining: 3h 8m 51s\n",
      "846:\tlearn: 0.2283812\ttest: 0.4708337\tbest: 0.4707630 (833)\ttotal: 1h 36m 43s\tremaining: 3h 8m 45s\n",
      "847:\tlearn: 0.2281566\ttest: 0.4708242\tbest: 0.4707630 (833)\ttotal: 1h 36m 50s\tremaining: 3h 8m 40s\n",
      "848:\tlearn: 0.2280432\ttest: 0.4708189\tbest: 0.4707630 (833)\ttotal: 1h 36m 57s\tremaining: 3h 8m 32s\n"
     ]
    },
    {
     "name": "stdout",
     "output_type": "stream",
     "text": [
      "849:\tlearn: 0.2278914\ttest: 0.4707966\tbest: 0.4707630 (833)\ttotal: 1h 37m 4s\tremaining: 3h 8m 26s\n",
      "850:\tlearn: 0.2277708\ttest: 0.4707875\tbest: 0.4707630 (833)\ttotal: 1h 37m 11s\tremaining: 3h 8m 20s\n",
      "851:\tlearn: 0.2275992\ttest: 0.4708215\tbest: 0.4707630 (833)\ttotal: 1h 37m 18s\tremaining: 3h 8m 13s\n",
      "852:\tlearn: 0.2274743\ttest: 0.4708138\tbest: 0.4707630 (833)\ttotal: 1h 37m 25s\tremaining: 3h 8m 7s\n",
      "853:\tlearn: 0.2272783\ttest: 0.4708064\tbest: 0.4707630 (833)\ttotal: 1h 37m 32s\tremaining: 3h 8m\n",
      "854:\tlearn: 0.2271746\ttest: 0.4707856\tbest: 0.4707630 (833)\ttotal: 1h 37m 39s\tremaining: 3h 7m 54s\n",
      "855:\tlearn: 0.2270313\ttest: 0.4707848\tbest: 0.4707630 (833)\ttotal: 1h 37m 45s\tremaining: 3h 7m 45s\n",
      "856:\tlearn: 0.2269262\ttest: 0.4708056\tbest: 0.4707630 (833)\ttotal: 1h 37m 53s\tremaining: 3h 7m 39s\n",
      "857:\tlearn: 0.2267317\ttest: 0.4708028\tbest: 0.4707630 (833)\ttotal: 1h 38m\tremaining: 3h 7m 34s\n",
      "858:\tlearn: 0.2266478\ttest: 0.4707941\tbest: 0.4707630 (833)\ttotal: 1h 38m 8s\tremaining: 3h 7m 28s\n",
      "859:\tlearn: 0.2262498\ttest: 0.4708381\tbest: 0.4707630 (833)\ttotal: 1h 38m 15s\tremaining: 3h 7m 22s\n",
      "860:\tlearn: 0.2261543\ttest: 0.4708250\tbest: 0.4707630 (833)\ttotal: 1h 38m 21s\tremaining: 3h 7m 13s\n",
      "861:\tlearn: 0.2258966\ttest: 0.4708143\tbest: 0.4707630 (833)\ttotal: 1h 38m 28s\tremaining: 3h 7m 7s\n",
      "862:\tlearn: 0.2257459\ttest: 0.4708189\tbest: 0.4707630 (833)\ttotal: 1h 38m 35s\tremaining: 3h 7m\n",
      "863:\tlearn: 0.2256366\ttest: 0.4708036\tbest: 0.4707630 (833)\ttotal: 1h 38m 40s\tremaining: 3h 6m 50s\n",
      "864:\tlearn: 0.2254986\ttest: 0.4707852\tbest: 0.4707630 (833)\ttotal: 1h 38m 47s\tremaining: 3h 6m 43s\n",
      "865:\tlearn: 0.2254066\ttest: 0.4707891\tbest: 0.4707630 (833)\ttotal: 1h 38m 53s\tremaining: 3h 6m 34s\n",
      "866:\tlearn: 0.2251867\ttest: 0.4708050\tbest: 0.4707630 (833)\ttotal: 1h 38m 59s\tremaining: 3h 6m 27s\n",
      "867:\tlearn: 0.2249203\ttest: 0.4708127\tbest: 0.4707630 (833)\ttotal: 1h 39m 7s\tremaining: 3h 6m 22s\n",
      "868:\tlearn: 0.2247937\ttest: 0.4708088\tbest: 0.4707630 (833)\ttotal: 1h 39m 13s\tremaining: 3h 6m 14s\n",
      "869:\tlearn: 0.2246657\ttest: 0.4707739\tbest: 0.4707630 (833)\ttotal: 1h 39m 19s\tremaining: 3h 6m 5s\n",
      "870:\tlearn: 0.2245246\ttest: 0.4707805\tbest: 0.4707630 (833)\ttotal: 1h 39m 27s\tremaining: 3h 6m\n",
      "871:\tlearn: 0.2243309\ttest: 0.4708075\tbest: 0.4707630 (833)\ttotal: 1h 39m 34s\tremaining: 3h 5m 53s\n",
      "872:\tlearn: 0.2242285\ttest: 0.4708111\tbest: 0.4707630 (833)\ttotal: 1h 39m 40s\tremaining: 3h 5m 46s\n",
      "873:\tlearn: 0.2240399\ttest: 0.4707633\tbest: 0.4707630 (833)\ttotal: 1h 39m 48s\tremaining: 3h 5m 40s\n",
      "874:\tlearn: 0.2238995\ttest: 0.4707687\tbest: 0.4707630 (833)\ttotal: 1h 39m 55s\tremaining: 3h 5m 34s\n",
      "875:\tlearn: 0.2237624\ttest: 0.4707725\tbest: 0.4707630 (833)\ttotal: 1h 40m\tremaining: 3h 5m 23s\n",
      "876:\tlearn: 0.2234007\ttest: 0.4707582\tbest: 0.4707582 (876)\ttotal: 1h 40m 8s\tremaining: 3h 5m 18s\n",
      "877:\tlearn: 0.2231770\ttest: 0.4707936\tbest: 0.4707582 (876)\ttotal: 1h 40m 15s\tremaining: 3h 5m 12s\n",
      "878:\tlearn: 0.2230786\ttest: 0.4707983\tbest: 0.4707582 (876)\ttotal: 1h 40m 22s\tremaining: 3h 5m 5s\n",
      "879:\tlearn: 0.2228259\ttest: 0.4707968\tbest: 0.4707582 (876)\ttotal: 1h 40m 28s\tremaining: 3h 4m 58s\n",
      "880:\tlearn: 0.2226866\ttest: 0.4707921\tbest: 0.4707582 (876)\ttotal: 1h 40m 36s\tremaining: 3h 4m 53s\n",
      "881:\tlearn: 0.2225919\ttest: 0.4708016\tbest: 0.4707582 (876)\ttotal: 1h 40m 41s\tremaining: 3h 4m 43s\n",
      "882:\tlearn: 0.2225149\ttest: 0.4708093\tbest: 0.4707582 (876)\ttotal: 1h 40m 48s\tremaining: 3h 4m 36s\n",
      "883:\tlearn: 0.2222003\ttest: 0.4708121\tbest: 0.4707582 (876)\ttotal: 1h 40m 55s\tremaining: 3h 4m 29s\n",
      "884:\tlearn: 0.2220788\ttest: 0.4707764\tbest: 0.4707582 (876)\ttotal: 1h 41m 1s\tremaining: 3h 4m 21s\n",
      "885:\tlearn: 0.2218356\ttest: 0.4707599\tbest: 0.4707582 (876)\ttotal: 1h 41m 9s\tremaining: 3h 4m 17s\n",
      "886:\tlearn: 0.2216496\ttest: 0.4707669\tbest: 0.4707582 (876)\ttotal: 1h 41m 17s\tremaining: 3h 4m 11s\n",
      "887:\tlearn: 0.2213158\ttest: 0.4707881\tbest: 0.4707582 (876)\ttotal: 1h 41m 24s\tremaining: 3h 4m 4s\n",
      "888:\tlearn: 0.2209150\ttest: 0.4707712\tbest: 0.4707582 (876)\ttotal: 1h 41m 30s\tremaining: 3h 3m 57s\n",
      "889:\tlearn: 0.2207147\ttest: 0.4707862\tbest: 0.4707582 (876)\ttotal: 1h 41m 37s\tremaining: 3h 3m 50s\n",
      "890:\tlearn: 0.2205267\ttest: 0.4707934\tbest: 0.4707582 (876)\ttotal: 1h 41m 44s\tremaining: 3h 3m 43s\n",
      "891:\tlearn: 0.2204159\ttest: 0.4707764\tbest: 0.4707582 (876)\ttotal: 1h 41m 50s\tremaining: 3h 3m 36s\n",
      "892:\tlearn: 0.2202042\ttest: 0.4708068\tbest: 0.4707582 (876)\ttotal: 1h 41m 58s\tremaining: 3h 3m 31s\n",
      "893:\tlearn: 0.2201087\ttest: 0.4707961\tbest: 0.4707582 (876)\ttotal: 1h 42m 6s\tremaining: 3h 3m 25s\n",
      "894:\tlearn: 0.2199232\ttest: 0.4708177\tbest: 0.4707582 (876)\ttotal: 1h 42m 13s\tremaining: 3h 3m 19s\n",
      "895:\tlearn: 0.2197307\ttest: 0.4708167\tbest: 0.4707582 (876)\ttotal: 1h 42m 20s\tremaining: 3h 3m 12s\n",
      "896:\tlearn: 0.2194880\ttest: 0.4708040\tbest: 0.4707582 (876)\ttotal: 1h 42m 25s\tremaining: 3h 3m 2s\n",
      "897:\tlearn: 0.2193720\ttest: 0.4707965\tbest: 0.4707582 (876)\ttotal: 1h 42m 31s\tremaining: 3h 2m 54s\n",
      "898:\tlearn: 0.2191194\ttest: 0.4708041\tbest: 0.4707582 (876)\ttotal: 1h 42m 39s\tremaining: 3h 2m 48s\n",
      "899:\tlearn: 0.2190264\ttest: 0.4708013\tbest: 0.4707582 (876)\ttotal: 1h 42m 44s\tremaining: 3h 2m 39s\n",
      "900:\tlearn: 0.2188097\ttest: 0.4707738\tbest: 0.4707582 (876)\ttotal: 1h 42m 51s\tremaining: 3h 2m 32s\n",
      "901:\tlearn: 0.2185187\ttest: 0.4707778\tbest: 0.4707582 (876)\ttotal: 1h 42m 59s\tremaining: 3h 2m 26s\n",
      "902:\tlearn: 0.2184261\ttest: 0.4707731\tbest: 0.4707582 (876)\ttotal: 1h 43m 5s\tremaining: 3h 2m 20s\n",
      "903:\tlearn: 0.2181430\ttest: 0.4708173\tbest: 0.4707582 (876)\ttotal: 1h 43m 13s\tremaining: 3h 2m 15s\n",
      "904:\tlearn: 0.2179271\ttest: 0.4708178\tbest: 0.4707582 (876)\ttotal: 1h 43m 20s\tremaining: 3h 2m 8s\n",
      "905:\tlearn: 0.2177371\ttest: 0.4708138\tbest: 0.4707582 (876)\ttotal: 1h 43m 26s\tremaining: 3h 2m\n",
      "906:\tlearn: 0.2174307\ttest: 0.4708281\tbest: 0.4707582 (876)\ttotal: 1h 43m 33s\tremaining: 3h 1m 53s\n",
      "907:\tlearn: 0.2173174\ttest: 0.4708352\tbest: 0.4707582 (876)\ttotal: 1h 43m 39s\tremaining: 3h 1m 45s\n",
      "908:\tlearn: 0.2171973\ttest: 0.4708301\tbest: 0.4707582 (876)\ttotal: 1h 43m 46s\tremaining: 3h 1m 38s\n",
      "909:\tlearn: 0.2170037\ttest: 0.4708027\tbest: 0.4707582 (876)\ttotal: 1h 43m 53s\tremaining: 3h 1m 30s\n",
      "910:\tlearn: 0.2168072\ttest: 0.4708126\tbest: 0.4707582 (876)\ttotal: 1h 44m\tremaining: 3h 1m 24s\n",
      "911:\tlearn: 0.2167663\ttest: 0.4707993\tbest: 0.4707582 (876)\ttotal: 1h 44m 6s\tremaining: 3h 1m 16s\n",
      "912:\tlearn: 0.2166215\ttest: 0.4707879\tbest: 0.4707582 (876)\ttotal: 1h 44m 13s\tremaining: 3h 1m 10s\n",
      "913:\tlearn: 0.2164161\ttest: 0.4707655\tbest: 0.4707582 (876)\ttotal: 1h 44m 18s\tremaining: 3h 1m\n",
      "914:\tlearn: 0.2160850\ttest: 0.4707921\tbest: 0.4707582 (876)\ttotal: 1h 44m 25s\tremaining: 3h 52s\n",
      "915:\tlearn: 0.2158981\ttest: 0.4708124\tbest: 0.4707582 (876)\ttotal: 1h 44m 32s\tremaining: 3h 47s\n",
      "916:\tlearn: 0.2156809\ttest: 0.4708369\tbest: 0.4707582 (876)\ttotal: 1h 44m 40s\tremaining: 3h 41s\n",
      "917:\tlearn: 0.2154952\ttest: 0.4708431\tbest: 0.4707582 (876)\ttotal: 1h 44m 47s\tremaining: 3h 35s\n",
      "918:\tlearn: 0.2153078\ttest: 0.4708308\tbest: 0.4707582 (876)\ttotal: 1h 44m 54s\tremaining: 3h 28s\n",
      "919:\tlearn: 0.2151808\ttest: 0.4708505\tbest: 0.4707582 (876)\ttotal: 1h 44m 59s\tremaining: 3h 19s\n",
      "920:\tlearn: 0.2150377\ttest: 0.4708258\tbest: 0.4707582 (876)\ttotal: 1h 45m 5s\tremaining: 3h 11s\n",
      "921:\tlearn: 0.2148751\ttest: 0.4708008\tbest: 0.4707582 (876)\ttotal: 1h 45m 12s\tremaining: 3h 3s\n",
      "922:\tlearn: 0.2145576\ttest: 0.4708147\tbest: 0.4707582 (876)\ttotal: 1h 45m 19s\tremaining: 2h 59m 57s\n",
      "923:\tlearn: 0.2144266\ttest: 0.4708353\tbest: 0.4707582 (876)\ttotal: 1h 45m 26s\tremaining: 2h 59m 50s\n",
      "924:\tlearn: 0.2141792\ttest: 0.4707810\tbest: 0.4707582 (876)\ttotal: 1h 45m 33s\tremaining: 2h 59m 44s\n",
      "925:\tlearn: 0.2140598\ttest: 0.4707862\tbest: 0.4707582 (876)\ttotal: 1h 45m 39s\tremaining: 2h 59m 35s\n",
      "926:\tlearn: 0.2139694\ttest: 0.4707655\tbest: 0.4707582 (876)\ttotal: 1h 45m 45s\tremaining: 2h 59m 27s\n",
      "927:\tlearn: 0.2139070\ttest: 0.4707647\tbest: 0.4707582 (876)\ttotal: 1h 45m 52s\tremaining: 2h 59m 21s\n",
      "928:\tlearn: 0.2138029\ttest: 0.4707577\tbest: 0.4707577 (928)\ttotal: 1h 45m 59s\tremaining: 2h 59m 13s\n",
      "929:\tlearn: 0.2135588\ttest: 0.4707738\tbest: 0.4707577 (928)\ttotal: 1h 46m 4s\tremaining: 2h 59m 5s\n",
      "930:\tlearn: 0.2133850\ttest: 0.4707713\tbest: 0.4707577 (928)\ttotal: 1h 46m 12s\tremaining: 2h 58m 59s\n",
      "931:\tlearn: 0.2133433\ttest: 0.4707854\tbest: 0.4707577 (928)\ttotal: 1h 46m 18s\tremaining: 2h 58m 50s\n",
      "932:\tlearn: 0.2132411\ttest: 0.4707853\tbest: 0.4707577 (928)\ttotal: 1h 46m 25s\tremaining: 2h 58m 43s\n"
     ]
    },
    {
     "name": "stdout",
     "output_type": "stream",
     "text": [
      "933:\tlearn: 0.2131011\ttest: 0.4707806\tbest: 0.4707577 (928)\ttotal: 1h 46m 32s\tremaining: 2h 58m 37s\n",
      "934:\tlearn: 0.2129556\ttest: 0.4707911\tbest: 0.4707577 (928)\ttotal: 1h 46m 39s\tremaining: 2h 58m 30s\n",
      "935:\tlearn: 0.2128384\ttest: 0.4708263\tbest: 0.4707577 (928)\ttotal: 1h 46m 46s\tremaining: 2h 58m 24s\n",
      "936:\tlearn: 0.2127358\ttest: 0.4708364\tbest: 0.4707577 (928)\ttotal: 1h 46m 53s\tremaining: 2h 58m 17s\n",
      "937:\tlearn: 0.2125599\ttest: 0.4708296\tbest: 0.4707577 (928)\ttotal: 1h 46m 59s\tremaining: 2h 58m 9s\n",
      "938:\tlearn: 0.2123913\ttest: 0.4708269\tbest: 0.4707577 (928)\ttotal: 1h 47m 7s\tremaining: 2h 58m 4s\n",
      "939:\tlearn: 0.2122863\ttest: 0.4708132\tbest: 0.4707577 (928)\ttotal: 1h 47m 14s\tremaining: 2h 57m 58s\n",
      "940:\tlearn: 0.2119704\ttest: 0.4708331\tbest: 0.4707577 (928)\ttotal: 1h 47m 21s\tremaining: 2h 57m 52s\n",
      "941:\tlearn: 0.2117134\ttest: 0.4708247\tbest: 0.4707577 (928)\ttotal: 1h 47m 27s\tremaining: 2h 57m 44s\n",
      "942:\tlearn: 0.2115390\ttest: 0.4707757\tbest: 0.4707577 (928)\ttotal: 1h 47m 33s\tremaining: 2h 57m 35s\n",
      "943:\tlearn: 0.2114792\ttest: 0.4707807\tbest: 0.4707577 (928)\ttotal: 1h 47m 39s\tremaining: 2h 57m 26s\n",
      "944:\tlearn: 0.2113743\ttest: 0.4707732\tbest: 0.4707577 (928)\ttotal: 1h 47m 46s\tremaining: 2h 57m 20s\n",
      "945:\tlearn: 0.2111889\ttest: 0.4707500\tbest: 0.4707500 (945)\ttotal: 1h 47m 54s\tremaining: 2h 57m 15s\n",
      "946:\tlearn: 0.2111069\ttest: 0.4707614\tbest: 0.4707500 (945)\ttotal: 1h 47m 59s\tremaining: 2h 57m 6s\n",
      "947:\tlearn: 0.2109365\ttest: 0.4707550\tbest: 0.4707500 (945)\ttotal: 1h 48m 5s\tremaining: 2h 56m 57s\n",
      "948:\tlearn: 0.2107205\ttest: 0.4707440\tbest: 0.4707440 (948)\ttotal: 1h 48m 10s\tremaining: 2h 56m 48s\n",
      "949:\tlearn: 0.2103570\ttest: 0.4707937\tbest: 0.4707440 (948)\ttotal: 1h 48m 18s\tremaining: 2h 56m 42s\n",
      "950:\tlearn: 0.2102163\ttest: 0.4708253\tbest: 0.4707440 (948)\ttotal: 1h 48m 26s\tremaining: 2h 56m 37s\n",
      "951:\tlearn: 0.2100323\ttest: 0.4708415\tbest: 0.4707440 (948)\ttotal: 1h 48m 33s\tremaining: 2h 56m 31s\n",
      "952:\tlearn: 0.2097396\ttest: 0.4708620\tbest: 0.4707440 (948)\ttotal: 1h 48m 39s\tremaining: 2h 56m 23s\n",
      "953:\tlearn: 0.2096205\ttest: 0.4708891\tbest: 0.4707440 (948)\ttotal: 1h 48m 46s\tremaining: 2h 56m 16s\n",
      "954:\tlearn: 0.2093431\ttest: 0.4708727\tbest: 0.4707440 (948)\ttotal: 1h 48m 52s\tremaining: 2h 56m 7s\n",
      "955:\tlearn: 0.2090642\ttest: 0.4709023\tbest: 0.4707440 (948)\ttotal: 1h 48m 59s\tremaining: 2h 56m 2s\n",
      "956:\tlearn: 0.2089650\ttest: 0.4709164\tbest: 0.4707440 (948)\ttotal: 1h 49m 5s\tremaining: 2h 55m 53s\n",
      "957:\tlearn: 0.2088761\ttest: 0.4709258\tbest: 0.4707440 (948)\ttotal: 1h 49m 12s\tremaining: 2h 55m 46s\n",
      "958:\tlearn: 0.2087658\ttest: 0.4709395\tbest: 0.4707440 (948)\ttotal: 1h 49m 19s\tremaining: 2h 55m 39s\n",
      "959:\tlearn: 0.2086360\ttest: 0.4709192\tbest: 0.4707440 (948)\ttotal: 1h 49m 24s\tremaining: 2h 55m 30s\n",
      "960:\tlearn: 0.2084605\ttest: 0.4709429\tbest: 0.4707440 (948)\ttotal: 1h 49m 31s\tremaining: 2h 55m 23s\n",
      "961:\tlearn: 0.2082935\ttest: 0.4709621\tbest: 0.4707440 (948)\ttotal: 1h 49m 38s\tremaining: 2h 55m 17s\n",
      "962:\tlearn: 0.2081707\ttest: 0.4709620\tbest: 0.4707440 (948)\ttotal: 1h 49m 45s\tremaining: 2h 55m 11s\n",
      "963:\tlearn: 0.2079487\ttest: 0.4709596\tbest: 0.4707440 (948)\ttotal: 1h 49m 52s\tremaining: 2h 55m 3s\n",
      "964:\tlearn: 0.2077834\ttest: 0.4710058\tbest: 0.4707440 (948)\ttotal: 1h 49m 58s\tremaining: 2h 54m 56s\n",
      "965:\tlearn: 0.2077076\ttest: 0.4710218\tbest: 0.4707440 (948)\ttotal: 1h 50m 4s\tremaining: 2h 54m 47s\n",
      "966:\tlearn: 0.2075786\ttest: 0.4710104\tbest: 0.4707440 (948)\ttotal: 1h 50m 11s\tremaining: 2h 54m 41s\n",
      "967:\tlearn: 0.2074151\ttest: 0.4710470\tbest: 0.4707440 (948)\ttotal: 1h 50m 16s\tremaining: 2h 54m 32s\n",
      "968:\tlearn: 0.2071722\ttest: 0.4710822\tbest: 0.4707440 (948)\ttotal: 1h 50m 24s\tremaining: 2h 54m 26s\n",
      "969:\tlearn: 0.2069646\ttest: 0.4711382\tbest: 0.4707440 (948)\ttotal: 1h 50m 31s\tremaining: 2h 54m 20s\n",
      "970:\tlearn: 0.2067229\ttest: 0.4711618\tbest: 0.4707440 (948)\ttotal: 1h 50m 38s\tremaining: 2h 54m 12s\n",
      "971:\tlearn: 0.2065842\ttest: 0.4711620\tbest: 0.4707440 (948)\ttotal: 1h 50m 45s\tremaining: 2h 54m 6s\n",
      "972:\tlearn: 0.2063775\ttest: 0.4711995\tbest: 0.4707440 (948)\ttotal: 1h 50m 52s\tremaining: 2h 54m\n",
      "973:\tlearn: 0.2062393\ttest: 0.4712074\tbest: 0.4707440 (948)\ttotal: 1h 50m 59s\tremaining: 2h 53m 53s\n",
      "974:\tlearn: 0.2059673\ttest: 0.4711947\tbest: 0.4707440 (948)\ttotal: 1h 51m 6s\tremaining: 2h 53m 47s\n",
      "975:\tlearn: 0.2058025\ttest: 0.4712096\tbest: 0.4707440 (948)\ttotal: 1h 51m 12s\tremaining: 2h 53m 39s\n",
      "976:\tlearn: 0.2056886\ttest: 0.4712049\tbest: 0.4707440 (948)\ttotal: 1h 51m 19s\tremaining: 2h 53m 33s\n",
      "977:\tlearn: 0.2055090\ttest: 0.4712476\tbest: 0.4707440 (948)\ttotal: 1h 51m 27s\tremaining: 2h 53m 27s\n",
      "978:\tlearn: 0.2053126\ttest: 0.4712381\tbest: 0.4707440 (948)\ttotal: 1h 51m 34s\tremaining: 2h 53m 20s\n",
      "979:\tlearn: 0.2050061\ttest: 0.4712920\tbest: 0.4707440 (948)\ttotal: 1h 51m 41s\tremaining: 2h 53m 14s\n",
      "980:\tlearn: 0.2048424\ttest: 0.4713372\tbest: 0.4707440 (948)\ttotal: 1h 51m 47s\tremaining: 2h 53m 6s\n",
      "981:\tlearn: 0.2046400\ttest: 0.4713639\tbest: 0.4707440 (948)\ttotal: 1h 51m 53s\tremaining: 2h 52m 57s\n",
      "982:\tlearn: 0.2045687\ttest: 0.4713674\tbest: 0.4707440 (948)\ttotal: 1h 51m 59s\tremaining: 2h 52m 49s\n",
      "983:\tlearn: 0.2044395\ttest: 0.4713638\tbest: 0.4707440 (948)\ttotal: 1h 52m 6s\tremaining: 2h 52m 42s\n",
      "984:\tlearn: 0.2043070\ttest: 0.4713585\tbest: 0.4707440 (948)\ttotal: 1h 52m 12s\tremaining: 2h 52m 34s\n",
      "985:\tlearn: 0.2042130\ttest: 0.4713543\tbest: 0.4707440 (948)\ttotal: 1h 52m 19s\tremaining: 2h 52m 28s\n",
      "986:\tlearn: 0.2040689\ttest: 0.4713936\tbest: 0.4707440 (948)\ttotal: 1h 52m 25s\tremaining: 2h 52m 20s\n",
      "987:\tlearn: 0.2039003\ttest: 0.4714076\tbest: 0.4707440 (948)\ttotal: 1h 52m 32s\tremaining: 2h 52m 13s\n",
      "988:\tlearn: 0.2036590\ttest: 0.4714374\tbest: 0.4707440 (948)\ttotal: 1h 52m 40s\tremaining: 2h 52m 8s\n",
      "989:\tlearn: 0.2034155\ttest: 0.4714724\tbest: 0.4707440 (948)\ttotal: 1h 52m 47s\tremaining: 2h 52m 1s\n",
      "990:\tlearn: 0.2032411\ttest: 0.4714570\tbest: 0.4707440 (948)\ttotal: 1h 52m 54s\tremaining: 2h 51m 55s\n",
      "991:\tlearn: 0.2031335\ttest: 0.4714613\tbest: 0.4707440 (948)\ttotal: 1h 53m 1s\tremaining: 2h 51m 48s\n",
      "992:\tlearn: 0.2030757\ttest: 0.4714632\tbest: 0.4707440 (948)\ttotal: 1h 53m 8s\tremaining: 2h 51m 41s\n",
      "993:\tlearn: 0.2028610\ttest: 0.4714855\tbest: 0.4707440 (948)\ttotal: 1h 53m 14s\tremaining: 2h 51m 34s\n",
      "994:\tlearn: 0.2027494\ttest: 0.4715244\tbest: 0.4707440 (948)\ttotal: 1h 53m 21s\tremaining: 2h 51m 27s\n",
      "995:\tlearn: 0.2025923\ttest: 0.4715388\tbest: 0.4707440 (948)\ttotal: 1h 53m 28s\tremaining: 2h 51m 20s\n",
      "996:\tlearn: 0.2023524\ttest: 0.4715106\tbest: 0.4707440 (948)\ttotal: 1h 53m 35s\tremaining: 2h 51m 14s\n",
      "997:\tlearn: 0.2022772\ttest: 0.4715109\tbest: 0.4707440 (948)\ttotal: 1h 53m 42s\tremaining: 2h 51m 7s\n",
      "998:\tlearn: 0.2020077\ttest: 0.4715222\tbest: 0.4707440 (948)\ttotal: 1h 53m 48s\tremaining: 2h 50m 59s\n",
      "999:\tlearn: 0.2018203\ttest: 0.4715218\tbest: 0.4707440 (948)\ttotal: 1h 53m 56s\tremaining: 2h 50m 54s\n",
      "1000:\tlearn: 0.2017084\ttest: 0.4715564\tbest: 0.4707440 (948)\ttotal: 1h 54m 3s\tremaining: 2h 50m 47s\n",
      "1001:\tlearn: 0.2015476\ttest: 0.4715723\tbest: 0.4707440 (948)\ttotal: 1h 54m 10s\tremaining: 2h 50m 41s\n",
      "1002:\tlearn: 0.2013559\ttest: 0.4715692\tbest: 0.4707440 (948)\ttotal: 1h 54m 17s\tremaining: 2h 50m 35s\n",
      "1003:\tlearn: 0.2012011\ttest: 0.4715827\tbest: 0.4707440 (948)\ttotal: 1h 54m 25s\tremaining: 2h 50m 29s\n",
      "1004:\tlearn: 0.2011266\ttest: 0.4715957\tbest: 0.4707440 (948)\ttotal: 1h 54m 31s\tremaining: 2h 50m 22s\n",
      "1005:\tlearn: 0.2010433\ttest: 0.4716048\tbest: 0.4707440 (948)\ttotal: 1h 54m 37s\tremaining: 2h 50m 13s\n",
      "1006:\tlearn: 0.2008424\ttest: 0.4716375\tbest: 0.4707440 (948)\ttotal: 1h 54m 44s\tremaining: 2h 50m 7s\n",
      "1007:\tlearn: 0.2007572\ttest: 0.4716371\tbest: 0.4707440 (948)\ttotal: 1h 54m 51s\tremaining: 2h 50m\n",
      "1008:\tlearn: 0.2004933\ttest: 0.4716375\tbest: 0.4707440 (948)\ttotal: 1h 54m 58s\tremaining: 2h 49m 53s\n",
      "1009:\tlearn: 0.2002157\ttest: 0.4716430\tbest: 0.4707440 (948)\ttotal: 1h 55m 5s\tremaining: 2h 49m 47s\n",
      "1010:\tlearn: 0.1999520\ttest: 0.4716623\tbest: 0.4707440 (948)\ttotal: 1h 55m 12s\tremaining: 2h 49m 41s\n",
      "1011:\tlearn: 0.1998056\ttest: 0.4716720\tbest: 0.4707440 (948)\ttotal: 1h 55m 20s\tremaining: 2h 49m 35s\n",
      "1012:\tlearn: 0.1996540\ttest: 0.4716995\tbest: 0.4707440 (948)\ttotal: 1h 55m 27s\tremaining: 2h 49m 29s\n",
      "1013:\tlearn: 0.1993410\ttest: 0.4717049\tbest: 0.4707440 (948)\ttotal: 1h 55m 33s\tremaining: 2h 49m 20s\n",
      "1014:\tlearn: 0.1989951\ttest: 0.4716956\tbest: 0.4707440 (948)\ttotal: 1h 55m 40s\tremaining: 2h 49m 14s\n",
      "1015:\tlearn: 0.1988835\ttest: 0.4717034\tbest: 0.4707440 (948)\ttotal: 1h 55m 47s\tremaining: 2h 49m 7s\n"
     ]
    },
    {
     "name": "stdout",
     "output_type": "stream",
     "text": [
      "1016:\tlearn: 0.1987923\ttest: 0.4717348\tbest: 0.4707440 (948)\ttotal: 1h 55m 53s\tremaining: 2h 48m 59s\n",
      "1017:\tlearn: 0.1986637\ttest: 0.4717671\tbest: 0.4707440 (948)\ttotal: 1h 55m 58s\tremaining: 2h 48m 50s\n",
      "1018:\tlearn: 0.1984136\ttest: 0.4718024\tbest: 0.4707440 (948)\ttotal: 1h 56m 5s\tremaining: 2h 48m 43s\n",
      "1019:\tlearn: 0.1981510\ttest: 0.4718067\tbest: 0.4707440 (948)\ttotal: 1h 56m 11s\tremaining: 2h 48m 36s\n",
      "1020:\tlearn: 0.1980537\ttest: 0.4717950\tbest: 0.4707440 (948)\ttotal: 1h 56m 18s\tremaining: 2h 48m 29s\n",
      "1021:\tlearn: 0.1978931\ttest: 0.4718149\tbest: 0.4707440 (948)\ttotal: 1h 56m 26s\tremaining: 2h 48m 23s\n",
      "1022:\tlearn: 0.1978077\ttest: 0.4718069\tbest: 0.4707440 (948)\ttotal: 1h 56m 33s\tremaining: 2h 48m 16s\n",
      "1023:\tlearn: 0.1977470\ttest: 0.4717926\tbest: 0.4707440 (948)\ttotal: 1h 56m 39s\tremaining: 2h 48m 9s\n",
      "1024:\tlearn: 0.1976322\ttest: 0.4717778\tbest: 0.4707440 (948)\ttotal: 1h 56m 46s\tremaining: 2h 48m 1s\n",
      "1025:\tlearn: 0.1975394\ttest: 0.4718009\tbest: 0.4707440 (948)\ttotal: 1h 56m 51s\tremaining: 2h 47m 53s\n",
      "1026:\tlearn: 0.1974594\ttest: 0.4717875\tbest: 0.4707440 (948)\ttotal: 1h 56m 57s\tremaining: 2h 47m 45s\n",
      "1027:\tlearn: 0.1973396\ttest: 0.4717718\tbest: 0.4707440 (948)\ttotal: 1h 57m 5s\tremaining: 2h 47m 39s\n",
      "1028:\tlearn: 0.1971702\ttest: 0.4717665\tbest: 0.4707440 (948)\ttotal: 1h 57m 12s\tremaining: 2h 47m 32s\n",
      "1029:\tlearn: 0.1970095\ttest: 0.4717618\tbest: 0.4707440 (948)\ttotal: 1h 57m 18s\tremaining: 2h 47m 25s\n",
      "1030:\tlearn: 0.1968221\ttest: 0.4717759\tbest: 0.4707440 (948)\ttotal: 1h 57m 25s\tremaining: 2h 47m 18s\n",
      "1031:\tlearn: 0.1967071\ttest: 0.4717885\tbest: 0.4707440 (948)\ttotal: 1h 57m 32s\tremaining: 2h 47m 12s\n",
      "1032:\tlearn: 0.1964860\ttest: 0.4717848\tbest: 0.4707440 (948)\ttotal: 1h 57m 39s\tremaining: 2h 47m 5s\n",
      "1033:\tlearn: 0.1963317\ttest: 0.4717761\tbest: 0.4707440 (948)\ttotal: 1h 57m 46s\tremaining: 2h 46m 58s\n",
      "1034:\tlearn: 0.1961522\ttest: 0.4717914\tbest: 0.4707440 (948)\ttotal: 1h 57m 52s\tremaining: 2h 46m 51s\n",
      "1035:\tlearn: 0.1960168\ttest: 0.4717849\tbest: 0.4707440 (948)\ttotal: 1h 57m 59s\tremaining: 2h 46m 43s\n",
      "1036:\tlearn: 0.1959729\ttest: 0.4717905\tbest: 0.4707440 (948)\ttotal: 1h 58m 5s\tremaining: 2h 46m 36s\n",
      "1037:\tlearn: 0.1958809\ttest: 0.4717921\tbest: 0.4707440 (948)\ttotal: 1h 58m 11s\tremaining: 2h 46m 28s\n",
      "1038:\tlearn: 0.1956285\ttest: 0.4718263\tbest: 0.4707440 (948)\ttotal: 1h 58m 18s\tremaining: 2h 46m 21s\n",
      "1039:\tlearn: 0.1955101\ttest: 0.4718115\tbest: 0.4707440 (948)\ttotal: 1h 58m 25s\tremaining: 2h 46m 14s\n",
      "1040:\tlearn: 0.1953586\ttest: 0.4718322\tbest: 0.4707440 (948)\ttotal: 1h 58m 32s\tremaining: 2h 46m 8s\n",
      "1041:\tlearn: 0.1951797\ttest: 0.4718158\tbest: 0.4707440 (948)\ttotal: 1h 58m 39s\tremaining: 2h 46m 1s\n",
      "1042:\tlearn: 0.1949728\ttest: 0.4718113\tbest: 0.4707440 (948)\ttotal: 1h 58m 45s\tremaining: 2h 45m 54s\n",
      "1043:\tlearn: 0.1948498\ttest: 0.4718382\tbest: 0.4707440 (948)\ttotal: 1h 58m 53s\tremaining: 2h 45m 48s\n",
      "1044:\tlearn: 0.1946898\ttest: 0.4718417\tbest: 0.4707440 (948)\ttotal: 1h 59m\tremaining: 2h 45m 42s\n",
      "1045:\tlearn: 0.1946035\ttest: 0.4718603\tbest: 0.4707440 (948)\ttotal: 1h 59m 7s\tremaining: 2h 45m 34s\n",
      "1046:\tlearn: 0.1945135\ttest: 0.4718602\tbest: 0.4707440 (948)\ttotal: 1h 59m 13s\tremaining: 2h 45m 27s\n",
      "1047:\tlearn: 0.1943397\ttest: 0.4718313\tbest: 0.4707440 (948)\ttotal: 1h 59m 19s\tremaining: 2h 45m 20s\n",
      "1048:\tlearn: 0.1942467\ttest: 0.4718250\tbest: 0.4707440 (948)\ttotal: 1h 59m 27s\tremaining: 2h 45m 13s\n",
      "Stopped by overfitting detector  (100 iterations wait)\n",
      "\n",
      "bestTest = 0.4707440459\n",
      "bestIteration = 948\n",
      "\n",
      "Shrink model to first 949 iterations.\n",
      "0.8879685746352413 ---------------------------------------------\n",
      "0.8105723905723906 ---------------------------------------------\n"
     ]
    }
   ],
   "source": [
    "#Hyperparameters tuned: task_type, l2_leaf_reg, depth, rsm, iterations, bagging_temperature, random_strength, auto_class_weights\n",
    "data = pd.read_csv('data/cleaned.csv')\n",
    "X = data.drop('status_group', axis=1)\n",
    "X_train, X_test, y_train, y_test = TTS(X, y, random_state=22)\n",
    "cbc = CBC(random_seed=22, task_type='CPU', early_stopping_rounds=100, \n",
    "          l2_leaf_reg=1, depth=12, iterations=2500, rsm=0.6)\n",
    "cbc.fit(X_train, y_train, cat_features=X.select_dtypes('object').columns, \n",
    "        eval_set=(X_test, y_test))\n",
    "\n",
    "print(cbc.score(X_train, y_train), '---------------------------------------')\n",
    "print(cbc.score(X_test, y_test), '-----------------------------------------')"
   ]
  },
  {
   "cell_type": "code",
   "execution_count": null,
   "metadata": {
    "hidden": true
   },
   "outputs": [],
   "source": [
    "a, b = zip(*sorted(zip(cbc.feature_importances_, X.columns)))\n",
    "plt.figure(figsize=(6,8))\n",
    "plt.barh(b, a)"
   ]
  },
  {
   "cell_type": "code",
   "execution_count": 46,
   "metadata": {
    "ExecuteTime": {
     "end_time": "2021-02-17T06:48:40.984196Z",
     "start_time": "2021-02-17T06:48:39.600894Z"
    },
    "hidden": true
   },
   "outputs": [
    {
     "data": {
      "text/plain": [
       "<sklearn.metrics._plot.confusion_matrix.ConfusionMatrixDisplay at 0x21ae258a4e0>"
      ]
     },
     "execution_count": 46,
     "metadata": {},
     "output_type": "execute_result"
    },
    {
     "data": {
      "image/png": "[encoded data removed]",
      "text/plain": [
       "<Figure size 432x288 with 2 Axes>"
      ]
     },
     "metadata": {
      "needs_background": "light"
     },
     "output_type": "display_data"
    }
   ],
   "source": [
    "X_train, X_test, y_train, y_test = TTS(X, y, random_state=22)\n",
    "PCM(cbc, X_test, y_test, normalize='true', cmap='Blues', \n",
    "    display_labels=['functional', \"need's repair\", 'non-functional'])"
   ]
  },
  {
   "cell_type": "markdown",
   "metadata": {
    "hidden": true
   },
   "source": [
    "Results: Same result for different group sizes (all, 500, 200, 100, 50, 20), will no longer try such large sizes with OHE"
   ]
  },
  {
   "cell_type": "code",
   "execution_count": 43,
   "metadata": {
    "ExecuteTime": {
     "end_time": "2021-02-17T06:46:25.736882Z",
     "start_time": "2021-02-17T06:46:24.280778Z"
    },
    "hidden": true
   },
   "outputs": [],
   "source": [
    "pickle_save(cbc, 'cbc')"
   ]
  },
  {
   "cell_type": "code",
   "execution_count": 56,
   "metadata": {
    "ExecuteTime": {
     "end_time": "2021-02-17T15:29:45.766269Z",
     "start_time": "2021-02-17T15:29:45.250648Z"
    },
    "hidden": true,
    "scrolled": true
   },
   "outputs": [
    {
     "data": {
      "text/plain": [
       "<BarContainer object of 40 artists>"
      ]
     },
     "execution_count": 56,
     "metadata": {},
     "output_type": "execute_result"
    },
    {
     "data": {
      "image/png": "[encoded data removed]",
      "text/plain": [
       "<Figure size 432x720 with 1 Axes>"
      ]
     },
     "metadata": {
      "needs_background": "light"
     },
     "output_type": "display_data"
    }
   ],
   "source": [
    "a, b = zip(*sorted(list(zip(cbc.feature_importances_, X.columns))))\n",
    "plt.figure(figsize=(6,10))\n",
    "plt.barh(b, a)"
   ]
  },
  {
   "cell_type": "markdown",
   "metadata": {},
   "source": [
    "## Conclusion"
   ]
  },
  {
   "cell_type": "markdown",
   "metadata": {},
   "source": [
    "Best model was CatBoost with a prediction of 81% accuracy on the test set    \n",
    "      \n",
    "The most important features were about the well's location. It makes sense that wells fed by the same source would dry up together\n",
    "However there was also some association between location and date recorded so wells near each other are more likely to be recorded in the same wet or dry season\n",
    "\n",
    "If the whole project were to be done again I would ask of the data collectors to include seasonally functional as separate class\n",
    "I would also ask them, if possible, to find the year a well became non-functional, which could turn this into more of a regression problem -how long does the well pump last?"
   ]
  },
  {
   "cell_type": "markdown",
   "metadata": {
    "heading_collapsed": true
   },
   "source": [
    "## Future Work"
   ]
  },
  {
   "cell_type": "markdown",
   "metadata": {
    "hidden": true
   },
   "source": [
    "With more time I’d like to:    \n",
    "Try using SMOTE on the smallest class    \n",
    "-Though I suspect it would have been detrimental to the overall accuracy    \n",
    "    \n",
    "Carry out further hyperparameter tuning in XGBoost and the Support Vector Classifier     \n",
    "Also, having all these models, I’d like to try using bagging methods with them to create an ensemble    \n",
    "    \n",
    "With more time still:    \n",
    "I’d go back and try using CatBoost to impute missing values in the original data    \n",
    "And also try H2O as another algorithm that can handle categories     \n",
    "\n",
    "\n",
    "I'd also move functions to separate file"
   ]
  },
  {
   "cell_type": "code",
   "execution_count": null,
   "metadata": {
    "hidden": true
   },
   "outputs": [],
   "source": []
  },
  {
   "cell_type": "code",
   "execution_count": null,
   "metadata": {
    "hidden": true
   },
   "outputs": [],
   "source": []
  }
 ],
 "metadata": {
  "kernelspec": {
   "display_name": "learn-env",
   "language": "python",
   "name": "learn-env"
  },
  "language_info": {
   "codemirror_mode": {
    "name": "ipython",
    "version": 3
   },
   "file_extension": ".py",
   "mimetype": "text/x-python",
   "name": "python",
   "nbconvert_exporter": "python",
   "pygments_lexer": "ipython3",
   "version": "3.6.9"
  },
  "notify_time": "30",
  "toc": {
   "base_numbering": 1,
   "nav_menu": {},
   "number_sections": false,
   "sideBar": true,
   "skip_h1_title": true,
   "title_cell": "Table of Contents",
   "title_sidebar": "Contents",
   "toc_cell": false,
   "toc_position": {
    "height": "740px",
    "left": "78px",
    "top": "180px",
    "width": "165px"
   },
   "toc_section_display": true,
   "toc_window_display": true
  },
  "varInspector": {
   "cols": {
    "lenName": 16,
    "lenType": 16,
    "lenVar": 40
   },
   "kernels_config": {
    "python": {
     "delete_cmd_postfix": "",
     "delete_cmd_prefix": "del ",
     "library": "var_list.py",
     "varRefreshCmd": "print(var_dic_list())"
    },
    "r": {
     "delete_cmd_postfix": ") ",
     "delete_cmd_prefix": "rm(",
     "library": "var_list.r",
     "varRefreshCmd": "cat(var_dic_list()) "
    }
   },
   "types_to_exclude": [
    "module",
    "function",
    "builtin_function_or_method",
    "instance",
    "_Feature"
   ],
   "window_display": false
  }
 },
 "nbformat": 4,
 "nbformat_minor": 4
}
